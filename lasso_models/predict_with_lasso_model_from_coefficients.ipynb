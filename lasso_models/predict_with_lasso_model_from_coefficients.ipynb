{
 "cells": [
  {
   "cell_type": "markdown",
   "metadata": {},
   "source": [
    "#### Summary\n",
    "\n",
    "The idea here is to read betas and corresponding columns from the given csv file and generate predictions on test data using the same."
   ]
  },
  {
   "cell_type": "code",
   "execution_count": 1,
   "metadata": {},
   "outputs": [],
   "source": [
    "import pandas as pd\n",
    "import numpy as np\n",
    "import time as time"
   ]
  },
  {
   "cell_type": "code",
   "execution_count": 2,
   "metadata": {},
   "outputs": [],
   "source": [
    "INPUT_DIR = '../input/'"
   ]
  },
  {
   "cell_type": "code",
   "execution_count": 3,
   "metadata": {},
   "outputs": [
    {
     "data": {
      "text/plain": [
       "72.7997829914093"
      ]
     },
     "execution_count": 3,
     "metadata": {},
     "output_type": "execute_result"
    }
   ],
   "source": [
    "ts = time.time()\n",
    "test_data = pd.read_csv(INPUT_DIR + 'test.csv')\n",
    "time.time() - ts"
   ]
  },
  {
   "cell_type": "code",
   "execution_count": 6,
   "metadata": {},
   "outputs": [],
   "source": [
    "def write_lasso_model_predictions_to_file(test_data, lasso_model_file, output_predictions_file):\n",
    "    lasso_model = pd.read_csv(lasso_model_file)\n",
    "    \n",
    "    # Rename the column name, which is obtained from the R output file.\n",
    "    lasso_model.rename(columns={'Unnamed: 0':'column_name', 'x': 'coefficient'}, inplace=True)\n",
    "    \n",
    "    # R normalizes the column names by adding X if it starts with a number. Make sure that we take care of it.\n",
    "    lasso_model['column_name'] = lasso_model['column_name'].apply(lambda x : x.lstrip('X'))\n",
    "    \n",
    "    # Gets the non zero coefficients to dictionary for easier manipulations later.\n",
    "    col_to_coef_dict = dict(zip(lasso_model.column_name, lasso_model.coefficient))\n",
    "    \n",
    "    # Remove the ID as we will not be using it for predictions.\n",
    "    test_data_without_ID = test_data.drop(columns=['ID'])\n",
    "    \n",
    "    # Populates the model coefficients to a matrix for ease in multiplications later.\n",
    "    columns_coef_matrix = np.zeros((len(test_data_without_ID.columns), 1))\n",
    "    \n",
    "    i = 0\n",
    "    for col in test_data_without_ID.columns:\n",
    "        columns_coef_matrix[i, 0] = col_to_coef_dict.get(col, 0)\n",
    "        i += 1    \n",
    "    \n",
    "    print(np.sum(columns_coef_matrix > 0))\n",
    "    test_data_without_ID_matrix = test_data_without_ID.to_numpy()\n",
    "    \n",
    "    \n",
    "    # Gets predictions by matrix multiplication.\n",
    "    predictions = test_data_without_ID_matrix @ columns_coef_matrix\n",
    "    \n",
    "    test_data['target'] = predictions\n",
    "    test_data[['ID', 'target']].to_csv(output_predictions_file, index=False)\n",
    "    "
   ]
  },
  {
   "cell_type": "code",
   "execution_count": 7,
   "metadata": {},
   "outputs": [
    {
     "name": "stdout",
     "output_type": "stream",
     "text": [
      "20\n"
     ]
    },
    {
     "data": {
      "text/plain": [
       "3.7546470165252686"
      ]
     },
     "execution_count": 7,
     "metadata": {},
     "output_type": "execute_result"
    }
   ],
   "source": [
    "ts = time.time()\n",
    "write_lasso_model_predictions_to_file(test_data, \n",
    "                                      'minimum_cv_lasso_model_columns_and_coefficients.csv',\n",
    "                                      'minimum_cv_lasso_model_predictions.csv')\n",
    "time.time() - ts"
   ]
  },
  {
   "cell_type": "code",
   "execution_count": 8,
   "metadata": {},
   "outputs": [
    {
     "name": "stdout",
     "output_type": "stream",
     "text": [
      "48\n"
     ]
    },
    {
     "data": {
      "text/plain": [
       "1.4280719757080078"
      ]
     },
     "execution_count": 8,
     "metadata": {},
     "output_type": "execute_result"
    }
   ],
   "source": [
    "ts = time.time()\n",
    "write_lasso_model_predictions_to_file(test_data, \n",
    "                                      'one_se_cv_lasso_model_columns_and_coefficients.csv',\n",
    "                                      'one_se_cv_lasso_model_predictions.csv')\n",
    "time.time() - ts"
   ]
  }
 ],
 "metadata": {
  "kernelspec": {
   "display_name": "Python 3",
   "language": "python",
   "name": "python3"
  },
  "language_info": {
   "codemirror_mode": {
    "name": "ipython",
    "version": 3
   },
   "file_extension": ".py",
   "mimetype": "text/x-python",
   "name": "python",
   "nbconvert_exporter": "python",
   "pygments_lexer": "ipython3",
   "version": "3.6.8"
  }
 },
 "nbformat": 4,
 "nbformat_minor": 2
}
