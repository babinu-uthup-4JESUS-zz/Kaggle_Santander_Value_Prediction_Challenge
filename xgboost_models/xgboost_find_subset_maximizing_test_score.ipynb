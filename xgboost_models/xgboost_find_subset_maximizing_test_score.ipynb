{
 "cells": [
  {
   "cell_type": "markdown",
   "metadata": {},
   "source": [
    "## Summary\n",
    "\n",
    "The ideas is to start with a superset of predictor columns and find a subset of the same which maximizes validation score using a stepwise greedy algorithm."
   ]
  },
  {
   "cell_type": "code",
   "execution_count": 3,
   "metadata": {},
   "outputs": [],
   "source": [
    "import pandas as pd\n",
    "import numpy as np\n",
    "import time as time\n",
    "import xgboost as xgb"
   ]
  },
  {
   "cell_type": "code",
   "execution_count": 8,
   "metadata": {},
   "outputs": [],
   "source": [
    "INPUT_DIR = '../input/'"
   ]
  },
  {
   "cell_type": "code",
   "execution_count": 9,
   "metadata": {},
   "outputs": [
    {
     "data": {
      "text/plain": [
       "5.548439979553223"
      ]
     },
     "execution_count": 9,
     "metadata": {},
     "output_type": "execute_result"
    }
   ],
   "source": [
    "ts = time.time()\n",
    "train = pd.read_csv(INPUT_DIR + 'train.csv')\n",
    "time.time() - ts"
   ]
  },
  {
   "cell_type": "code",
   "execution_count": 10,
   "metadata": {},
   "outputs": [
    {
     "data": {
      "text/plain": [
       "70.9879629611969"
      ]
     },
     "execution_count": 10,
     "metadata": {},
     "output_type": "execute_result"
    }
   ],
   "source": [
    "ts = time.time()\n",
    "test = pd.read_csv(INPUT_DIR + 'test.csv')\n",
    "time.time() - ts"
   ]
  },
  {
   "cell_type": "code",
   "execution_count": 11,
   "metadata": {},
   "outputs": [],
   "source": [
    "train['new_target'] = np.log(train['target'] + 1.0)"
   ]
  },
  {
   "cell_type": "markdown",
   "metadata": {},
   "source": [
    "### Formalizing the code to a routine."
   ]
  },
  {
   "cell_type": "code",
   "execution_count": 13,
   "metadata": {},
   "outputs": [],
   "source": [
    " def get_model_with_predictors_beyond_given_non_zero_threshold(percent_threshold=10, \n",
    "                                                              show_evaluation = True,\n",
    "                                                              data=train):\n",
    "    \n",
    "    rel_cols = get_rel_cols(percent_threshold, data)\n",
    "\n",
    "    ### Now, let us train gradient boosting model using xgboost\n",
    "\n",
    "    X_COLUMNS = rel_cols\n",
    "    Y_COLUMN = 'new_target'\n",
    "\n",
    "    X = train[X_COLUMNS]\n",
    "    Y = train[[Y_COLUMN]]\n",
    "\n",
    "    xgb_complete_data = xgb.DMatrix(X, Y, feature_names=X_COLUMNS)\n",
    "    xgb_params = {'eta' : 0.01, 'eval_metric' : 'rmse'}\n",
    "\n",
    "    model_xgboost = xgb.cv(params=xgb_params,\n",
    "                           dtrain=xgb_complete_data,\n",
    "                           num_boost_round=1000,\n",
    "                           nfold=5,\n",
    "                           early_stopping_rounds=5)\n",
    "\n",
    "    return (len(rel_cols), model_xgboost)\n"
   ]
  },
  {
   "cell_type": "code",
   "execution_count": 14,
   "metadata": {},
   "outputs": [],
   "source": [
    "optim_percent=17"
   ]
  },
  {
   "cell_type": "markdown",
   "metadata": {},
   "source": [
    "## Find the model using a column subset that maximizes out of sample score"
   ]
  },
  {
   "cell_type": "code",
   "execution_count": 23,
   "metadata": {},
   "outputs": [],
   "source": [
    "def get_rel_cols(percent_threshold, data):\n",
    "    cols_apart_from_id_and_target = [col for col in data.columns if col not in ['ID', 'target', 'new_target']]\n",
    "\n",
    "    non_zero_percent_for_col = np.zeros(len(cols_apart_from_id_and_target))\n",
    "\n",
    "    for i in range(len(cols_apart_from_id_and_target)):\n",
    "        non_zero_percent_for_col[i] = \\\n",
    "            100.0* len(data[cols_apart_from_id_and_target[i]].to_numpy().nonzero()[0])/\\\n",
    "        len(data[cols_apart_from_id_and_target[i]].to_numpy())    \n",
    "\n",
    "    num_rel_entries = np.sum(non_zero_percent_for_col > percent_threshold)\n",
    "\n",
    "    rel_col_indices = np.argsort(non_zero_percent_for_col)[::-1][0:num_rel_entries]\n",
    "\n",
    "    rel_cols = [cols_apart_from_id_and_target[col] for col in rel_col_indices]\n",
    "    \n",
    "    return rel_cols"
   ]
  },
  {
   "cell_type": "code",
   "execution_count": 16,
   "metadata": {},
   "outputs": [],
   "source": [
    "FULL_COLS_LIST = get_rel_cols(17, train)"
   ]
  },
  {
   "cell_type": "code",
   "execution_count": 17,
   "metadata": {},
   "outputs": [],
   "source": [
    "def get_prediction_score(X_COLUMNS, data=train):\n",
    "    Y_COLUMN = 'new_target'\n",
    "\n",
    "    X = data[X_COLUMNS]\n",
    "    Y = data[[Y_COLUMN]]\n",
    "    \n",
    "    xgb_complete_data = xgb.DMatrix(X, Y, feature_names=X_COLUMNS)\n",
    "    xgb_params = {'eta' : 0.01, 'eval_metric' : 'rmse'}\n",
    "    \n",
    "    model_xgboost = xgb.cv(params=xgb_params,\n",
    "                           dtrain=xgb_complete_data,\n",
    "                           num_boost_round=1000,\n",
    "                           nfold=5,\n",
    "                           early_stopping_rounds=5)\n",
    "                           \n",
    "    return model_xgboost['test-rmse-mean'].min()"
   ]
  },
  {
   "cell_type": "code",
   "execution_count": 18,
   "metadata": {},
   "outputs": [],
   "source": [
    "import operator\n",
    "def get_prediction_score_given_predictors(given_list, data):\n",
    "    col_list_to_score = {}\n",
    "    for col in FULL_COLS_LIST:\n",
    "        if col not in given_list:\n",
    "            cols_list = given_list + [col]\n",
    "            score = get_prediction_score(cols_list, data)\n",
    "            col_list_to_score[str(cols_list)] = score\n",
    "\n",
    "    return sorted(col_list_to_score.items(), key=operator.itemgetter(1))"
   ]
  },
  {
   "cell_type": "code",
   "execution_count": 20,
   "metadata": {},
   "outputs": [
    {
     "name": "stdout",
     "output_type": "stream",
     "text": [
      "['0ff32eb98']\n",
      "['c5a231d81']\n",
      "['91f701ba2']\n",
      "['c47340d97']\n",
      "['0572565c2']\n",
      "['adb64ff71']\n",
      "['f190486d6']\n",
      "['5c6487af1']\n",
      "['e176a204a']\n",
      "['6619d81fc']\n",
      "['70feb1494']\n",
      "['23310aa6f']\n",
      "['190db8488']\n",
      "['1db387535']\n",
      "['491b9ee45']\n",
      "['66ace2992']\n",
      "['9fd594eec']\n",
      "['fc99f9426']\n",
      "['58e2e02e6']\n",
      "['703885424']\n",
      "['eeb9cd3aa']\n",
      "['1931ccfdd']\n",
      "['324921c7b']\n",
      "['1702b5bf0']\n",
      "['fb0f5dbfe']\n",
      "['f74e8f13d']\n",
      "['20aa07010']\n",
      "['26fc93eb7']\n",
      "['58232a6fb']\n",
      "['15ace8c9f']\n",
      "['fb49e4212']\n",
      "['2ec5b290f']\n",
      "['62e59a501']\n",
      "['963a49cdc']\n",
      "['58e056e12']\n",
      "['241f0f867']\n",
      "['6eef030c1']\n",
      "['b43a7cfd5']\n",
      "['d6bb78916']\n",
      "['024c577b9']\n",
      "['11e12dbe8']\n",
      "['166008929']\n",
      "['861076e21']\n",
      "['f02ecb19c']\n",
      "['f97d9431e']\n",
      "['9de83dc23']\n",
      "['ca2b906e8']\n",
      "['935ca66a9']\n",
      "['a09a238d0']\n",
      "['77deffdf0']\n",
      "['bb0ce54e9']\n",
      "['c8d582dd2']\n",
      "['c0d2348b7']\n",
      "['8781e4b91']\n",
      "['bd6da0cca']\n",
      "['cbb673163']\n",
      "['68a945b18']\n",
      "['c10f31664']\n",
      "['ad009c8b9']\n",
      "['62fb56487']\n",
      "['ea772e115']\n",
      "['bc70cbc26']\n",
      "['939f628a7']\n",
      "['4bcf15776']\n",
      "['1fe5d56b9']\n",
      "['7e814a30d']\n",
      "['5d3b81ef8']\n",
      "['aca228668']\n",
      "['ef30f6be5']\n",
      "['070f95c99']\n",
      "['4da206d28']\n",
      "['b7c931383']\n",
      "['b4cfe861f']\n",
      "['2155f5e16']\n",
      "['b85fa8b27']\n",
      "['44d5b820f']\n",
      "['122c135ed']\n",
      "['fb387ea33']\n",
      "['c928b4b74']\n",
      "['a6e871369']\n",
      "['ea4046b8d']\n",
      "['0dc4d6c7d']\n",
      "['51d4053c7']\n",
      "['a6b6bc34a']\n",
      "['1184df5c2']\n",
      "['350473311']\n",
      "['2288333b4']\n",
      "['8f57141ec']\n",
      "['02861e414']\n",
      "['794e93ca6']\n",
      "['a8b721722']\n",
      "['0d51722ca']\n",
      "['e222309b0']\n",
      "['f190486d6', '0ff32eb98']\n",
      "['f190486d6', 'c5a231d81']\n",
      "['f190486d6', '91f701ba2']\n",
      "['f190486d6', 'c47340d97']\n",
      "['f190486d6', '0572565c2']\n",
      "['f190486d6', 'adb64ff71']\n",
      "['f190486d6', '5c6487af1']\n",
      "['f190486d6', 'e176a204a']\n",
      "['f190486d6', '6619d81fc']\n",
      "['f190486d6', '70feb1494']\n",
      "['f190486d6', '23310aa6f']\n",
      "['f190486d6', '190db8488']\n",
      "['f190486d6', '1db387535']\n",
      "['f190486d6', '491b9ee45']\n",
      "['f190486d6', '66ace2992']\n",
      "['f190486d6', '9fd594eec']\n",
      "['f190486d6', 'fc99f9426']\n",
      "['f190486d6', '58e2e02e6']\n",
      "['f190486d6', '703885424']\n",
      "['f190486d6', 'eeb9cd3aa']\n",
      "['f190486d6', '1931ccfdd']\n",
      "['f190486d6', '324921c7b']\n",
      "['f190486d6', '1702b5bf0']\n",
      "['f190486d6', 'fb0f5dbfe']\n",
      "['f190486d6', 'f74e8f13d']\n",
      "['f190486d6', '20aa07010']\n",
      "['f190486d6', '26fc93eb7']\n",
      "['f190486d6', '58232a6fb']\n",
      "['f190486d6', '15ace8c9f']\n",
      "['f190486d6', 'fb49e4212']\n",
      "['f190486d6', '2ec5b290f']\n",
      "['f190486d6', '62e59a501']\n",
      "['f190486d6', '963a49cdc']\n",
      "['f190486d6', '58e056e12']\n",
      "['f190486d6', '241f0f867']\n",
      "['f190486d6', '6eef030c1']\n",
      "['f190486d6', 'b43a7cfd5']\n",
      "['f190486d6', 'd6bb78916']\n",
      "['f190486d6', '024c577b9']\n",
      "['f190486d6', '11e12dbe8']\n",
      "['f190486d6', '166008929']\n",
      "['f190486d6', '861076e21']\n",
      "['f190486d6', 'f02ecb19c']\n",
      "['f190486d6', 'f97d9431e']\n",
      "['f190486d6', '9de83dc23']\n",
      "['f190486d6', 'ca2b906e8']\n",
      "['f190486d6', '935ca66a9']\n",
      "['f190486d6', 'a09a238d0']\n",
      "['f190486d6', '77deffdf0']\n",
      "['f190486d6', 'bb0ce54e9']\n",
      "['f190486d6', 'c8d582dd2']\n",
      "['f190486d6', 'c0d2348b7']\n",
      "['f190486d6', '8781e4b91']\n",
      "['f190486d6', 'bd6da0cca']\n",
      "['f190486d6', 'cbb673163']\n",
      "['f190486d6', '68a945b18']\n",
      "['f190486d6', 'c10f31664']\n",
      "['f190486d6', 'ad009c8b9']\n",
      "['f190486d6', '62fb56487']\n",
      "['f190486d6', 'ea772e115']\n",
      "['f190486d6', 'bc70cbc26']\n",
      "['f190486d6', '939f628a7']\n",
      "['f190486d6', '4bcf15776']\n",
      "['f190486d6', '1fe5d56b9']\n",
      "['f190486d6', '7e814a30d']\n",
      "['f190486d6', '5d3b81ef8']\n",
      "['f190486d6', 'aca228668']\n",
      "['f190486d6', 'ef30f6be5']\n",
      "['f190486d6', '070f95c99']\n",
      "['f190486d6', '4da206d28']\n",
      "['f190486d6', 'b7c931383']\n",
      "['f190486d6', 'b4cfe861f']\n",
      "['f190486d6', '2155f5e16']\n",
      "['f190486d6', 'b85fa8b27']\n",
      "['f190486d6', '44d5b820f']\n",
      "['f190486d6', '122c135ed']\n",
      "['f190486d6', 'fb387ea33']\n",
      "['f190486d6', 'c928b4b74']\n",
      "['f190486d6', 'a6e871369']\n",
      "['f190486d6', 'ea4046b8d']\n",
      "['f190486d6', '0dc4d6c7d']\n",
      "['f190486d6', '51d4053c7']\n",
      "['f190486d6', 'a6b6bc34a']\n",
      "['f190486d6', '1184df5c2']\n",
      "['f190486d6', '350473311']\n",
      "['f190486d6', '2288333b4']\n",
      "['f190486d6', '8f57141ec']\n",
      "['f190486d6', '02861e414']\n",
      "['f190486d6', '794e93ca6']\n",
      "['f190486d6', 'a8b721722']\n",
      "['f190486d6', '0d51722ca']\n",
      "['f190486d6', 'e222309b0']\n"
     ]
    },
    {
     "data": {
      "text/plain": [
       "631.5326697826385"
      ]
     },
     "execution_count": 20,
     "metadata": {},
     "output_type": "execute_result"
    }
   ],
   "source": [
    "import ast\n",
    "ts = time.time()\n",
    "columns_list = []\n",
    "MAX_NUM_PREDICTORS = 50\n",
    "max_columns_list_to_score = dict()\n",
    "while len(columns_list) < MAX_NUM_PREDICTORS:\n",
    "    col_list_to_score = get_prediction_score_given_predictors(columns_list, train)\n",
    "    columns_list = ast.literal_eval(col_list_to_score[0][0])\n",
    "    max_columns_list_to_score[col_list_to_score[0][0]] = col_list_to_score[0][1]\n",
    "\n",
    "time.time() - ts "
   ]
  },
  {
   "cell_type": "code",
   "execution_count": 21,
   "metadata": {},
   "outputs": [
    {
     "data": {
      "text/plain": [
       "[(\"['f190486d6', 'eeb9cd3aa']\", 1.5907924),\n",
       " (\"['f190486d6', 'c5a231d81']\", 1.5921315999999999),\n",
       " (\"['f190486d6', '58e2e02e6']\", 1.5931056000000001),\n",
       " (\"['f190486d6', 'c47340d97']\", 1.5931978),\n",
       " (\"['f190486d6', '91f701ba2']\", 1.5935762),\n",
       " (\"['f190486d6', '1db387535']\", 1.5941120000000002),\n",
       " (\"['f190486d6', 'e176a204a']\", 1.595348),\n",
       " (\"['f190486d6', '1931ccfdd']\", 1.5977874),\n",
       " (\"['f190486d6', '15ace8c9f']\", 1.5980607999999998),\n",
       " (\"['f190486d6', '2ec5b290f']\", 1.598067),\n",
       " (\"['f190486d6', '66ace2992']\", 1.5988718),\n",
       " (\"['f190486d6', 'adb64ff71']\", 1.5988748),\n",
       " (\"['f190486d6', '024c577b9']\", 1.5993545999999998),\n",
       " (\"['f190486d6', '0ff32eb98']\", 1.5997986000000002),\n",
       " (\"['f190486d6', '1702b5bf0']\", 1.6001374),\n",
       " (\"['f190486d6', '703885424']\", 1.6003938000000002),\n",
       " (\"['f190486d6', '491b9ee45']\", 1.6010132000000001),\n",
       " (\"['f190486d6', '58e056e12']\", 1.6019039999999998),\n",
       " (\"['f190486d6', '6eef030c1']\", 1.6025362),\n",
       " (\"['f190486d6', '0572565c2']\", 1.6030445999999998),\n",
       " (\"['f190486d6', '62e59a501']\", 1.6030668000000001),\n",
       " (\"['f190486d6', '70feb1494']\", 1.6038546),\n",
       " (\"['f190486d6', '9fd594eec']\", 1.6042124000000002),\n",
       " (\"['f190486d6', '963a49cdc']\", 1.6046656000000001),\n",
       " (\"['f190486d6', '26fc93eb7']\", 1.6054574000000001),\n",
       " (\"['f190486d6', 'fc99f9426']\", 1.6061612),\n",
       " (\"['f190486d6', '6619d81fc']\", 1.6063866),\n",
       " (\"['f190486d6', '5c6487af1']\", 1.606474),\n",
       " (\"['f190486d6', 'f74e8f13d']\", 1.6068691999999998),\n",
       " (\"['f190486d6', 'fb49e4212']\", 1.6068926000000001),\n",
       " (\"['f190486d6', 'd6bb78916']\", 1.6071164),\n",
       " (\"['f190486d6', '23310aa6f']\", 1.6078769999999998),\n",
       " (\"['f190486d6', '324921c7b']\", 1.6081522),\n",
       " (\"['f190486d6', '190db8488']\", 1.6084022),\n",
       " (\"['f190486d6', '241f0f867']\", 1.6095672),\n",
       " (\"['f190486d6', 'fb0f5dbfe']\", 1.6099842),\n",
       " (\"['f190486d6', 'b43a7cfd5']\", 1.6110479999999998),\n",
       " (\"['f190486d6', '58232a6fb']\", 1.6115292),\n",
       " (\"['f190486d6', 'a09a238d0']\", 1.6125712),\n",
       " (\"['f190486d6', '20aa07010']\", 1.6129172),\n",
       " (\"['f190486d6', '2288333b4']\", 1.6147977999999998),\n",
       " (\"['f190486d6', '350473311']\", 1.6150936000000002),\n",
       " (\"['f190486d6', '166008929']\", 1.6178164),\n",
       " (\"['f190486d6', '861076e21']\", 1.6182744),\n",
       " (\"['f190486d6', '77deffdf0']\", 1.6186084),\n",
       " (\"['f190486d6', '8f57141ec']\", 1.6190010000000001),\n",
       " (\"['f190486d6', 'cbb673163']\", 1.6199388),\n",
       " (\"['f190486d6', 'c8d582dd2']\", 1.6200438),\n",
       " (\"['f190486d6', 'bc70cbc26']\", 1.6203634),\n",
       " (\"['f190486d6', 'f02ecb19c']\", 1.6209796),\n",
       " (\"['f190486d6', 'bb0ce54e9']\", 1.6213046000000002),\n",
       " (\"['f190486d6', 'a6e871369']\", 1.6213307999999997),\n",
       " (\"['f190486d6', 'e222309b0']\", 1.6224114),\n",
       " (\"['f190486d6', 'f97d9431e']\", 1.6224890000000003),\n",
       " (\"['f190486d6', '44d5b820f']\", 1.6225518),\n",
       " (\"['f190486d6', '1184df5c2']\", 1.6226702),\n",
       " (\"['f190486d6', 'c0d2348b7']\", 1.6227354000000003),\n",
       " (\"['f190486d6', '8781e4b91']\", 1.623162),\n",
       " (\"['f190486d6', '2155f5e16']\", 1.6233454000000003),\n",
       " (\"['f190486d6', '070f95c99']\", 1.6238936),\n",
       " (\"['f190486d6', '9de83dc23']\", 1.6240991999999999),\n",
       " (\"['f190486d6', '4da206d28']\", 1.6241934),\n",
       " (\"['f190486d6', '7e814a30d']\", 1.6247832000000002),\n",
       " (\"['f190486d6', '62fb56487']\", 1.624993),\n",
       " (\"['f190486d6', '794e93ca6']\", 1.6250758),\n",
       " (\"['f190486d6', '02861e414']\", 1.6252870000000001),\n",
       " (\"['f190486d6', 'ca2b906e8']\", 1.6254836000000001),\n",
       " (\"['f190486d6', '68a945b18']\", 1.6257638),\n",
       " (\"['f190486d6', 'aca228668']\", 1.6260531999999999),\n",
       " (\"['f190486d6', 'ad009c8b9']\", 1.6260815999999998),\n",
       " (\"['f190486d6', 'b4cfe861f']\", 1.6266309999999997),\n",
       " (\"['f190486d6', '935ca66a9']\", 1.6267745999999998),\n",
       " (\"['f190486d6', 'ef30f6be5']\", 1.6269128),\n",
       " (\"['f190486d6', 'c10f31664']\", 1.627094),\n",
       " (\"['f190486d6', 'ea772e115']\", 1.6272238),\n",
       " (\"['f190486d6', 'a8b721722']\", 1.6273548000000002),\n",
       " (\"['f190486d6', 'fb387ea33']\", 1.6277474),\n",
       " (\"['f190486d6', '11e12dbe8']\", 1.6282372000000003),\n",
       " (\"['f190486d6', 'b85fa8b27']\", 1.6284135999999996),\n",
       " (\"['f190486d6', '4bcf15776']\", 1.629354),\n",
       " (\"['f190486d6', '1fe5d56b9']\", 1.6294012000000002),\n",
       " (\"['f190486d6', '0dc4d6c7d']\", 1.6294422000000002),\n",
       " (\"['f190486d6', '5d3b81ef8']\", 1.6295662),\n",
       " (\"['f190486d6', '0d51722ca']\", 1.6300139999999999),\n",
       " (\"['f190486d6', 'ea4046b8d']\", 1.630743),\n",
       " (\"['f190486d6', 'bd6da0cca']\", 1.6317840000000001),\n",
       " (\"['f190486d6', '939f628a7']\", 1.6320071999999999),\n",
       " (\"['f190486d6', '51d4053c7']\", 1.6326968000000002),\n",
       " (\"['f190486d6', 'b7c931383']\", 1.6327697999999997),\n",
       " (\"['f190486d6', '122c135ed']\", 1.6342148),\n",
       " (\"['f190486d6', 'a6b6bc34a']\", 1.6345844),\n",
       " (\"['f190486d6', 'c928b4b74']\", 1.6394513999999998)]"
      ]
     },
     "execution_count": 21,
     "metadata": {},
     "output_type": "execute_result"
    }
   ],
   "source": [
    "col_list_to_score"
   ]
  },
  {
   "cell_type": "code",
   "execution_count": 22,
   "metadata": {},
   "outputs": [
    {
     "data": {
      "text/plain": [
       "{\"['f190486d6']\": 1.6449045999999998, \"['f190486d6', 'eeb9cd3aa']\": 1.5907924}"
      ]
     },
     "execution_count": 22,
     "metadata": {},
     "output_type": "execute_result"
    }
   ],
   "source": [
    "max_columns_list_to_score"
   ]
  }
 ],
 "metadata": {
  "kernelspec": {
   "display_name": "Python 3",
   "language": "python",
   "name": "python3"
  },
  "language_info": {
   "codemirror_mode": {
    "name": "ipython",
    "version": 3
   },
   "file_extension": ".py",
   "mimetype": "text/x-python",
   "name": "python",
   "nbconvert_exporter": "python",
   "pygments_lexer": "ipython3",
   "version": "3.6.9"
  }
 },
 "nbformat": 4,
 "nbformat_minor": 2
}
