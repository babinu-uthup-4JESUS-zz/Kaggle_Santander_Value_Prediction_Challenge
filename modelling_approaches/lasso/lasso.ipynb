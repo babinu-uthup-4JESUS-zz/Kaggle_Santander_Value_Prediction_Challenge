{
 "cells": [
  {
   "cell_type": "markdown",
   "metadata": {},
   "source": [
    "## Summary\n",
    "\n",
    "To apply lasso technique to the given problem of predicting customer value."
   ]
  },
  {
   "cell_type": "code",
   "execution_count": 27,
   "metadata": {},
   "outputs": [],
   "source": [
    "import time\n",
    "\n",
    "import sys\n",
    "sys.path.append('../../common_routines/')\n",
    "\n",
    "from relevant_functions import (get_train_data,\n",
    "                                get_test_data,\n",
    "                                get_all_predictor_cols,\n",
    "                                get_rel_cols,\n",
    "                                fit_pipeline_and_cross_validate)\n",
    "\n",
    "from sklearn.pipeline import Pipeline\n",
    "from sklearn.linear_model import Lasso\n",
    "from sklearn.preprocessing import StandardScaler\n",
    "from sklearn.model_selection import cross_val_score\n",
    "\n",
    "import numpy as np"
   ]
  },
  {
   "cell_type": "code",
   "execution_count": 2,
   "metadata": {},
   "outputs": [],
   "source": [
    "INPUT_DIR = '../../input/'"
   ]
  },
  {
   "cell_type": "code",
   "execution_count": 3,
   "metadata": {},
   "outputs": [
    {
     "data": {
      "text/plain": [
       "5.154975891113281"
      ]
     },
     "execution_count": 3,
     "metadata": {},
     "output_type": "execute_result"
    }
   ],
   "source": [
    "ts = time.time()\n",
    "train = get_train_data(INPUT_DIR)\n",
    "time.time() - ts"
   ]
  },
  {
   "cell_type": "markdown",
   "metadata": {},
   "source": [
    "### Construct a lasso pipeline\n",
    "\n",
    "Let us a construct a pipeline with lasso and do cross validation using the same."
   ]
  },
  {
   "cell_type": "code",
   "execution_count": 4,
   "metadata": {},
   "outputs": [],
   "source": [
    "def get_lasso_pipeline(alpha):\n",
    "    my_pipe = Pipeline([('standardize', StandardScaler()),\n",
    "                         ('lasso', Lasso(alpha=alpha))])\n",
    "    return my_pipe"
   ]
  },
  {
   "cell_type": "code",
   "execution_count": 5,
   "metadata": {},
   "outputs": [],
   "source": [
    "all_predictor_cols = get_all_predictor_cols(train)"
   ]
  },
  {
   "cell_type": "code",
   "execution_count": 30,
   "metadata": {},
   "outputs": [],
   "source": [
    "def compute_lasso_cross_val_scores(X, Y, alpha):\n",
    "    cross_val_scores = cross_val_score(get_lasso_pipeline(alpha), X, Y, cv=5, scoring='neg_mean_squared_error')\n",
    "    return np.sqrt(-cross_val_scores.mean())\n"
   ]
  },
  {
   "cell_type": "code",
   "execution_count": 41,
   "metadata": {},
   "outputs": [],
   "source": [
    "X = train[all_predictor_cols]\n",
    "Y = train[['log_target']]"
   ]
  },
  {
   "cell_type": "code",
   "execution_count": 42,
   "metadata": {},
   "outputs": [],
   "source": [
    "alpha_to_cross_val_score = dict()"
   ]
  },
  {
   "cell_type": "code",
   "execution_count": 43,
   "metadata": {},
   "outputs": [],
   "source": [
    "for i in range(1, 2):\n",
    "    alpha_to_cross_val_score[i] = compute_lasso_cross_val_scores(X, Y, alpha=i)"
   ]
  },
  {
   "cell_type": "code",
   "execution_count": 44,
   "metadata": {},
   "outputs": [],
   "source": [
    "alpha_val = 0.9\n",
    "alpha_to_cross_val_score[alpha_val] = compute_lasso_cross_val_scores(X, Y, alpha=alpha_val)"
   ]
  },
  {
   "cell_type": "code",
   "execution_count": 45,
   "metadata": {},
   "outputs": [],
   "source": [
    "alpha_val = 0.8\n",
    "alpha_to_cross_val_score[alpha_val] = compute_lasso_cross_val_scores(X, Y, alpha=alpha_val)"
   ]
  },
  {
   "cell_type": "code",
   "execution_count": 46,
   "metadata": {},
   "outputs": [
    {
     "data": {
      "text/plain": [
       "{1: 1.7514306049469586, 0.9: 1.7514306049469586, 0.8: 1.7514306049469586}"
      ]
     },
     "execution_count": 46,
     "metadata": {},
     "output_type": "execute_result"
    }
   ],
   "source": [
    "alpha_to_cross_val_score"
   ]
  },
  {
   "cell_type": "code",
   "execution_count": 47,
   "metadata": {},
   "outputs": [
    {
     "name": "stderr",
     "output_type": "stream",
     "text": [
      "/Users/babs4JESUS/anaconda3/lib/python3.6/site-packages/sklearn/linear_model/coordinate_descent.py:475: ConvergenceWarning: Objective did not converge. You might want to increase the number of iterations. Duality gap: 1.4241311170208064, tolerance: 1.0857774362208574\n",
      "  positive)\n"
     ]
    },
    {
     "data": {
      "text/plain": [
       "184.7812840938568"
      ]
     },
     "execution_count": 47,
     "metadata": {},
     "output_type": "execute_result"
    }
   ],
   "source": [
    "ts = time.time()\n",
    "for num in range(1, 21):\n",
    "    alpha_val = num * 0.01\n",
    "    alpha_to_cross_val_score[alpha_val] = compute_lasso_cross_val_scores(X, Y, alpha=alpha_val)\n",
    "time.time() - ts"
   ]
  },
  {
   "cell_type": "code",
   "execution_count": 48,
   "metadata": {},
   "outputs": [
    {
     "data": {
      "text/plain": [
       "{1: 1.7514306049469586,\n",
       " 0.9: 1.7514306049469586,\n",
       " 0.8: 1.7514306049469586,\n",
       " 0.01: 784.8663261220631,\n",
       " 0.02: 574.591286309348,\n",
       " 0.03: 388.2168158058309,\n",
       " 0.04: 204.68925146617278,\n",
       " 0.05: 52.55413038151087,\n",
       " 0.06: 1.8679788109110822,\n",
       " 0.07: 1.712354970192694,\n",
       " 0.08: 1.6769576437419382,\n",
       " 0.09: 1.6798809949740479,\n",
       " 0.1: 1.683298721314856,\n",
       " 0.11: 1.6870429817463448,\n",
       " 0.12: 1.6907825438745814,\n",
       " 0.13: 1.6939645937925927,\n",
       " 0.14: 1.696822668124505,\n",
       " 0.15: 1.6992788482682242,\n",
       " 0.16: 1.7014638774568045,\n",
       " 0.17: 1.7034399969174876,\n",
       " 0.18: 1.7055648349841093,\n",
       " 0.19: 1.7078122663509916,\n",
       " 0.2: 1.7102115401579214}"
      ]
     },
     "execution_count": 48,
     "metadata": {},
     "output_type": "execute_result"
    }
   ],
   "source": [
    "alpha_to_cross_val_score"
   ]
  },
  {
   "cell_type": "markdown",
   "metadata": {},
   "source": [
    "### Running the same experiment on log transformed predictors\n",
    "\n",
    "Let us repeat the same procedure, this time on log transformed predictors as opposed to the original ones."
   ]
  },
  {
   "cell_type": "code",
   "execution_count": 49,
   "metadata": {},
   "outputs": [],
   "source": [
    "train_new = train.copy()"
   ]
  },
  {
   "cell_type": "code",
   "execution_count": 50,
   "metadata": {},
   "outputs": [],
   "source": [
    "for col in all_predictor_cols:\n",
    "    train_new['log_' + col] = np.log(train_new[col] + 1.0)"
   ]
  },
  {
   "cell_type": "code",
   "execution_count": 51,
   "metadata": {},
   "outputs": [],
   "source": [
    "all_log_predictor_cols = ['log_' + col for col in all_predictor_cols ]"
   ]
  },
  {
   "cell_type": "code",
   "execution_count": 73,
   "metadata": {},
   "outputs": [],
   "source": [
    "alpha_to_log_cross_val_score = dict()"
   ]
  },
  {
   "cell_type": "code",
   "execution_count": 78,
   "metadata": {},
   "outputs": [],
   "source": [
    "X = train_new[all_log_predictor_cols]\n",
    "Y = train_new[['log_target']]"
   ]
  },
  {
   "cell_type": "code",
   "execution_count": 74,
   "metadata": {},
   "outputs": [],
   "source": [
    "alpha_val = 1.0\n",
    "alpha_to_log_cross_val_score[alpha_val] = compute_lasso_cross_val_scores(X, Y, alpha=alpha_val)"
   ]
  },
  {
   "cell_type": "code",
   "execution_count": 75,
   "metadata": {},
   "outputs": [
    {
     "data": {
      "text/plain": [
       "{1.0: 1.7514306049469586}"
      ]
     },
     "execution_count": 75,
     "metadata": {},
     "output_type": "execute_result"
    }
   ],
   "source": [
    "alpha_to_log_cross_val_score"
   ]
  },
  {
   "cell_type": "code",
   "execution_count": 76,
   "metadata": {},
   "outputs": [],
   "source": [
    "alpha_val = 0.5\n",
    "alpha_to_log_cross_val_score[alpha_val] = compute_lasso_cross_val_scores(X, Y, alpha=alpha_val)"
   ]
  },
  {
   "cell_type": "code",
   "execution_count": 77,
   "metadata": {},
   "outputs": [
    {
     "data": {
      "text/plain": [
       "{1.0: 1.7514306049469586, 0.5: 1.7514306049469586}"
      ]
     },
     "execution_count": 77,
     "metadata": {},
     "output_type": "execute_result"
    }
   ],
   "source": [
    "alpha_to_log_cross_val_score"
   ]
  },
  {
   "cell_type": "code",
   "execution_count": 79,
   "metadata": {},
   "outputs": [],
   "source": [
    "alpha_val = 0.1\n",
    "alpha_to_log_cross_val_score[alpha_val] = compute_lasso_cross_val_scores(X, Y, alpha=alpha_val)"
   ]
  },
  {
   "cell_type": "code",
   "execution_count": 60,
   "metadata": {},
   "outputs": [
    {
     "data": {
      "text/plain": [
       "{1.0: 1.7514306049469586, 0.5: 1.7514306049469586, 0.1: 1.683298721314856}"
      ]
     },
     "execution_count": 60,
     "metadata": {},
     "output_type": "execute_result"
    }
   ],
   "source": [
    "alpha_to_log_cross_val_score"
   ]
  },
  {
   "cell_type": "code",
   "execution_count": 82,
   "metadata": {},
   "outputs": [
    {
     "name": "stderr",
     "output_type": "stream",
     "text": [
      "/Users/babs4JESUS/anaconda3/lib/python3.6/site-packages/sklearn/linear_model/coordinate_descent.py:475: ConvergenceWarning: Objective did not converge. You might want to increase the number of iterations. Duality gap: 111.25800938974407, tolerance: 1.1063676104536444\n",
      "  positive)\n",
      "/Users/babs4JESUS/anaconda3/lib/python3.6/site-packages/sklearn/linear_model/coordinate_descent.py:475: ConvergenceWarning: Objective did not converge. You might want to increase the number of iterations. Duality gap: 90.48330485795123, tolerance: 1.0857774362208574\n",
      "  positive)\n",
      "/Users/babs4JESUS/anaconda3/lib/python3.6/site-packages/sklearn/linear_model/coordinate_descent.py:475: ConvergenceWarning: Objective did not converge. You might want to increase the number of iterations. Duality gap: 94.0558548891222, tolerance: 1.1020460263223486\n",
      "  positive)\n",
      "/Users/babs4JESUS/anaconda3/lib/python3.6/site-packages/sklearn/linear_model/coordinate_descent.py:475: ConvergenceWarning: Objective did not converge. You might want to increase the number of iterations. Duality gap: 84.95779937271709, tolerance: 1.1013645932711023\n",
      "  positive)\n",
      "/Users/babs4JESUS/anaconda3/lib/python3.6/site-packages/sklearn/linear_model/coordinate_descent.py:475: ConvergenceWarning: Objective did not converge. You might want to increase the number of iterations. Duality gap: 51.09285562781315, tolerance: 1.0709445402445668\n",
      "  positive)\n",
      "/Users/babs4JESUS/anaconda3/lib/python3.6/site-packages/sklearn/linear_model/coordinate_descent.py:475: ConvergenceWarning: Objective did not converge. You might want to increase the number of iterations. Duality gap: 7.189805826054908, tolerance: 1.1063676104536444\n",
      "  positive)\n",
      "/Users/babs4JESUS/anaconda3/lib/python3.6/site-packages/sklearn/linear_model/coordinate_descent.py:475: ConvergenceWarning: Objective did not converge. You might want to increase the number of iterations. Duality gap: 3.4392605402890695, tolerance: 1.0857774362208574\n",
      "  positive)\n",
      "/Users/babs4JESUS/anaconda3/lib/python3.6/site-packages/sklearn/linear_model/coordinate_descent.py:475: ConvergenceWarning: Objective did not converge. You might want to increase the number of iterations. Duality gap: 11.080369313093797, tolerance: 1.1020460263223486\n",
      "  positive)\n",
      "/Users/babs4JESUS/anaconda3/lib/python3.6/site-packages/sklearn/linear_model/coordinate_descent.py:475: ConvergenceWarning: Objective did not converge. You might want to increase the number of iterations. Duality gap: 6.682129279733999, tolerance: 1.1013645932711023\n",
      "  positive)\n"
     ]
    },
    {
     "data": {
      "text/plain": [
       "219.24669003486633"
      ]
     },
     "execution_count": 82,
     "metadata": {},
     "output_type": "execute_result"
    }
   ],
   "source": [
    "ts = time.time()\n",
    "for i in range(1, 10):\n",
    "    alpha_val = i * 0.01\n",
    "    alpha_to_log_cross_val_score[alpha_val] = compute_lasso_cross_val_scores(X, Y, alpha=alpha_val)\n",
    "time.time() - ts"
   ]
  },
  {
   "cell_type": "code",
   "execution_count": 83,
   "metadata": {},
   "outputs": [
    {
     "data": {
      "text/plain": [
       "{1.0: 1.7514306049469586,\n",
       " 0.5: 1.7514306049469586,\n",
       " 0.1: 1.716458653632676,\n",
       " 0.01: 1.9019334658311804,\n",
       " 0.02: 1.737851454379462,\n",
       " 0.03: 1.6931295778618805,\n",
       " 0.04: 1.6822058995410223,\n",
       " 0.05: 1.6848812744533253,\n",
       " 0.06: 1.69098874902219,\n",
       " 0.07: 1.697134497509347,\n",
       " 0.08: 1.7039296691328047,\n",
       " 0.09: 1.710245272412486}"
      ]
     },
     "execution_count": 83,
     "metadata": {},
     "output_type": "execute_result"
    }
   ],
   "source": [
    "alpha_to_log_cross_val_score"
   ]
  },
  {
   "cell_type": "markdown",
   "metadata": {},
   "source": [
    "### Conclusion\n",
    "\n",
    "We do not look to be getting any benefit with log transforming the predictors. Hence, we proceed with the most optimal model obtained using original predictors."
   ]
  },
  {
   "cell_type": "code",
   "execution_count": 84,
   "metadata": {},
   "outputs": [
    {
     "data": {
      "text/plain": [
       "68.43389010429382"
      ]
     },
     "execution_count": 84,
     "metadata": {},
     "output_type": "execute_result"
    }
   ],
   "source": [
    "ts = time.time()\n",
    "test = get_test_data(INPUT_DIR) \n",
    "time.time() - ts"
   ]
  },
  {
   "cell_type": "code",
   "execution_count": 85,
   "metadata": {},
   "outputs": [
    {
     "data": {
      "text/plain": [
       "Pipeline(memory=None,\n",
       "         steps=[('standardize',\n",
       "                 StandardScaler(copy=True, with_mean=True, with_std=True)),\n",
       "                ('lasso',\n",
       "                 Lasso(alpha=0.08, copy_X=True, fit_intercept=True,\n",
       "                       max_iter=1000, normalize=False, positive=False,\n",
       "                       precompute=False, random_state=None, selection='cyclic',\n",
       "                       tol=0.0001, warm_start=False))],\n",
       "         verbose=False)"
      ]
     },
     "execution_count": 85,
     "metadata": {},
     "output_type": "execute_result"
    }
   ],
   "source": [
    "my_pipe = get_lasso_pipeline(alpha=0.08)\n",
    "X = train[all_predictor_cols]\n",
    "Y = train[['log_target']]\n",
    "my_pipe.fit(X, Y)"
   ]
  },
  {
   "cell_type": "code",
   "execution_count": 86,
   "metadata": {},
   "outputs": [],
   "source": [
    "new_X = test[all_predictor_cols]\n",
    "test_log_predictions = my_pipe.predict(new_X)\n",
    "\n",
    "test_log_predictions[test_log_predictions <0 ] = 0\n",
    "\n",
    "test['target'] = np.exp(test_log_predictions) - 1.0"
   ]
  },
  {
   "cell_type": "code",
   "execution_count": 87,
   "metadata": {},
   "outputs": [],
   "source": [
    "test[['ID', 'target']].to_csv('submission_lasso.csv', index=False)"
   ]
  }
 ],
 "metadata": {
  "kernelspec": {
   "display_name": "Python 3",
   "language": "python",
   "name": "python3"
  },
  "language_info": {
   "codemirror_mode": {
    "name": "ipython",
    "version": 3
   },
   "file_extension": ".py",
   "mimetype": "text/x-python",
   "name": "python",
   "nbconvert_exporter": "python",
   "pygments_lexer": "ipython3",
   "version": "3.6.9"
  }
 },
 "nbformat": 4,
 "nbformat_minor": 2
}
