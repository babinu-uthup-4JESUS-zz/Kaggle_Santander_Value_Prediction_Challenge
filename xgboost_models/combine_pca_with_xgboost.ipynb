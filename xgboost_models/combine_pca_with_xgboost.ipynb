{
 "cells": [
  {
   "cell_type": "markdown",
   "metadata": {},
   "source": [
    "## Summary\n",
    "\n",
    "An experimental notebook to see how much of performance we obtain when we combine PCA and xgboost methods."
   ]
  },
  {
   "cell_type": "code",
   "execution_count": 1,
   "metadata": {},
   "outputs": [],
   "source": [
    "import pandas as pd\n",
    "import numpy as np\n",
    "import time as time\n",
    "import xgboost as xgb \n",
    "from sklearn.decomposition import PCA\n",
    "from sklearn.model_selection import train_test_split"
   ]
  },
  {
   "cell_type": "code",
   "execution_count": 1,
   "metadata": {},
   "outputs": [],
   "source": [
    "import sys\n",
    "sys.path.append('../common_routines/')"
   ]
  },
  {
   "cell_type": "markdown",
   "metadata": {},
   "source": [
    "### Get input"
   ]
  },
  {
   "cell_type": "code",
   "execution_count": 3,
   "metadata": {},
   "outputs": [],
   "source": [
    "INPUT_DIR = '../input/'"
   ]
  },
  {
   "cell_type": "code",
   "execution_count": 4,
   "metadata": {},
   "outputs": [
    {
     "data": {
      "text/plain": [
       "5.056200981140137"
      ]
     },
     "execution_count": 4,
     "metadata": {},
     "output_type": "execute_result"
    }
   ],
   "source": [
    "ts = time.time()\n",
    "train = pd.read_csv(INPUT_DIR + 'train.csv')\n",
    "time.time() - ts"
   ]
  },
  {
   "cell_type": "code",
   "execution_count": 5,
   "metadata": {},
   "outputs": [],
   "source": [
    "train['new_target'] = np.log(train['target'] + 1.0)"
   ]
  },
  {
   "cell_type": "markdown",
   "metadata": {},
   "source": [
    "### Construct the appropriate pipeline"
   ]
  },
  {
   "cell_type": "code",
   "execution_count": 6,
   "metadata": {},
   "outputs": [],
   "source": [
    "from sklearn.pipeline import Pipeline\n",
    "def get_pca_xgboost_pipeline(num_pca_components=5):\n",
    "    pca = PCA(n_components=5, random_state=0)\n",
    "    my_pipe = Pipeline([('pca', pca),\n",
    "                        ('model', xgb.XGBRegressor(learning_rate=0.1,\n",
    "                                                   n_estimators=100,\n",
    "                                                   objective='reg:squarederror'))])\n",
    "    return my_pipe"
   ]
  },
  {
   "cell_type": "code",
   "execution_count": 7,
   "metadata": {},
   "outputs": [],
   "source": [
    "from relevant_functions import get_rel_cols, fit_pipeline_and_cross_validate"
   ]
  },
  {
   "cell_type": "code",
   "execution_count": 8,
   "metadata": {},
   "outputs": [],
   "source": [
    "REL_COLS = get_rel_cols(17, train)"
   ]
  },
  {
   "cell_type": "code",
   "execution_count": 9,
   "metadata": {},
   "outputs": [
    {
     "name": "stdout",
     "output_type": "stream",
     "text": [
      "1.5583826526249025\n"
     ]
    }
   ],
   "source": [
    "(my_pipe, cross_val_score1) = fit_pipeline_and_cross_validate(get_pca_xgboost_pipeline(50), \n",
    "                                                              train,\n",
    "                                                              REL_COLS)\n",
    "print(cross_val_score1)"
   ]
  },
  {
   "cell_type": "markdown",
   "metadata": {},
   "source": [
    "## Try with a simple validation set.\n",
    "\n",
    "We are not fully satisfied with the resulta of cross validation. Hence let us test out PCA using one hold out validation set as opposed to a full cross validation."
   ]
  },
  {
   "cell_type": "code",
   "execution_count": 10,
   "metadata": {},
   "outputs": [],
   "source": [
    "(train_train, validation_train) = train_test_split(train, random_state=0, shuffle=False)"
   ]
  },
  {
   "cell_type": "code",
   "execution_count": 11,
   "metadata": {},
   "outputs": [],
   "source": [
    "ALL_COLS = [col for col in train.columns if col not in ['ID', 'target', 'new_target']]"
   ]
  },
  {
   "cell_type": "code",
   "execution_count": 12,
   "metadata": {},
   "outputs": [],
   "source": [
    "NUM_PCA_COMPONENTS = 20\n",
    "pca = PCA(n_components=NUM_PCA_COMPONENTS)\n",
    "train_pca = pca.fit_transform(train_train[ALL_COLS])\n",
    "validation_pca = pca.transform(validation_train[ALL_COLS])"
   ]
  },
  {
   "cell_type": "code",
   "execution_count": 13,
   "metadata": {},
   "outputs": [],
   "source": [
    "col_names = ['col' + str(i) for i in np.arange(NUM_PCA_COMPONENTS)]\n",
    "train_pca_df = pd.DataFrame(data=train_pca, columns=col_names)\n",
    "train_pca_df['new_target'] = train_train['new_target'].values\n",
    "\n",
    "validation_pca_df = pd.DataFrame(data=validation_pca, columns=col_names)\n",
    "validation_pca_df['new_target'] = validation_train['new_target'].values"
   ]
  },
  {
   "cell_type": "code",
   "execution_count": 14,
   "metadata": {},
   "outputs": [],
   "source": [
    "xgb_train_data = xgb.DMatrix(train_pca_df[col_names], label=train_pca_df[['new_target']], feature_names=col_names)\n",
    "xgb_validation_data = xgb.DMatrix(validation_pca_df[col_names], \n",
    "                                  label=validation_pca_df[['new_target']], \n",
    "                                  feature_names=col_names)\n",
    "xgb_params = {'eta': 0.1, 'eval_metric':'rmse'}"
   ]
  },
  {
   "cell_type": "code",
   "execution_count": 15,
   "metadata": {},
   "outputs": [
    {
     "name": "stdout",
     "output_type": "stream",
     "text": [
      "[0]\teval-rmse:12.6301\n",
      "Will train until eval-rmse hasn't improved in 5 rounds.\n",
      "[1]\teval-rmse:11.3838\n",
      "[2]\teval-rmse:10.2637\n",
      "[3]\teval-rmse:9.25898\n",
      "[4]\teval-rmse:8.35795\n",
      "[5]\teval-rmse:7.54987\n",
      "[6]\teval-rmse:6.82565\n",
      "[7]\teval-rmse:6.17702\n",
      "[8]\teval-rmse:5.59863\n",
      "[9]\teval-rmse:5.08492\n",
      "[10]\teval-rmse:4.62313\n",
      "[11]\teval-rmse:4.21696\n",
      "[12]\teval-rmse:3.85466\n",
      "[13]\teval-rmse:3.53544\n",
      "[14]\teval-rmse:3.25585\n",
      "[15]\teval-rmse:3.0071\n",
      "[16]\teval-rmse:2.793\n",
      "[17]\teval-rmse:2.60812\n",
      "[18]\teval-rmse:2.44642\n",
      "[19]\teval-rmse:2.30484\n",
      "[20]\teval-rmse:2.18564\n",
      "[21]\teval-rmse:2.08604\n",
      "[22]\teval-rmse:1.99906\n",
      "[23]\teval-rmse:1.92883\n",
      "[24]\teval-rmse:1.86981\n",
      "[25]\teval-rmse:1.82069\n",
      "[26]\teval-rmse:1.77904\n",
      "[27]\teval-rmse:1.74714\n",
      "[28]\teval-rmse:1.72119\n",
      "[29]\teval-rmse:1.69818\n",
      "[30]\teval-rmse:1.67999\n",
      "[31]\teval-rmse:1.66603\n",
      "[32]\teval-rmse:1.6515\n",
      "[33]\teval-rmse:1.64385\n",
      "[34]\teval-rmse:1.6346\n",
      "[35]\teval-rmse:1.62925\n",
      "[36]\teval-rmse:1.62512\n",
      "[37]\teval-rmse:1.62128\n",
      "[38]\teval-rmse:1.61875\n",
      "[39]\teval-rmse:1.61544\n",
      "[40]\teval-rmse:1.61362\n",
      "[41]\teval-rmse:1.6124\n",
      "[42]\teval-rmse:1.60979\n",
      "[43]\teval-rmse:1.60785\n",
      "[44]\teval-rmse:1.60682\n",
      "[45]\teval-rmse:1.60673\n",
      "[46]\teval-rmse:1.60623\n",
      "[47]\teval-rmse:1.60623\n",
      "[48]\teval-rmse:1.60793\n",
      "[49]\teval-rmse:1.60762\n",
      "[50]\teval-rmse:1.60727\n",
      "[51]\teval-rmse:1.60654\n",
      "Stopping. Best iteration:\n",
      "[46]\teval-rmse:1.60623\n",
      "\n"
     ]
    }
   ],
   "source": [
    "model_1 = xgb.train(params=xgb_params,\n",
    "                    dtrain=xgb_train_data,\n",
    "                    num_boost_round=1000,\n",
    "                    evals=[(xgb_validation_data, 'eval')],\n",
    "                    early_stopping_rounds=5)"
   ]
  },
  {
   "cell_type": "markdown",
   "metadata": {},
   "source": [
    "## Conclusion\n",
    "\n",
    "The benefits from PCA look to be plateauing very fast and hence does not offer us much benefit."
   ]
  }
 ],
 "metadata": {
  "kernelspec": {
   "display_name": "Python 3",
   "language": "python",
   "name": "python3"
  },
  "language_info": {
   "codemirror_mode": {
    "name": "ipython",
    "version": 3
   },
   "file_extension": ".py",
   "mimetype": "text/x-python",
   "name": "python",
   "nbconvert_exporter": "python",
   "pygments_lexer": "ipython3",
   "version": "3.6.9"
  }
 },
 "nbformat": 4,
 "nbformat_minor": 2
}
