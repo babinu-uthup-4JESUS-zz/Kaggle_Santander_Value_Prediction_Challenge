{
 "cells": [
  {
   "cell_type": "markdown",
   "metadata": {},
   "source": [
    "### Summary\n",
    "\n",
    "The idea here is to apply xgboost techniques on those predictors that are selected by lasso method. This way, we combine dimensionality reduction as well as non parametric techniques."
   ]
  },
  {
   "cell_type": "code",
   "execution_count": 1,
   "metadata": {},
   "outputs": [],
   "source": [
    "import pandas as pd\n",
    "import numpy as np\n",
    "import time as time\n",
    "import xgboost as xgb"
   ]
  },
  {
   "cell_type": "code",
   "execution_count": 2,
   "metadata": {},
   "outputs": [],
   "source": [
    "import sys\n",
    "sys.path.append('../common_routines/')\n",
    "from relevant_functions import fit_pipeline_and_cross_validate"
   ]
  },
  {
   "cell_type": "code",
   "execution_count": 3,
   "metadata": {},
   "outputs": [],
   "source": [
    "INPUT_DIR = '../input/'"
   ]
  },
  {
   "cell_type": "code",
   "execution_count": 4,
   "metadata": {},
   "outputs": [
    {
     "data": {
      "text/plain": [
       "5.350039958953857"
      ]
     },
     "execution_count": 4,
     "metadata": {},
     "output_type": "execute_result"
    }
   ],
   "source": [
    "ts = time.time()\n",
    "train = pd.read_csv(INPUT_DIR + 'train.csv')\n",
    "time.time() - ts"
   ]
  },
  {
   "cell_type": "code",
   "execution_count": 5,
   "metadata": {},
   "outputs": [
    {
     "data": {
      "text/plain": [
       "70.34377908706665"
      ]
     },
     "execution_count": 5,
     "metadata": {},
     "output_type": "execute_result"
    }
   ],
   "source": [
    "ts = time.time()\n",
    "test = pd.read_csv(INPUT_DIR + 'test.csv')\n",
    "time.time() - ts"
   ]
  },
  {
   "cell_type": "code",
   "execution_count": 6,
   "metadata": {},
   "outputs": [],
   "source": [
    "train['new_target'] = np.log(train['target'] + 1.0)"
   ]
  },
  {
   "cell_type": "markdown",
   "metadata": {},
   "source": [
    "# Lasso section\n",
    "In this section we construct a lasso model."
   ]
  },
  {
   "cell_type": "markdown",
   "metadata": {},
   "source": [
    "#### A pipeline for impelmenting lasso model with normalization."
   ]
  },
  {
   "cell_type": "code",
   "execution_count": 8,
   "metadata": {},
   "outputs": [],
   "source": [
    "def get_lasso_pipe_with_scaling(alpha=2000):\n",
    "    my_pipe = make_pipeline(StandardScaler(),linear_model.Lasso(alpha=alpha))\n",
    "    return my_pipe"
   ]
  },
  {
   "cell_type": "code",
   "execution_count": 9,
   "metadata": {},
   "outputs": [],
   "source": [
    "X_COLUMNS = [col for col in train.columns if col not in ['ID', 'target', 'new_target']]\n",
    "Y_COLUMN = 'new_target'"
   ]
  },
  {
   "cell_type": "code",
   "execution_count": 10,
   "metadata": {},
   "outputs": [],
   "source": [
    "# We are already aware of the data conversion to float and hence we suppress warnings regarding the same.\n",
    "import warnings\n",
    "from sklearn.exceptions import DataConversionWarning\n",
    "warnings.filterwarnings(action='ignore', category=DataConversionWarning)"
   ]
  },
  {
   "cell_type": "code",
   "execution_count": 58,
   "metadata": {},
   "outputs": [],
   "source": [
    "alpha_to_cross_val_score = dict()"
   ]
  },
  {
   "cell_type": "code",
   "execution_count": 59,
   "metadata": {},
   "outputs": [],
   "source": [
    "alpha_to_corr_pipe = dict()"
   ]
  },
  {
   "cell_type": "code",
   "execution_count": 60,
   "metadata": {},
   "outputs": [],
   "source": [
    "ALPHAS = np.concatenate([np.arange(0.07, 0.1, 0.01), np.arange(0.1, 0.4, 0.05)])"
   ]
  },
  {
   "cell_type": "code",
   "execution_count": 61,
   "metadata": {},
   "outputs": [
    {
     "data": {
      "text/plain": [
       "85.30825328826904"
      ]
     },
     "execution_count": 61,
     "metadata": {},
     "output_type": "execute_result"
    }
   ],
   "source": [
    "ts = time.time()\n",
    "for alpha_val in ALPHAS:\n",
    "    (my_pipe, cross_val_score1) = fit_pipeline_and_cross_validate(\n",
    "        get_lasso_pipe_with_scaling(alpha=alpha_val), \n",
    "        train, \n",
    "        X_COLUMNS,\n",
    "        'new_target')\n",
    "    alpha_to_cross_val_score[alpha_val] = cross_val_score1\n",
    "    alpha_to_corr_pipe[alpha_val] = my_pipe\n",
    "time.time() -ts"
   ]
  },
  {
   "cell_type": "code",
   "execution_count": 62,
   "metadata": {},
   "outputs": [
    {
     "data": {
      "text/plain": [
       "{0.07: 1.7103005886854181,\n",
       " 0.08: 1.6763484889195612,\n",
       " 0.09: 1.6792880196613027,\n",
       " 0.1: 1.6826951971543447,\n",
       " 0.15000000000000002: 1.6987425429799081,\n",
       " 0.20000000000000004: 1.7097112765431706,\n",
       " 0.25000000000000006: 1.7234586102207547,\n",
       " 0.30000000000000004: 1.7384425526123928,\n",
       " 0.3500000000000001: 1.7487191694414956,\n",
       " 0.40000000000000013: 1.7499973439733552}"
      ]
     },
     "execution_count": 62,
     "metadata": {},
     "output_type": "execute_result"
    }
   ],
   "source": [
    "alpha_to_cross_val_score"
   ]
  },
  {
   "cell_type": "code",
   "execution_count": 63,
   "metadata": {},
   "outputs": [],
   "source": [
    "optim_alpha = min(alpha_to_cross_val_score, key=alpha_to_cross_val_score.get)"
   ]
  },
  {
   "cell_type": "code",
   "execution_count": 64,
   "metadata": {},
   "outputs": [
    {
     "data": {
      "text/plain": [
       "0.08"
      ]
     },
     "execution_count": 64,
     "metadata": {},
     "output_type": "execute_result"
    }
   ],
   "source": [
    "optim_alpha"
   ]
  },
  {
   "cell_type": "code",
   "execution_count": 66,
   "metadata": {},
   "outputs": [],
   "source": [
    "optim_lass_model = alpha_to_corr_pipe.get(optim_alpha)"
   ]
  },
  {
   "cell_type": "code",
   "execution_count": 67,
   "metadata": {},
   "outputs": [
    {
     "data": {
      "text/plain": [
       "array([False, False, False, ..., False, False, False])"
      ]
     },
     "execution_count": 67,
     "metadata": {},
     "output_type": "execute_result"
    }
   ],
   "source": [
    "optim_lass_model.named_steps['lasso'].coef_!=0\n"
   ]
  },
  {
   "cell_type": "code",
   "execution_count": 68,
   "metadata": {},
   "outputs": [
    {
     "data": {
      "text/plain": [
       "74"
      ]
     },
     "execution_count": 68,
     "metadata": {},
     "output_type": "execute_result"
    }
   ],
   "source": [
    "np.sum(optim_lass_model.named_steps['lasso'].coef_!=0)\n"
   ]
  },
  {
   "cell_type": "code",
   "execution_count": 69,
   "metadata": {},
   "outputs": [
    {
     "data": {
      "text/plain": [
       "array([   8,  118,  168,  225,  424,  435,  493,  651,  693,  787,  878,\n",
       "       1031, 1044, 1142, 1276, 1530, 1652, 1681, 1699, 1836, 1887, 1894,\n",
       "       1916, 1942, 1990, 2037, 2166, 2235, 2248, 2424, 2435, 2500, 2594,\n",
       "       2755, 2757, 2888, 3023, 3029, 3066, 3086, 3094, 3183, 3217, 3323,\n",
       "       3358, 3397, 3428, 3471, 3660, 3664, 3753, 3771, 3836, 3866, 3928,\n",
       "       4066, 4084, 4091, 4103, 4138, 4243, 4268, 4307, 4358, 4414, 4434,\n",
       "       4466, 4507, 4552, 4572, 4581, 4656, 4660, 4818])"
      ]
     },
     "execution_count": 69,
     "metadata": {},
     "output_type": "execute_result"
    }
   ],
   "source": [
    "np.nonzero(optim_lass_model.named_steps['lasso'].coef_)[0]"
   ]
  },
  {
   "cell_type": "markdown",
   "metadata": {},
   "source": [
    "# Xgboost section\n",
    "In this section we construct an xgboost model on the predictors obtained using lasso regression."
   ]
  },
  {
   "cell_type": "code",
   "execution_count": 70,
   "metadata": {},
   "outputs": [],
   "source": [
    "X_COLUMNS = [X_COLUMNS[col] for col in np.nonzero(optim_lass_model.named_steps['lasso'].coef_)[0]]\n",
    "Y_COLUMN = 'new_target'"
   ]
  },
  {
   "cell_type": "code",
   "execution_count": 71,
   "metadata": {},
   "outputs": [],
   "source": [
    "X = train[X_COLUMNS].values\n",
    "Y = train[[Y_COLUMN]].values"
   ]
  },
  {
   "cell_type": "code",
   "execution_count": 72,
   "metadata": {},
   "outputs": [
    {
     "data": {
      "text/plain": [
       "(4459, 74)"
      ]
     },
     "execution_count": 72,
     "metadata": {},
     "output_type": "execute_result"
    }
   ],
   "source": [
    "np.shape(X)"
   ]
  },
  {
   "cell_type": "code",
   "execution_count": 73,
   "metadata": {},
   "outputs": [],
   "source": [
    "xgb_complete_data = xgb.DMatrix(X, Y, feature_names=X_COLUMNS)"
   ]
  },
  {
   "cell_type": "code",
   "execution_count": 74,
   "metadata": {},
   "outputs": [],
   "source": [
    "xgb_params = {'eta':0.01, 'eval_metric':'rmse'}"
   ]
  },
  {
   "cell_type": "code",
   "execution_count": 75,
   "metadata": {},
   "outputs": [
    {
     "name": "stdout",
     "output_type": "stream",
     "text": [
      "[0]\ttrain-rmse:13.9605\ttest-rmse:13.9604\n",
      "[1]\ttrain-rmse:13.823\ttest-rmse:13.823\n",
      "[2]\ttrain-rmse:13.6869\ttest-rmse:13.687\n",
      "[3]\ttrain-rmse:13.5522\ttest-rmse:13.5524\n",
      "[4]\ttrain-rmse:13.4189\ttest-rmse:13.4191\n",
      "[5]\ttrain-rmse:13.2869\ttest-rmse:13.2872\n",
      "[6]\ttrain-rmse:13.1562\ttest-rmse:13.1566\n",
      "[7]\ttrain-rmse:13.0269\ttest-rmse:13.0274\n",
      "[8]\ttrain-rmse:12.8989\ttest-rmse:12.8994\n",
      "[9]\ttrain-rmse:12.7721\ttest-rmse:12.7728\n",
      "[10]\ttrain-rmse:12.6467\ttest-rmse:12.6474\n",
      "[11]\ttrain-rmse:12.5225\ttest-rmse:12.5233\n",
      "[12]\ttrain-rmse:12.3996\ttest-rmse:12.4004\n",
      "[13]\ttrain-rmse:12.2779\ttest-rmse:12.2789\n",
      "[14]\ttrain-rmse:12.1574\ttest-rmse:12.1585\n",
      "[15]\ttrain-rmse:12.0382\ttest-rmse:12.0393\n",
      "[16]\ttrain-rmse:11.9202\ttest-rmse:11.9215\n",
      "[17]\ttrain-rmse:11.8034\ttest-rmse:11.8047\n",
      "[18]\ttrain-rmse:11.6877\ttest-rmse:11.6891\n",
      "[19]\ttrain-rmse:11.5733\ttest-rmse:11.5748\n",
      "[20]\ttrain-rmse:11.46\ttest-rmse:11.4616\n",
      "[21]\ttrain-rmse:11.3478\ttest-rmse:11.3496\n",
      "[22]\ttrain-rmse:11.2368\ttest-rmse:11.2386\n",
      "[23]\ttrain-rmse:11.127\ttest-rmse:11.1289\n",
      "[24]\ttrain-rmse:11.0182\ttest-rmse:11.0202\n",
      "[25]\ttrain-rmse:10.9105\ttest-rmse:10.9127\n",
      "[26]\ttrain-rmse:10.804\ttest-rmse:10.8062\n",
      "[27]\ttrain-rmse:10.6985\ttest-rmse:10.7008\n",
      "[28]\ttrain-rmse:10.5941\ttest-rmse:10.5964\n",
      "[29]\ttrain-rmse:10.4907\ttest-rmse:10.4931\n",
      "[30]\ttrain-rmse:10.3884\ttest-rmse:10.391\n",
      "[31]\ttrain-rmse:10.2872\ttest-rmse:10.2898\n",
      "[32]\ttrain-rmse:10.187\ttest-rmse:10.1896\n",
      "[33]\ttrain-rmse:10.0878\ttest-rmse:10.0905\n",
      "[34]\ttrain-rmse:9.98957\ttest-rmse:9.99244\n",
      "[35]\ttrain-rmse:9.8924\ttest-rmse:9.89527\n",
      "[36]\ttrain-rmse:9.79619\ttest-rmse:9.79916\n",
      "[37]\ttrain-rmse:9.70098\ttest-rmse:9.70401\n",
      "[38]\ttrain-rmse:9.60672\ttest-rmse:9.60982\n",
      "[39]\ttrain-rmse:9.51345\ttest-rmse:9.51668\n",
      "[40]\ttrain-rmse:9.42111\ttest-rmse:9.42443\n",
      "[41]\ttrain-rmse:9.32973\ttest-rmse:9.33324\n",
      "[42]\ttrain-rmse:9.2393\ttest-rmse:9.24288\n",
      "[43]\ttrain-rmse:9.14978\ttest-rmse:9.15346\n",
      "[44]\ttrain-rmse:9.06118\ttest-rmse:9.065\n",
      "[45]\ttrain-rmse:8.97348\ttest-rmse:8.9775\n",
      "[46]\ttrain-rmse:8.88667\ttest-rmse:8.89078\n",
      "[47]\ttrain-rmse:8.80077\ttest-rmse:8.80508\n",
      "[48]\ttrain-rmse:8.71574\ttest-rmse:8.72012\n",
      "[49]\ttrain-rmse:8.63158\ttest-rmse:8.6361\n",
      "[50]\ttrain-rmse:8.54827\ttest-rmse:8.5529\n",
      "[51]\ttrain-rmse:8.46583\ttest-rmse:8.47066\n",
      "[52]\ttrain-rmse:8.38423\ttest-rmse:8.38915\n",
      "[53]\ttrain-rmse:8.30347\ttest-rmse:8.30845\n",
      "[54]\ttrain-rmse:8.22353\ttest-rmse:8.22858\n",
      "[55]\ttrain-rmse:8.14443\ttest-rmse:8.14973\n",
      "[56]\ttrain-rmse:8.06613\ttest-rmse:8.07167\n",
      "[57]\ttrain-rmse:7.98865\ttest-rmse:7.99429\n",
      "[58]\ttrain-rmse:7.91194\ttest-rmse:7.91768\n",
      "[59]\ttrain-rmse:7.83602\ttest-rmse:7.84188\n",
      "[60]\ttrain-rmse:7.7609\ttest-rmse:7.76684\n",
      "[61]\ttrain-rmse:7.68654\ttest-rmse:7.6926\n",
      "[62]\ttrain-rmse:7.61294\ttest-rmse:7.61924\n",
      "[63]\ttrain-rmse:7.54012\ttest-rmse:7.5466\n",
      "[64]\ttrain-rmse:7.46804\ttest-rmse:7.47462\n",
      "[65]\ttrain-rmse:7.39669\ttest-rmse:7.40345\n",
      "[66]\ttrain-rmse:7.32609\ttest-rmse:7.33308\n",
      "[67]\ttrain-rmse:7.25621\ttest-rmse:7.2634\n",
      "[68]\ttrain-rmse:7.18708\ttest-rmse:7.19438\n",
      "[69]\ttrain-rmse:7.11862\ttest-rmse:7.12605\n",
      "[70]\ttrain-rmse:7.05089\ttest-rmse:7.0585\n",
      "[71]\ttrain-rmse:6.98386\ttest-rmse:6.9917\n",
      "[72]\ttrain-rmse:6.91754\ttest-rmse:6.92552\n",
      "[73]\ttrain-rmse:6.85188\ttest-rmse:6.86004\n",
      "[74]\ttrain-rmse:6.78693\ttest-rmse:6.79539\n",
      "[75]\ttrain-rmse:6.72264\ttest-rmse:6.73135\n",
      "[76]\ttrain-rmse:6.65903\ttest-rmse:6.66782\n",
      "[77]\ttrain-rmse:6.59606\ttest-rmse:6.60496\n",
      "[78]\ttrain-rmse:6.53377\ttest-rmse:6.54279\n",
      "[79]\ttrain-rmse:6.47213\ttest-rmse:6.48134\n",
      "[80]\ttrain-rmse:6.41112\ttest-rmse:6.42054\n",
      "[81]\ttrain-rmse:6.35074\ttest-rmse:6.36042\n",
      "[82]\ttrain-rmse:6.291\ttest-rmse:6.30085\n",
      "[83]\ttrain-rmse:6.23186\ttest-rmse:6.24211\n",
      "[84]\ttrain-rmse:6.17336\ttest-rmse:6.1838\n",
      "[85]\ttrain-rmse:6.11547\ttest-rmse:6.12603\n",
      "[86]\ttrain-rmse:6.0582\ttest-rmse:6.06901\n",
      "[87]\ttrain-rmse:6.00152\ttest-rmse:6.01272\n",
      "[88]\ttrain-rmse:5.94541\ttest-rmse:5.95682\n",
      "[89]\ttrain-rmse:5.88991\ttest-rmse:5.90151\n",
      "[90]\ttrain-rmse:5.835\ttest-rmse:5.84687\n",
      "[91]\ttrain-rmse:5.78067\ttest-rmse:5.79268\n",
      "[92]\ttrain-rmse:5.72691\ttest-rmse:5.73928\n",
      "[93]\ttrain-rmse:5.67372\ttest-rmse:5.6863\n",
      "[94]\ttrain-rmse:5.62106\ttest-rmse:5.63394\n",
      "[95]\ttrain-rmse:5.56898\ttest-rmse:5.5822\n",
      "[96]\ttrain-rmse:5.51747\ttest-rmse:5.53103\n",
      "[97]\ttrain-rmse:5.46649\ttest-rmse:5.48029\n",
      "[98]\ttrain-rmse:5.41601\ttest-rmse:5.43008\n",
      "[99]\ttrain-rmse:5.36606\ttest-rmse:5.38047\n",
      "[100]\ttrain-rmse:5.31669\ttest-rmse:5.3314\n",
      "[101]\ttrain-rmse:5.26785\ttest-rmse:5.28287\n",
      "[102]\ttrain-rmse:5.21955\ttest-rmse:5.23482\n",
      "[103]\ttrain-rmse:5.17172\ttest-rmse:5.18731\n",
      "[104]\ttrain-rmse:5.12441\ttest-rmse:5.14028\n",
      "[105]\ttrain-rmse:5.07761\ttest-rmse:5.09374\n",
      "[106]\ttrain-rmse:5.0313\ttest-rmse:5.04775\n",
      "[107]\ttrain-rmse:4.98549\ttest-rmse:5.00222\n",
      "[108]\ttrain-rmse:4.94016\ttest-rmse:4.9572\n",
      "[109]\ttrain-rmse:4.89533\ttest-rmse:4.91273\n",
      "[110]\ttrain-rmse:4.85098\ttest-rmse:4.86864\n",
      "[111]\ttrain-rmse:4.80708\ttest-rmse:4.82518\n",
      "[112]\ttrain-rmse:4.76369\ttest-rmse:4.782\n",
      "[113]\ttrain-rmse:4.72076\ttest-rmse:4.73942\n",
      "[114]\ttrain-rmse:4.67825\ttest-rmse:4.69723\n",
      "[115]\ttrain-rmse:4.63623\ttest-rmse:4.65567\n",
      "[116]\ttrain-rmse:4.59466\ttest-rmse:4.61447\n",
      "[117]\ttrain-rmse:4.55355\ttest-rmse:4.57379\n",
      "[118]\ttrain-rmse:4.51291\ttest-rmse:4.5335\n",
      "[119]\ttrain-rmse:4.47271\ttest-rmse:4.49365\n",
      "[120]\ttrain-rmse:4.43292\ttest-rmse:4.4543\n",
      "[121]\ttrain-rmse:4.39357\ttest-rmse:4.41519\n",
      "[122]\ttrain-rmse:4.35464\ttest-rmse:4.37667\n",
      "[123]\ttrain-rmse:4.31612\ttest-rmse:4.33861\n",
      "[124]\ttrain-rmse:4.27803\ttest-rmse:4.30083\n",
      "[125]\ttrain-rmse:4.24036\ttest-rmse:4.26357\n",
      "[126]\ttrain-rmse:4.20312\ttest-rmse:4.22675\n",
      "[127]\ttrain-rmse:4.16626\ttest-rmse:4.19027\n",
      "[128]\ttrain-rmse:4.12983\ttest-rmse:4.15425\n",
      "[129]\ttrain-rmse:4.09377\ttest-rmse:4.11868\n",
      "[130]\ttrain-rmse:4.05815\ttest-rmse:4.08356\n",
      "[131]\ttrain-rmse:4.02288\ttest-rmse:4.04869\n",
      "[132]\ttrain-rmse:3.988\ttest-rmse:4.01423\n",
      "[133]\ttrain-rmse:3.95354\ttest-rmse:3.98023\n",
      "[134]\ttrain-rmse:3.91944\ttest-rmse:3.94653\n",
      "[135]\ttrain-rmse:3.88575\ttest-rmse:3.91331\n",
      "[136]\ttrain-rmse:3.85238\ttest-rmse:3.88045\n",
      "[137]\ttrain-rmse:3.81944\ttest-rmse:3.84797\n",
      "[138]\ttrain-rmse:3.78688\ttest-rmse:3.81582\n",
      "[139]\ttrain-rmse:3.75462\ttest-rmse:3.78409\n",
      "[140]\ttrain-rmse:3.72272\ttest-rmse:3.75258\n",
      "[141]\ttrain-rmse:3.69116\ttest-rmse:3.72161\n",
      "[142]\ttrain-rmse:3.66002\ttest-rmse:3.69093\n",
      "[143]\ttrain-rmse:3.62919\ttest-rmse:3.66054\n",
      "[144]\ttrain-rmse:3.5987\ttest-rmse:3.63046\n",
      "[145]\ttrain-rmse:3.5686\ttest-rmse:3.60092\n",
      "[146]\ttrain-rmse:3.5388\ttest-rmse:3.57168\n",
      "[147]\ttrain-rmse:3.50934\ttest-rmse:3.54266\n",
      "[148]\ttrain-rmse:3.48025\ttest-rmse:3.51404\n",
      "[149]\ttrain-rmse:3.45146\ttest-rmse:3.48578\n",
      "[150]\ttrain-rmse:3.423\ttest-rmse:3.45783\n",
      "[151]\ttrain-rmse:3.39484\ttest-rmse:3.43026\n",
      "[152]\ttrain-rmse:3.36706\ttest-rmse:3.40295\n",
      "[153]\ttrain-rmse:3.33956\ttest-rmse:3.37601\n",
      "[154]\ttrain-rmse:3.31237\ttest-rmse:3.34927\n",
      "[155]\ttrain-rmse:3.28549\ttest-rmse:3.32302\n",
      "[156]\ttrain-rmse:3.25897\ttest-rmse:3.297\n",
      "[157]\ttrain-rmse:3.23274\ttest-rmse:3.27135\n",
      "[158]\ttrain-rmse:3.20685\ttest-rmse:3.24595\n",
      "[159]\ttrain-rmse:3.18111\ttest-rmse:3.22082\n",
      "[160]\ttrain-rmse:3.15576\ttest-rmse:3.19594\n",
      "[161]\ttrain-rmse:3.13068\ttest-rmse:3.17146\n",
      "[162]\ttrain-rmse:3.10596\ttest-rmse:3.14726\n",
      "[163]\ttrain-rmse:3.08144\ttest-rmse:3.12334\n",
      "[164]\ttrain-rmse:3.05729\ttest-rmse:3.09968\n",
      "[165]\ttrain-rmse:3.03335\ttest-rmse:3.07631\n",
      "[166]\ttrain-rmse:3.00968\ttest-rmse:3.05327\n",
      "[167]\ttrain-rmse:2.98637\ttest-rmse:3.03038\n",
      "[168]\ttrain-rmse:2.96335\ttest-rmse:3.00798\n",
      "[169]\ttrain-rmse:2.94051\ttest-rmse:2.98581\n",
      "[170]\ttrain-rmse:2.91803\ttest-rmse:2.9638\n",
      "[171]\ttrain-rmse:2.89574\ttest-rmse:2.94216\n",
      "[172]\ttrain-rmse:2.87378\ttest-rmse:2.92069\n",
      "[173]\ttrain-rmse:2.85202\ttest-rmse:2.89956\n",
      "[174]\ttrain-rmse:2.8305\ttest-rmse:2.87867\n",
      "[175]\ttrain-rmse:2.80926\ttest-rmse:2.858\n",
      "[176]\ttrain-rmse:2.78837\ttest-rmse:2.83764\n",
      "[177]\ttrain-rmse:2.76765\ttest-rmse:2.81759\n",
      "[178]\ttrain-rmse:2.74721\ttest-rmse:2.79773\n",
      "[179]\ttrain-rmse:2.72706\ttest-rmse:2.77812\n",
      "[180]\ttrain-rmse:2.70708\ttest-rmse:2.75884\n",
      "[181]\ttrain-rmse:2.68741\ttest-rmse:2.73974\n",
      "[182]\ttrain-rmse:2.66787\ttest-rmse:2.72093\n",
      "[183]\ttrain-rmse:2.64862\ttest-rmse:2.70233\n",
      "[184]\ttrain-rmse:2.62966\ttest-rmse:2.68393\n",
      "[185]\ttrain-rmse:2.61088\ttest-rmse:2.66583\n",
      "[186]\ttrain-rmse:2.59236\ttest-rmse:2.64792\n",
      "[187]\ttrain-rmse:2.57404\ttest-rmse:2.63028\n",
      "[188]\ttrain-rmse:2.55599\ttest-rmse:2.61283\n",
      "[189]\ttrain-rmse:2.53813\ttest-rmse:2.59562\n",
      "[190]\ttrain-rmse:2.52049\ttest-rmse:2.57872\n",
      "[191]\ttrain-rmse:2.50307\ttest-rmse:2.56187\n",
      "[192]\ttrain-rmse:2.48595\ttest-rmse:2.54534\n",
      "[193]\ttrain-rmse:2.46894\ttest-rmse:2.52903\n",
      "[194]\ttrain-rmse:2.4521\ttest-rmse:2.51293\n"
     ]
    },
    {
     "name": "stdout",
     "output_type": "stream",
     "text": [
      "[195]\ttrain-rmse:2.43551\ttest-rmse:2.49705\n",
      "[196]\ttrain-rmse:2.41925\ttest-rmse:2.48144\n",
      "[197]\ttrain-rmse:2.40313\ttest-rmse:2.46594\n",
      "[198]\ttrain-rmse:2.38711\ttest-rmse:2.45065\n",
      "[199]\ttrain-rmse:2.37137\ttest-rmse:2.43561\n",
      "[200]\ttrain-rmse:2.35575\ttest-rmse:2.42072\n",
      "[201]\ttrain-rmse:2.34045\ttest-rmse:2.40611\n",
      "[202]\ttrain-rmse:2.32528\ttest-rmse:2.39169\n",
      "[203]\ttrain-rmse:2.31028\ttest-rmse:2.37736\n",
      "[204]\ttrain-rmse:2.29559\ttest-rmse:2.36334\n",
      "[205]\ttrain-rmse:2.28102\ttest-rmse:2.34942\n",
      "[206]\ttrain-rmse:2.26671\ttest-rmse:2.33578\n",
      "[207]\ttrain-rmse:2.25249\ttest-rmse:2.32223\n",
      "[208]\ttrain-rmse:2.23848\ttest-rmse:2.30893\n",
      "[209]\ttrain-rmse:2.22462\ttest-rmse:2.29577\n",
      "[210]\ttrain-rmse:2.21099\ttest-rmse:2.28288\n",
      "[211]\ttrain-rmse:2.19753\ttest-rmse:2.27016\n",
      "[212]\ttrain-rmse:2.18416\ttest-rmse:2.25753\n",
      "[213]\ttrain-rmse:2.17115\ttest-rmse:2.2452\n",
      "[214]\ttrain-rmse:2.15829\ttest-rmse:2.23308\n",
      "[215]\ttrain-rmse:2.14548\ttest-rmse:2.22095\n",
      "[216]\ttrain-rmse:2.13285\ttest-rmse:2.20904\n",
      "[217]\ttrain-rmse:2.12048\ttest-rmse:2.19735\n",
      "[218]\ttrain-rmse:2.10824\ttest-rmse:2.18573\n",
      "[219]\ttrain-rmse:2.09608\ttest-rmse:2.17438\n",
      "[220]\ttrain-rmse:2.08401\ttest-rmse:2.16313\n",
      "[221]\ttrain-rmse:2.07223\ttest-rmse:2.15206\n",
      "[222]\ttrain-rmse:2.06063\ttest-rmse:2.14125\n",
      "[223]\ttrain-rmse:2.04918\ttest-rmse:2.13056\n",
      "[224]\ttrain-rmse:2.03786\ttest-rmse:2.11996\n",
      "[225]\ttrain-rmse:2.02663\ttest-rmse:2.10962\n",
      "[226]\ttrain-rmse:2.01566\ttest-rmse:2.09945\n",
      "[227]\ttrain-rmse:2.00472\ttest-rmse:2.08936\n",
      "[228]\ttrain-rmse:1.99391\ttest-rmse:2.07947\n",
      "[229]\ttrain-rmse:1.9834\ttest-rmse:2.06977\n",
      "[230]\ttrain-rmse:1.9729\ttest-rmse:2.06007\n",
      "[231]\ttrain-rmse:1.96256\ttest-rmse:2.0506\n",
      "[232]\ttrain-rmse:1.95249\ttest-rmse:2.04127\n",
      "[233]\ttrain-rmse:1.9423\ttest-rmse:2.03194\n",
      "[234]\ttrain-rmse:1.93246\ttest-rmse:2.02281\n",
      "[235]\ttrain-rmse:1.92278\ttest-rmse:2.0139\n",
      "[236]\ttrain-rmse:1.91317\ttest-rmse:2.00517\n",
      "[237]\ttrain-rmse:1.90366\ttest-rmse:1.99649\n",
      "[238]\ttrain-rmse:1.89416\ttest-rmse:1.98791\n",
      "[239]\ttrain-rmse:1.88494\ttest-rmse:1.97954\n",
      "[240]\ttrain-rmse:1.87581\ttest-rmse:1.97129\n",
      "[241]\ttrain-rmse:1.86686\ttest-rmse:1.96325\n",
      "[242]\ttrain-rmse:1.85805\ttest-rmse:1.95522\n",
      "[243]\ttrain-rmse:1.84927\ttest-rmse:1.9472\n",
      "[244]\ttrain-rmse:1.84064\ttest-rmse:1.93953\n",
      "[245]\ttrain-rmse:1.83215\ttest-rmse:1.93187\n",
      "[246]\ttrain-rmse:1.82378\ttest-rmse:1.92429\n",
      "[247]\ttrain-rmse:1.81555\ttest-rmse:1.91682\n",
      "[248]\ttrain-rmse:1.8074\ttest-rmse:1.90951\n",
      "[249]\ttrain-rmse:1.79948\ttest-rmse:1.90232\n",
      "[250]\ttrain-rmse:1.79153\ttest-rmse:1.89517\n",
      "[251]\ttrain-rmse:1.78364\ttest-rmse:1.88821\n",
      "[252]\ttrain-rmse:1.77596\ttest-rmse:1.88138\n",
      "[253]\ttrain-rmse:1.76845\ttest-rmse:1.87464\n",
      "[254]\ttrain-rmse:1.76094\ttest-rmse:1.86799\n",
      "[255]\ttrain-rmse:1.75344\ttest-rmse:1.86147\n",
      "[256]\ttrain-rmse:1.74624\ttest-rmse:1.85512\n",
      "[257]\ttrain-rmse:1.73903\ttest-rmse:1.84873\n",
      "[258]\ttrain-rmse:1.73191\ttest-rmse:1.84241\n",
      "[259]\ttrain-rmse:1.72498\ttest-rmse:1.83623\n",
      "[260]\ttrain-rmse:1.71819\ttest-rmse:1.83016\n",
      "[261]\ttrain-rmse:1.71137\ttest-rmse:1.82414\n",
      "[262]\ttrain-rmse:1.70476\ttest-rmse:1.81833\n",
      "[263]\ttrain-rmse:1.69815\ttest-rmse:1.81255\n",
      "[264]\ttrain-rmse:1.69176\ttest-rmse:1.80689\n",
      "[265]\ttrain-rmse:1.68533\ttest-rmse:1.80134\n",
      "[266]\ttrain-rmse:1.67906\ttest-rmse:1.79577\n",
      "[267]\ttrain-rmse:1.67296\ttest-rmse:1.79039\n",
      "[268]\ttrain-rmse:1.66691\ttest-rmse:1.78511\n",
      "[269]\ttrain-rmse:1.66083\ttest-rmse:1.77984\n",
      "[270]\ttrain-rmse:1.65488\ttest-rmse:1.77479\n",
      "[271]\ttrain-rmse:1.64904\ttest-rmse:1.76962\n",
      "[272]\ttrain-rmse:1.64336\ttest-rmse:1.7647\n",
      "[273]\ttrain-rmse:1.63775\ttest-rmse:1.75969\n",
      "[274]\ttrain-rmse:1.63231\ttest-rmse:1.75495\n",
      "[275]\ttrain-rmse:1.6267\ttest-rmse:1.7501\n",
      "[276]\ttrain-rmse:1.62132\ttest-rmse:1.74535\n",
      "[277]\ttrain-rmse:1.61601\ttest-rmse:1.74073\n",
      "[278]\ttrain-rmse:1.61062\ttest-rmse:1.73614\n",
      "[279]\ttrain-rmse:1.60547\ttest-rmse:1.73181\n",
      "[280]\ttrain-rmse:1.60039\ttest-rmse:1.7274\n",
      "[281]\ttrain-rmse:1.59539\ttest-rmse:1.72309\n",
      "[282]\ttrain-rmse:1.5904\ttest-rmse:1.71874\n",
      "[283]\ttrain-rmse:1.58562\ttest-rmse:1.7146\n",
      "[284]\ttrain-rmse:1.58097\ttest-rmse:1.71058\n",
      "[285]\ttrain-rmse:1.57607\ttest-rmse:1.7065\n",
      "[286]\ttrain-rmse:1.57151\ttest-rmse:1.7025\n",
      "[287]\ttrain-rmse:1.56704\ttest-rmse:1.69869\n",
      "[288]\ttrain-rmse:1.56273\ttest-rmse:1.69496\n",
      "[289]\ttrain-rmse:1.55827\ttest-rmse:1.69116\n",
      "[290]\ttrain-rmse:1.55383\ttest-rmse:1.68746\n",
      "[291]\ttrain-rmse:1.54957\ttest-rmse:1.68384\n",
      "[292]\ttrain-rmse:1.54528\ttest-rmse:1.68026\n",
      "[293]\ttrain-rmse:1.54123\ttest-rmse:1.67676\n",
      "[294]\ttrain-rmse:1.53707\ttest-rmse:1.67331\n",
      "[295]\ttrain-rmse:1.53319\ttest-rmse:1.66995\n",
      "[296]\ttrain-rmse:1.52922\ttest-rmse:1.66657\n",
      "[297]\ttrain-rmse:1.52537\ttest-rmse:1.66329\n",
      "[298]\ttrain-rmse:1.52133\ttest-rmse:1.66007\n",
      "[299]\ttrain-rmse:1.5175\ttest-rmse:1.6568\n",
      "[300]\ttrain-rmse:1.51391\ttest-rmse:1.65375\n",
      "[301]\ttrain-rmse:1.51022\ttest-rmse:1.6507\n",
      "[302]\ttrain-rmse:1.50658\ttest-rmse:1.64774\n",
      "[303]\ttrain-rmse:1.50303\ttest-rmse:1.64479\n",
      "[304]\ttrain-rmse:1.49958\ttest-rmse:1.6419\n",
      "[305]\ttrain-rmse:1.49615\ttest-rmse:1.63901\n",
      "[306]\ttrain-rmse:1.49286\ttest-rmse:1.6362\n",
      "[307]\ttrain-rmse:1.48963\ttest-rmse:1.63347\n",
      "[308]\ttrain-rmse:1.48639\ttest-rmse:1.6308\n",
      "[309]\ttrain-rmse:1.48321\ttest-rmse:1.62813\n",
      "[310]\ttrain-rmse:1.47999\ttest-rmse:1.62548\n",
      "[311]\ttrain-rmse:1.47679\ttest-rmse:1.62294\n",
      "[312]\ttrain-rmse:1.47369\ttest-rmse:1.62041\n",
      "[313]\ttrain-rmse:1.47069\ttest-rmse:1.61795\n",
      "[314]\ttrain-rmse:1.4678\ttest-rmse:1.61558\n",
      "[315]\ttrain-rmse:1.46481\ttest-rmse:1.61325\n",
      "[316]\ttrain-rmse:1.46194\ttest-rmse:1.61088\n",
      "[317]\ttrain-rmse:1.45903\ttest-rmse:1.6086\n",
      "[318]\ttrain-rmse:1.45622\ttest-rmse:1.60635\n",
      "[319]\ttrain-rmse:1.45347\ttest-rmse:1.60415\n",
      "[320]\ttrain-rmse:1.45082\ttest-rmse:1.602\n",
      "[321]\ttrain-rmse:1.44813\ttest-rmse:1.59983\n",
      "[322]\ttrain-rmse:1.44544\ttest-rmse:1.5977\n",
      "[323]\ttrain-rmse:1.44272\ttest-rmse:1.5956\n",
      "[324]\ttrain-rmse:1.44026\ttest-rmse:1.59356\n",
      "[325]\ttrain-rmse:1.43775\ttest-rmse:1.59159\n",
      "[326]\ttrain-rmse:1.43537\ttest-rmse:1.5896\n",
      "[327]\ttrain-rmse:1.43285\ttest-rmse:1.5877\n",
      "[328]\ttrain-rmse:1.4305\ttest-rmse:1.58582\n",
      "[329]\ttrain-rmse:1.42815\ttest-rmse:1.58398\n",
      "[330]\ttrain-rmse:1.42588\ttest-rmse:1.58211\n",
      "[331]\ttrain-rmse:1.42356\ttest-rmse:1.58028\n",
      "[332]\ttrain-rmse:1.42127\ttest-rmse:1.57844\n",
      "[333]\ttrain-rmse:1.41911\ttest-rmse:1.5767\n",
      "[334]\ttrain-rmse:1.41682\ttest-rmse:1.57497\n",
      "[335]\ttrain-rmse:1.41468\ttest-rmse:1.57323\n",
      "[336]\ttrain-rmse:1.4125\ttest-rmse:1.5716\n",
      "[337]\ttrain-rmse:1.41041\ttest-rmse:1.56999\n",
      "[338]\ttrain-rmse:1.40835\ttest-rmse:1.56845\n",
      "[339]\ttrain-rmse:1.40633\ttest-rmse:1.5669\n",
      "[340]\ttrain-rmse:1.40428\ttest-rmse:1.56535\n",
      "[341]\ttrain-rmse:1.40239\ttest-rmse:1.56382\n",
      "[342]\ttrain-rmse:1.4005\ttest-rmse:1.56234\n",
      "[343]\ttrain-rmse:1.39847\ttest-rmse:1.56088\n",
      "[344]\ttrain-rmse:1.3965\ttest-rmse:1.55943\n",
      "[345]\ttrain-rmse:1.39472\ttest-rmse:1.55801\n",
      "[346]\ttrain-rmse:1.39282\ttest-rmse:1.55663\n",
      "[347]\ttrain-rmse:1.39095\ttest-rmse:1.55522\n",
      "[348]\ttrain-rmse:1.38913\ttest-rmse:1.55386\n",
      "[349]\ttrain-rmse:1.38738\ttest-rmse:1.55261\n",
      "[350]\ttrain-rmse:1.38551\ttest-rmse:1.55127\n",
      "[351]\ttrain-rmse:1.38385\ttest-rmse:1.55002\n",
      "[352]\ttrain-rmse:1.38222\ttest-rmse:1.5488\n",
      "[353]\ttrain-rmse:1.38044\ttest-rmse:1.54761\n",
      "[354]\ttrain-rmse:1.37877\ttest-rmse:1.54641\n",
      "[355]\ttrain-rmse:1.37711\ttest-rmse:1.54517\n",
      "[356]\ttrain-rmse:1.37554\ttest-rmse:1.54391\n",
      "[357]\ttrain-rmse:1.37394\ttest-rmse:1.54278\n",
      "[358]\ttrain-rmse:1.37231\ttest-rmse:1.54164\n",
      "[359]\ttrain-rmse:1.37074\ttest-rmse:1.54052\n",
      "[360]\ttrain-rmse:1.3692\ttest-rmse:1.53942\n",
      "[361]\ttrain-rmse:1.36778\ttest-rmse:1.5384\n",
      "[362]\ttrain-rmse:1.36644\ttest-rmse:1.53733\n",
      "[363]\ttrain-rmse:1.365\ttest-rmse:1.53629\n",
      "[364]\ttrain-rmse:1.36352\ttest-rmse:1.53523\n",
      "[365]\ttrain-rmse:1.36204\ttest-rmse:1.53422\n",
      "[366]\ttrain-rmse:1.36069\ttest-rmse:1.53322\n",
      "[367]\ttrain-rmse:1.35934\ttest-rmse:1.53228\n",
      "[368]\ttrain-rmse:1.35807\ttest-rmse:1.53138\n",
      "[369]\ttrain-rmse:1.35681\ttest-rmse:1.53045\n",
      "[370]\ttrain-rmse:1.35545\ttest-rmse:1.5295\n",
      "[371]\ttrain-rmse:1.35409\ttest-rmse:1.52853\n",
      "[372]\ttrain-rmse:1.35282\ttest-rmse:1.52764\n",
      "[373]\ttrain-rmse:1.35157\ttest-rmse:1.52685\n",
      "[374]\ttrain-rmse:1.35034\ttest-rmse:1.52593\n",
      "[375]\ttrain-rmse:1.34902\ttest-rmse:1.5251\n",
      "[376]\ttrain-rmse:1.34782\ttest-rmse:1.52427\n",
      "[377]\ttrain-rmse:1.34662\ttest-rmse:1.52341\n",
      "[378]\ttrain-rmse:1.34527\ttest-rmse:1.52258\n",
      "[379]\ttrain-rmse:1.34416\ttest-rmse:1.52178\n",
      "[380]\ttrain-rmse:1.34294\ttest-rmse:1.52092\n",
      "[381]\ttrain-rmse:1.34183\ttest-rmse:1.5202\n",
      "[382]\ttrain-rmse:1.3407\ttest-rmse:1.51945\n",
      "[383]\ttrain-rmse:1.33957\ttest-rmse:1.51873\n",
      "[384]\ttrain-rmse:1.33849\ttest-rmse:1.51809\n",
      "[385]\ttrain-rmse:1.33738\ttest-rmse:1.51739\n",
      "[386]\ttrain-rmse:1.33637\ttest-rmse:1.5167\n"
     ]
    },
    {
     "name": "stdout",
     "output_type": "stream",
     "text": [
      "[387]\ttrain-rmse:1.33535\ttest-rmse:1.51598\n",
      "[388]\ttrain-rmse:1.33425\ttest-rmse:1.51538\n",
      "[389]\ttrain-rmse:1.33315\ttest-rmse:1.5147\n",
      "[390]\ttrain-rmse:1.33215\ttest-rmse:1.51402\n",
      "[391]\ttrain-rmse:1.33111\ttest-rmse:1.51334\n",
      "[392]\ttrain-rmse:1.32996\ttest-rmse:1.51265\n",
      "[393]\ttrain-rmse:1.32902\ttest-rmse:1.51205\n",
      "[394]\ttrain-rmse:1.32817\ttest-rmse:1.51149\n",
      "[395]\ttrain-rmse:1.32716\ttest-rmse:1.51087\n",
      "[396]\ttrain-rmse:1.32616\ttest-rmse:1.51026\n",
      "[397]\ttrain-rmse:1.32514\ttest-rmse:1.5096\n",
      "[398]\ttrain-rmse:1.32414\ttest-rmse:1.50894\n",
      "[399]\ttrain-rmse:1.32318\ttest-rmse:1.5083\n",
      "[400]\ttrain-rmse:1.32231\ttest-rmse:1.50775\n",
      "[401]\ttrain-rmse:1.32138\ttest-rmse:1.50717\n",
      "[402]\ttrain-rmse:1.32047\ttest-rmse:1.50667\n",
      "[403]\ttrain-rmse:1.31959\ttest-rmse:1.50617\n",
      "[404]\ttrain-rmse:1.31876\ttest-rmse:1.50572\n",
      "[405]\ttrain-rmse:1.31786\ttest-rmse:1.50519\n",
      "[406]\ttrain-rmse:1.31702\ttest-rmse:1.50469\n",
      "[407]\ttrain-rmse:1.31615\ttest-rmse:1.5042\n",
      "[408]\ttrain-rmse:1.31533\ttest-rmse:1.5037\n",
      "[409]\ttrain-rmse:1.31454\ttest-rmse:1.50322\n",
      "[410]\ttrain-rmse:1.31373\ttest-rmse:1.50278\n",
      "[411]\ttrain-rmse:1.31293\ttest-rmse:1.50232\n",
      "[412]\ttrain-rmse:1.31194\ttest-rmse:1.50188\n",
      "[413]\ttrain-rmse:1.31122\ttest-rmse:1.50147\n",
      "[414]\ttrain-rmse:1.31026\ttest-rmse:1.50102\n",
      "[415]\ttrain-rmse:1.30944\ttest-rmse:1.50055\n",
      "[416]\ttrain-rmse:1.30876\ttest-rmse:1.50014\n",
      "[417]\ttrain-rmse:1.3079\ttest-rmse:1.49975\n",
      "[418]\ttrain-rmse:1.30713\ttest-rmse:1.49935\n",
      "[419]\ttrain-rmse:1.30634\ttest-rmse:1.49882\n",
      "[420]\ttrain-rmse:1.30554\ttest-rmse:1.4984\n",
      "[421]\ttrain-rmse:1.30475\ttest-rmse:1.49797\n",
      "[422]\ttrain-rmse:1.30412\ttest-rmse:1.49756\n",
      "[423]\ttrain-rmse:1.30335\ttest-rmse:1.49719\n",
      "[424]\ttrain-rmse:1.30264\ttest-rmse:1.49681\n",
      "[425]\ttrain-rmse:1.30191\ttest-rmse:1.49645\n",
      "[426]\ttrain-rmse:1.30118\ttest-rmse:1.49598\n",
      "[427]\ttrain-rmse:1.30057\ttest-rmse:1.49561\n",
      "[428]\ttrain-rmse:1.29972\ttest-rmse:1.49515\n",
      "[429]\ttrain-rmse:1.29899\ttest-rmse:1.4948\n",
      "[430]\ttrain-rmse:1.2983\ttest-rmse:1.49443\n",
      "[431]\ttrain-rmse:1.29754\ttest-rmse:1.49406\n",
      "[432]\ttrain-rmse:1.29698\ttest-rmse:1.49375\n",
      "[433]\ttrain-rmse:1.29634\ttest-rmse:1.49344\n",
      "[434]\ttrain-rmse:1.29555\ttest-rmse:1.49308\n",
      "[435]\ttrain-rmse:1.29499\ttest-rmse:1.4928\n",
      "[436]\ttrain-rmse:1.2944\ttest-rmse:1.49242\n",
      "[437]\ttrain-rmse:1.29385\ttest-rmse:1.49211\n",
      "[438]\ttrain-rmse:1.29318\ttest-rmse:1.49175\n",
      "[439]\ttrain-rmse:1.29258\ttest-rmse:1.49154\n",
      "[440]\ttrain-rmse:1.29201\ttest-rmse:1.49124\n",
      "[441]\ttrain-rmse:1.29129\ttest-rmse:1.4909\n",
      "[442]\ttrain-rmse:1.29058\ttest-rmse:1.49057\n",
      "[443]\ttrain-rmse:1.29003\ttest-rmse:1.49027\n",
      "[444]\ttrain-rmse:1.28936\ttest-rmse:1.4899\n",
      "[445]\ttrain-rmse:1.28868\ttest-rmse:1.48965\n",
      "[446]\ttrain-rmse:1.28803\ttest-rmse:1.48937\n",
      "[447]\ttrain-rmse:1.2875\ttest-rmse:1.48913\n",
      "[448]\ttrain-rmse:1.28694\ttest-rmse:1.4888\n",
      "[449]\ttrain-rmse:1.28638\ttest-rmse:1.48848\n",
      "[450]\ttrain-rmse:1.28577\ttest-rmse:1.48822\n",
      "[451]\ttrain-rmse:1.28523\ttest-rmse:1.48794\n",
      "[452]\ttrain-rmse:1.28469\ttest-rmse:1.48767\n",
      "[453]\ttrain-rmse:1.28407\ttest-rmse:1.48737\n",
      "[454]\ttrain-rmse:1.28352\ttest-rmse:1.48716\n",
      "[455]\ttrain-rmse:1.28293\ttest-rmse:1.48692\n",
      "[456]\ttrain-rmse:1.28238\ttest-rmse:1.48666\n",
      "[457]\ttrain-rmse:1.28184\ttest-rmse:1.48638\n",
      "[458]\ttrain-rmse:1.28123\ttest-rmse:1.48612\n",
      "[459]\ttrain-rmse:1.28066\ttest-rmse:1.48588\n",
      "[460]\ttrain-rmse:1.28019\ttest-rmse:1.48563\n",
      "[461]\ttrain-rmse:1.27948\ttest-rmse:1.48544\n",
      "[462]\ttrain-rmse:1.27901\ttest-rmse:1.48521\n",
      "[463]\ttrain-rmse:1.27824\ttest-rmse:1.48502\n",
      "[464]\ttrain-rmse:1.27776\ttest-rmse:1.4848\n",
      "[465]\ttrain-rmse:1.27724\ttest-rmse:1.48458\n",
      "[466]\ttrain-rmse:1.27676\ttest-rmse:1.48431\n",
      "[467]\ttrain-rmse:1.27617\ttest-rmse:1.48406\n",
      "[468]\ttrain-rmse:1.27572\ttest-rmse:1.48393\n",
      "[469]\ttrain-rmse:1.27498\ttest-rmse:1.48375\n",
      "[470]\ttrain-rmse:1.27442\ttest-rmse:1.48355\n",
      "[471]\ttrain-rmse:1.27392\ttest-rmse:1.48331\n",
      "[472]\ttrain-rmse:1.27348\ttest-rmse:1.48312\n",
      "[473]\ttrain-rmse:1.27297\ttest-rmse:1.48296\n",
      "[474]\ttrain-rmse:1.27244\ttest-rmse:1.48273\n",
      "[475]\ttrain-rmse:1.272\ttest-rmse:1.48257\n",
      "[476]\ttrain-rmse:1.27161\ttest-rmse:1.48242\n",
      "[477]\ttrain-rmse:1.27113\ttest-rmse:1.48218\n",
      "[478]\ttrain-rmse:1.2707\ttest-rmse:1.48192\n",
      "[479]\ttrain-rmse:1.27016\ttest-rmse:1.48175\n",
      "[480]\ttrain-rmse:1.26977\ttest-rmse:1.4817\n",
      "[481]\ttrain-rmse:1.26934\ttest-rmse:1.48154\n",
      "[482]\ttrain-rmse:1.26898\ttest-rmse:1.48139\n",
      "[483]\ttrain-rmse:1.26848\ttest-rmse:1.48116\n",
      "[484]\ttrain-rmse:1.2681\ttest-rmse:1.48103\n",
      "[485]\ttrain-rmse:1.26759\ttest-rmse:1.48086\n",
      "[486]\ttrain-rmse:1.26719\ttest-rmse:1.48065\n",
      "[487]\ttrain-rmse:1.26676\ttest-rmse:1.48053\n",
      "[488]\ttrain-rmse:1.26635\ttest-rmse:1.48041\n",
      "[489]\ttrain-rmse:1.26588\ttest-rmse:1.48023\n",
      "[490]\ttrain-rmse:1.26536\ttest-rmse:1.48005\n",
      "[491]\ttrain-rmse:1.26496\ttest-rmse:1.47988\n",
      "[492]\ttrain-rmse:1.26437\ttest-rmse:1.47973\n",
      "[493]\ttrain-rmse:1.26389\ttest-rmse:1.47964\n",
      "[494]\ttrain-rmse:1.26355\ttest-rmse:1.47949\n",
      "[495]\ttrain-rmse:1.2631\ttest-rmse:1.47932\n",
      "[496]\ttrain-rmse:1.26245\ttest-rmse:1.47917\n",
      "[497]\ttrain-rmse:1.2619\ttest-rmse:1.47902\n",
      "[498]\ttrain-rmse:1.2615\ttest-rmse:1.47891\n",
      "[499]\ttrain-rmse:1.26097\ttest-rmse:1.47871\n",
      "[500]\ttrain-rmse:1.26065\ttest-rmse:1.47858\n",
      "[501]\ttrain-rmse:1.26028\ttest-rmse:1.47845\n",
      "[502]\ttrain-rmse:1.25983\ttest-rmse:1.47828\n",
      "[503]\ttrain-rmse:1.25942\ttest-rmse:1.47816\n",
      "[504]\ttrain-rmse:1.25894\ttest-rmse:1.47801\n",
      "[505]\ttrain-rmse:1.25843\ttest-rmse:1.47788\n",
      "[506]\ttrain-rmse:1.25809\ttest-rmse:1.47776\n",
      "[507]\ttrain-rmse:1.25759\ttest-rmse:1.47765\n",
      "[508]\ttrain-rmse:1.25714\ttest-rmse:1.47746\n",
      "[509]\ttrain-rmse:1.25672\ttest-rmse:1.47731\n",
      "[510]\ttrain-rmse:1.25629\ttest-rmse:1.47713\n",
      "[511]\ttrain-rmse:1.2558\ttest-rmse:1.47698\n",
      "[512]\ttrain-rmse:1.25536\ttest-rmse:1.47687\n",
      "[513]\ttrain-rmse:1.25478\ttest-rmse:1.47671\n",
      "[514]\ttrain-rmse:1.2544\ttest-rmse:1.47656\n",
      "[515]\ttrain-rmse:1.25403\ttest-rmse:1.47649\n",
      "[516]\ttrain-rmse:1.25373\ttest-rmse:1.47638\n",
      "[517]\ttrain-rmse:1.25339\ttest-rmse:1.47634\n",
      "[518]\ttrain-rmse:1.25276\ttest-rmse:1.47613\n",
      "[519]\ttrain-rmse:1.25233\ttest-rmse:1.47597\n",
      "[520]\ttrain-rmse:1.25199\ttest-rmse:1.47582\n",
      "[521]\ttrain-rmse:1.25159\ttest-rmse:1.47575\n",
      "[522]\ttrain-rmse:1.25121\ttest-rmse:1.47566\n",
      "[523]\ttrain-rmse:1.25083\ttest-rmse:1.47557\n",
      "[524]\ttrain-rmse:1.25053\ttest-rmse:1.47547\n",
      "[525]\ttrain-rmse:1.25008\ttest-rmse:1.4753\n",
      "[526]\ttrain-rmse:1.24974\ttest-rmse:1.47516\n",
      "[527]\ttrain-rmse:1.2493\ttest-rmse:1.47504\n",
      "[528]\ttrain-rmse:1.24882\ttest-rmse:1.47491\n",
      "[529]\ttrain-rmse:1.24835\ttest-rmse:1.47477\n",
      "[530]\ttrain-rmse:1.2479\ttest-rmse:1.47466\n",
      "[531]\ttrain-rmse:1.24754\ttest-rmse:1.47457\n",
      "[532]\ttrain-rmse:1.24717\ttest-rmse:1.47449\n",
      "[533]\ttrain-rmse:1.24687\ttest-rmse:1.47439\n",
      "[534]\ttrain-rmse:1.24649\ttest-rmse:1.4742\n",
      "[535]\ttrain-rmse:1.24602\ttest-rmse:1.47413\n",
      "[536]\ttrain-rmse:1.24576\ttest-rmse:1.47408\n",
      "[537]\ttrain-rmse:1.24541\ttest-rmse:1.47399\n",
      "[538]\ttrain-rmse:1.24485\ttest-rmse:1.47391\n",
      "[539]\ttrain-rmse:1.24441\ttest-rmse:1.47383\n",
      "[540]\ttrain-rmse:1.24411\ttest-rmse:1.4738\n",
      "[541]\ttrain-rmse:1.24371\ttest-rmse:1.47365\n",
      "[542]\ttrain-rmse:1.24331\ttest-rmse:1.47352\n",
      "[543]\ttrain-rmse:1.24289\ttest-rmse:1.47351\n",
      "[544]\ttrain-rmse:1.24254\ttest-rmse:1.4734\n",
      "[545]\ttrain-rmse:1.24218\ttest-rmse:1.47332\n",
      "[546]\ttrain-rmse:1.24184\ttest-rmse:1.47325\n",
      "[547]\ttrain-rmse:1.24148\ttest-rmse:1.47314\n",
      "[548]\ttrain-rmse:1.24112\ttest-rmse:1.47305\n",
      "[549]\ttrain-rmse:1.24057\ttest-rmse:1.47293\n",
      "[550]\ttrain-rmse:1.24027\ttest-rmse:1.47284\n",
      "[551]\ttrain-rmse:1.23996\ttest-rmse:1.47269\n",
      "[552]\ttrain-rmse:1.23959\ttest-rmse:1.47262\n",
      "[553]\ttrain-rmse:1.2393\ttest-rmse:1.47254\n",
      "[554]\ttrain-rmse:1.23882\ttest-rmse:1.47242\n",
      "[555]\ttrain-rmse:1.2384\ttest-rmse:1.47236\n",
      "[556]\ttrain-rmse:1.23798\ttest-rmse:1.47225\n",
      "[557]\ttrain-rmse:1.23755\ttest-rmse:1.47217\n",
      "[558]\ttrain-rmse:1.23722\ttest-rmse:1.47208\n",
      "[559]\ttrain-rmse:1.23692\ttest-rmse:1.47201\n",
      "[560]\ttrain-rmse:1.23666\ttest-rmse:1.47197\n",
      "[561]\ttrain-rmse:1.23611\ttest-rmse:1.47191\n",
      "[562]\ttrain-rmse:1.23573\ttest-rmse:1.47181\n",
      "[563]\ttrain-rmse:1.23546\ttest-rmse:1.47175\n",
      "[564]\ttrain-rmse:1.23515\ttest-rmse:1.47169\n",
      "[565]\ttrain-rmse:1.23483\ttest-rmse:1.4716\n",
      "[566]\ttrain-rmse:1.23451\ttest-rmse:1.47155\n",
      "[567]\ttrain-rmse:1.23414\ttest-rmse:1.47146\n",
      "[568]\ttrain-rmse:1.2339\ttest-rmse:1.47145\n",
      "[569]\ttrain-rmse:1.23366\ttest-rmse:1.47134\n",
      "[570]\ttrain-rmse:1.23327\ttest-rmse:1.47122\n",
      "[571]\ttrain-rmse:1.23301\ttest-rmse:1.47122\n",
      "[572]\ttrain-rmse:1.2327\ttest-rmse:1.47111\n",
      "[573]\ttrain-rmse:1.2325\ttest-rmse:1.47105\n",
      "[574]\ttrain-rmse:1.23211\ttest-rmse:1.47093\n",
      "[575]\ttrain-rmse:1.23183\ttest-rmse:1.47089\n",
      "[576]\ttrain-rmse:1.23132\ttest-rmse:1.47079\n",
      "[577]\ttrain-rmse:1.23105\ttest-rmse:1.47073\n",
      "[578]\ttrain-rmse:1.23064\ttest-rmse:1.47067\n"
     ]
    },
    {
     "name": "stdout",
     "output_type": "stream",
     "text": [
      "[579]\ttrain-rmse:1.23026\ttest-rmse:1.47065\n",
      "[580]\ttrain-rmse:1.22992\ttest-rmse:1.47053\n",
      "[581]\ttrain-rmse:1.22969\ttest-rmse:1.47051\n",
      "[582]\ttrain-rmse:1.22931\ttest-rmse:1.47047\n",
      "[583]\ttrain-rmse:1.22897\ttest-rmse:1.47038\n",
      "[584]\ttrain-rmse:1.22873\ttest-rmse:1.47032\n",
      "[585]\ttrain-rmse:1.22836\ttest-rmse:1.47025\n",
      "[586]\ttrain-rmse:1.22819\ttest-rmse:1.47019\n",
      "[587]\ttrain-rmse:1.22779\ttest-rmse:1.47015\n",
      "[588]\ttrain-rmse:1.22751\ttest-rmse:1.47005\n",
      "[589]\ttrain-rmse:1.22722\ttest-rmse:1.47001\n",
      "[590]\ttrain-rmse:1.22697\ttest-rmse:1.46996\n",
      "[591]\ttrain-rmse:1.22672\ttest-rmse:1.46989\n",
      "[592]\ttrain-rmse:1.22627\ttest-rmse:1.46985\n",
      "[593]\ttrain-rmse:1.22599\ttest-rmse:1.46978\n",
      "[594]\ttrain-rmse:1.22559\ttest-rmse:1.46972\n",
      "[595]\ttrain-rmse:1.22527\ttest-rmse:1.46966\n",
      "[596]\ttrain-rmse:1.22497\ttest-rmse:1.46962\n",
      "[597]\ttrain-rmse:1.22473\ttest-rmse:1.46958\n",
      "[598]\ttrain-rmse:1.2244\ttest-rmse:1.46952\n",
      "[599]\ttrain-rmse:1.22413\ttest-rmse:1.46946\n",
      "[600]\ttrain-rmse:1.22385\ttest-rmse:1.46935\n",
      "[601]\ttrain-rmse:1.22366\ttest-rmse:1.46931\n",
      "[602]\ttrain-rmse:1.22336\ttest-rmse:1.4693\n",
      "[603]\ttrain-rmse:1.22309\ttest-rmse:1.46923\n",
      "[604]\ttrain-rmse:1.22284\ttest-rmse:1.46918\n",
      "[605]\ttrain-rmse:1.22259\ttest-rmse:1.46912\n",
      "[606]\ttrain-rmse:1.22229\ttest-rmse:1.4691\n",
      "[607]\ttrain-rmse:1.22199\ttest-rmse:1.46898\n",
      "[608]\ttrain-rmse:1.22166\ttest-rmse:1.46894\n",
      "[609]\ttrain-rmse:1.22134\ttest-rmse:1.46884\n",
      "[610]\ttrain-rmse:1.22104\ttest-rmse:1.46877\n",
      "[611]\ttrain-rmse:1.22082\ttest-rmse:1.4688\n",
      "[612]\ttrain-rmse:1.22052\ttest-rmse:1.4687\n",
      "[613]\ttrain-rmse:1.22025\ttest-rmse:1.46866\n",
      "[614]\ttrain-rmse:1.22004\ttest-rmse:1.46861\n",
      "[615]\ttrain-rmse:1.21972\ttest-rmse:1.4685\n",
      "[616]\ttrain-rmse:1.21934\ttest-rmse:1.4684\n",
      "[617]\ttrain-rmse:1.21896\ttest-rmse:1.46828\n",
      "[618]\ttrain-rmse:1.21872\ttest-rmse:1.46822\n",
      "[619]\ttrain-rmse:1.21842\ttest-rmse:1.46819\n",
      "[620]\ttrain-rmse:1.21808\ttest-rmse:1.46814\n",
      "[621]\ttrain-rmse:1.2178\ttest-rmse:1.46805\n",
      "[622]\ttrain-rmse:1.21749\ttest-rmse:1.46802\n",
      "[623]\ttrain-rmse:1.21722\ttest-rmse:1.46798\n",
      "[624]\ttrain-rmse:1.21698\ttest-rmse:1.46792\n",
      "[625]\ttrain-rmse:1.21673\ttest-rmse:1.46785\n",
      "[626]\ttrain-rmse:1.2165\ttest-rmse:1.46783\n",
      "[627]\ttrain-rmse:1.21626\ttest-rmse:1.46774\n",
      "[628]\ttrain-rmse:1.21608\ttest-rmse:1.46772\n",
      "[629]\ttrain-rmse:1.21583\ttest-rmse:1.46772\n",
      "[630]\ttrain-rmse:1.21546\ttest-rmse:1.46765\n",
      "[631]\ttrain-rmse:1.21518\ttest-rmse:1.46757\n",
      "[632]\ttrain-rmse:1.21498\ttest-rmse:1.46752\n",
      "[633]\ttrain-rmse:1.21463\ttest-rmse:1.46749\n",
      "[634]\ttrain-rmse:1.21437\ttest-rmse:1.46749\n",
      "[635]\ttrain-rmse:1.21414\ttest-rmse:1.46744\n",
      "[636]\ttrain-rmse:1.2139\ttest-rmse:1.46741\n",
      "[637]\ttrain-rmse:1.21369\ttest-rmse:1.46734\n",
      "[638]\ttrain-rmse:1.2135\ttest-rmse:1.46729\n",
      "[639]\ttrain-rmse:1.21323\ttest-rmse:1.46721\n",
      "[640]\ttrain-rmse:1.21297\ttest-rmse:1.46719\n",
      "[641]\ttrain-rmse:1.21262\ttest-rmse:1.46714\n",
      "[642]\ttrain-rmse:1.21237\ttest-rmse:1.46712\n",
      "[643]\ttrain-rmse:1.21212\ttest-rmse:1.46716\n",
      "[644]\ttrain-rmse:1.21186\ttest-rmse:1.46712\n",
      "[645]\ttrain-rmse:1.21163\ttest-rmse:1.46706\n",
      "[646]\ttrain-rmse:1.21128\ttest-rmse:1.46699\n",
      "[647]\ttrain-rmse:1.21109\ttest-rmse:1.46691\n",
      "[648]\ttrain-rmse:1.21087\ttest-rmse:1.46688\n",
      "[649]\ttrain-rmse:1.21066\ttest-rmse:1.46679\n",
      "[650]\ttrain-rmse:1.21045\ttest-rmse:1.46677\n",
      "[651]\ttrain-rmse:1.21015\ttest-rmse:1.46671\n",
      "[652]\ttrain-rmse:1.20993\ttest-rmse:1.46664\n",
      "[653]\ttrain-rmse:1.2097\ttest-rmse:1.46662\n",
      "[654]\ttrain-rmse:1.20939\ttest-rmse:1.46652\n",
      "[655]\ttrain-rmse:1.20919\ttest-rmse:1.46648\n",
      "[656]\ttrain-rmse:1.20905\ttest-rmse:1.46646\n",
      "[657]\ttrain-rmse:1.20882\ttest-rmse:1.46643\n",
      "[658]\ttrain-rmse:1.20858\ttest-rmse:1.46637\n",
      "[659]\ttrain-rmse:1.20837\ttest-rmse:1.46632\n",
      "[660]\ttrain-rmse:1.20804\ttest-rmse:1.46633\n",
      "[661]\ttrain-rmse:1.20776\ttest-rmse:1.46629\n",
      "[662]\ttrain-rmse:1.20749\ttest-rmse:1.46626\n",
      "[663]\ttrain-rmse:1.20725\ttest-rmse:1.46623\n",
      "[664]\ttrain-rmse:1.20695\ttest-rmse:1.46612\n",
      "[665]\ttrain-rmse:1.20672\ttest-rmse:1.46615\n",
      "[666]\ttrain-rmse:1.2064\ttest-rmse:1.46615\n",
      "[667]\ttrain-rmse:1.20626\ttest-rmse:1.46609\n",
      "[668]\ttrain-rmse:1.2059\ttest-rmse:1.46603\n",
      "[669]\ttrain-rmse:1.20562\ttest-rmse:1.46593\n",
      "[670]\ttrain-rmse:1.20529\ttest-rmse:1.46586\n",
      "[671]\ttrain-rmse:1.20506\ttest-rmse:1.46586\n",
      "[672]\ttrain-rmse:1.20485\ttest-rmse:1.4658\n",
      "[673]\ttrain-rmse:1.20461\ttest-rmse:1.46579\n",
      "[674]\ttrain-rmse:1.20439\ttest-rmse:1.46574\n",
      "[675]\ttrain-rmse:1.2042\ttest-rmse:1.46568\n",
      "[676]\ttrain-rmse:1.20397\ttest-rmse:1.46561\n",
      "[677]\ttrain-rmse:1.20372\ttest-rmse:1.46557\n",
      "[678]\ttrain-rmse:1.20346\ttest-rmse:1.46553\n",
      "[679]\ttrain-rmse:1.20324\ttest-rmse:1.46552\n",
      "[680]\ttrain-rmse:1.20297\ttest-rmse:1.46547\n",
      "[681]\ttrain-rmse:1.2028\ttest-rmse:1.46544\n",
      "[682]\ttrain-rmse:1.20248\ttest-rmse:1.46541\n",
      "[683]\ttrain-rmse:1.20222\ttest-rmse:1.46542\n",
      "[684]\ttrain-rmse:1.20192\ttest-rmse:1.46538\n",
      "[685]\ttrain-rmse:1.20167\ttest-rmse:1.46529\n",
      "[686]\ttrain-rmse:1.20146\ttest-rmse:1.46529\n",
      "[687]\ttrain-rmse:1.20114\ttest-rmse:1.46527\n",
      "[688]\ttrain-rmse:1.20098\ttest-rmse:1.46524\n",
      "[689]\ttrain-rmse:1.20078\ttest-rmse:1.4652\n",
      "[690]\ttrain-rmse:1.20046\ttest-rmse:1.46516\n",
      "[691]\ttrain-rmse:1.20029\ttest-rmse:1.46512\n",
      "[692]\ttrain-rmse:1.2001\ttest-rmse:1.46511\n",
      "[693]\ttrain-rmse:1.19988\ttest-rmse:1.46506\n",
      "[694]\ttrain-rmse:1.19971\ttest-rmse:1.46506\n",
      "[695]\ttrain-rmse:1.19949\ttest-rmse:1.46502\n",
      "[696]\ttrain-rmse:1.19919\ttest-rmse:1.46498\n",
      "[697]\ttrain-rmse:1.19888\ttest-rmse:1.46489\n",
      "[698]\ttrain-rmse:1.19873\ttest-rmse:1.46487\n",
      "[699]\ttrain-rmse:1.19852\ttest-rmse:1.46479\n",
      "[700]\ttrain-rmse:1.1983\ttest-rmse:1.46477\n",
      "[701]\ttrain-rmse:1.19809\ttest-rmse:1.46472\n",
      "[702]\ttrain-rmse:1.19793\ttest-rmse:1.46468\n",
      "[703]\ttrain-rmse:1.19772\ttest-rmse:1.46463\n",
      "[704]\ttrain-rmse:1.19755\ttest-rmse:1.4646\n",
      "[705]\ttrain-rmse:1.19737\ttest-rmse:1.46458\n",
      "[706]\ttrain-rmse:1.1972\ttest-rmse:1.46454\n",
      "[707]\ttrain-rmse:1.19703\ttest-rmse:1.46453\n",
      "[708]\ttrain-rmse:1.19665\ttest-rmse:1.4645\n",
      "[709]\ttrain-rmse:1.19638\ttest-rmse:1.46445\n",
      "[710]\ttrain-rmse:1.19622\ttest-rmse:1.46444\n",
      "[711]\ttrain-rmse:1.196\ttest-rmse:1.46443\n",
      "[712]\ttrain-rmse:1.19584\ttest-rmse:1.46445\n",
      "[713]\ttrain-rmse:1.19566\ttest-rmse:1.46442\n",
      "[714]\ttrain-rmse:1.19541\ttest-rmse:1.4644\n",
      "[715]\ttrain-rmse:1.19512\ttest-rmse:1.46436\n",
      "[716]\ttrain-rmse:1.1949\ttest-rmse:1.46435\n",
      "[717]\ttrain-rmse:1.1947\ttest-rmse:1.46427\n",
      "[718]\ttrain-rmse:1.19448\ttest-rmse:1.46425\n",
      "[719]\ttrain-rmse:1.19426\ttest-rmse:1.46419\n",
      "[720]\ttrain-rmse:1.19411\ttest-rmse:1.46415\n",
      "[721]\ttrain-rmse:1.19384\ttest-rmse:1.46408\n",
      "[722]\ttrain-rmse:1.19373\ttest-rmse:1.46408\n",
      "[723]\ttrain-rmse:1.19361\ttest-rmse:1.46406\n",
      "[724]\ttrain-rmse:1.19345\ttest-rmse:1.46401\n",
      "[725]\ttrain-rmse:1.19328\ttest-rmse:1.46399\n",
      "[726]\ttrain-rmse:1.19303\ttest-rmse:1.46396\n",
      "[727]\ttrain-rmse:1.19282\ttest-rmse:1.46397\n",
      "[728]\ttrain-rmse:1.19246\ttest-rmse:1.46389\n",
      "[729]\ttrain-rmse:1.1923\ttest-rmse:1.46383\n",
      "[730]\ttrain-rmse:1.19215\ttest-rmse:1.46381\n",
      "[731]\ttrain-rmse:1.192\ttest-rmse:1.46378\n",
      "[732]\ttrain-rmse:1.19172\ttest-rmse:1.46374\n",
      "[733]\ttrain-rmse:1.1916\ttest-rmse:1.4637\n",
      "[734]\ttrain-rmse:1.19145\ttest-rmse:1.46371\n",
      "[735]\ttrain-rmse:1.19114\ttest-rmse:1.46366\n",
      "[736]\ttrain-rmse:1.19099\ttest-rmse:1.46363\n",
      "[737]\ttrain-rmse:1.19082\ttest-rmse:1.46364\n",
      "[738]\ttrain-rmse:1.19057\ttest-rmse:1.46362\n",
      "[739]\ttrain-rmse:1.19032\ttest-rmse:1.4636\n",
      "[740]\ttrain-rmse:1.19014\ttest-rmse:1.46353\n",
      "[741]\ttrain-rmse:1.19001\ttest-rmse:1.46352\n",
      "[742]\ttrain-rmse:1.18984\ttest-rmse:1.46347\n",
      "[743]\ttrain-rmse:1.18971\ttest-rmse:1.46342\n",
      "[744]\ttrain-rmse:1.18951\ttest-rmse:1.46341\n",
      "[745]\ttrain-rmse:1.18936\ttest-rmse:1.46339\n",
      "[746]\ttrain-rmse:1.18921\ttest-rmse:1.46337\n",
      "[747]\ttrain-rmse:1.18904\ttest-rmse:1.4633\n",
      "[748]\ttrain-rmse:1.18887\ttest-rmse:1.46327\n",
      "[749]\ttrain-rmse:1.18861\ttest-rmse:1.46322\n",
      "[750]\ttrain-rmse:1.18845\ttest-rmse:1.46321\n",
      "[751]\ttrain-rmse:1.18823\ttest-rmse:1.4632\n",
      "[752]\ttrain-rmse:1.18811\ttest-rmse:1.4632\n",
      "[753]\ttrain-rmse:1.18783\ttest-rmse:1.46317\n",
      "[754]\ttrain-rmse:1.18764\ttest-rmse:1.46314\n",
      "[755]\ttrain-rmse:1.18752\ttest-rmse:1.46314\n",
      "[756]\ttrain-rmse:1.18737\ttest-rmse:1.46309\n",
      "[757]\ttrain-rmse:1.18715\ttest-rmse:1.46306\n",
      "[758]\ttrain-rmse:1.18697\ttest-rmse:1.46303\n",
      "[759]\ttrain-rmse:1.18668\ttest-rmse:1.46297\n",
      "[760]\ttrain-rmse:1.18648\ttest-rmse:1.46294\n",
      "[761]\ttrain-rmse:1.1863\ttest-rmse:1.46288\n",
      "[762]\ttrain-rmse:1.1861\ttest-rmse:1.46289\n",
      "[763]\ttrain-rmse:1.18585\ttest-rmse:1.46286\n",
      "[764]\ttrain-rmse:1.18572\ttest-rmse:1.46285\n",
      "[765]\ttrain-rmse:1.18554\ttest-rmse:1.4628\n",
      "[766]\ttrain-rmse:1.18531\ttest-rmse:1.46276\n",
      "[767]\ttrain-rmse:1.18516\ttest-rmse:1.46275\n",
      "[768]\ttrain-rmse:1.18507\ttest-rmse:1.46271\n",
      "[769]\ttrain-rmse:1.18481\ttest-rmse:1.4627\n",
      "[770]\ttrain-rmse:1.1846\ttest-rmse:1.46265\n"
     ]
    },
    {
     "name": "stdout",
     "output_type": "stream",
     "text": [
      "[771]\ttrain-rmse:1.1845\ttest-rmse:1.46262\n",
      "[772]\ttrain-rmse:1.18435\ttest-rmse:1.46259\n",
      "[773]\ttrain-rmse:1.1842\ttest-rmse:1.4626\n",
      "[774]\ttrain-rmse:1.18404\ttest-rmse:1.46258\n",
      "[775]\ttrain-rmse:1.18391\ttest-rmse:1.46258\n",
      "[776]\ttrain-rmse:1.18371\ttest-rmse:1.46254\n",
      "[777]\ttrain-rmse:1.18356\ttest-rmse:1.4625\n",
      "[778]\ttrain-rmse:1.18329\ttest-rmse:1.46249\n",
      "[779]\ttrain-rmse:1.18306\ttest-rmse:1.46245\n",
      "[780]\ttrain-rmse:1.18291\ttest-rmse:1.46238\n",
      "[781]\ttrain-rmse:1.18272\ttest-rmse:1.46238\n",
      "[782]\ttrain-rmse:1.18251\ttest-rmse:1.46236\n",
      "[783]\ttrain-rmse:1.18235\ttest-rmse:1.46232\n",
      "[784]\ttrain-rmse:1.18214\ttest-rmse:1.46228\n",
      "[785]\ttrain-rmse:1.18201\ttest-rmse:1.46228\n",
      "[786]\ttrain-rmse:1.18181\ttest-rmse:1.46222\n",
      "[787]\ttrain-rmse:1.18163\ttest-rmse:1.46218\n",
      "[788]\ttrain-rmse:1.18146\ttest-rmse:1.46212\n",
      "[789]\ttrain-rmse:1.18123\ttest-rmse:1.4621\n",
      "[790]\ttrain-rmse:1.1811\ttest-rmse:1.46211\n",
      "[791]\ttrain-rmse:1.18098\ttest-rmse:1.46211\n",
      "[792]\ttrain-rmse:1.18081\ttest-rmse:1.46211\n",
      "[793]\ttrain-rmse:1.1806\ttest-rmse:1.4621\n",
      "[794]\ttrain-rmse:1.1804\ttest-rmse:1.46205\n",
      "[795]\ttrain-rmse:1.18018\ttest-rmse:1.46202\n",
      "[796]\ttrain-rmse:1.17988\ttest-rmse:1.46196\n",
      "[797]\ttrain-rmse:1.17966\ttest-rmse:1.46194\n",
      "[798]\ttrain-rmse:1.1794\ttest-rmse:1.46186\n",
      "[799]\ttrain-rmse:1.17915\ttest-rmse:1.46185\n",
      "[800]\ttrain-rmse:1.17907\ttest-rmse:1.46183\n",
      "[801]\ttrain-rmse:1.17872\ttest-rmse:1.46177\n",
      "[802]\ttrain-rmse:1.17857\ttest-rmse:1.46172\n",
      "[803]\ttrain-rmse:1.1784\ttest-rmse:1.4617\n",
      "[804]\ttrain-rmse:1.17823\ttest-rmse:1.46168\n",
      "[805]\ttrain-rmse:1.17799\ttest-rmse:1.46165\n",
      "[806]\ttrain-rmse:1.17781\ttest-rmse:1.46162\n",
      "[807]\ttrain-rmse:1.1776\ttest-rmse:1.46159\n",
      "[808]\ttrain-rmse:1.17749\ttest-rmse:1.46158\n",
      "[809]\ttrain-rmse:1.17731\ttest-rmse:1.4616\n",
      "[810]\ttrain-rmse:1.1772\ttest-rmse:1.46159\n",
      "[811]\ttrain-rmse:1.1771\ttest-rmse:1.46159\n",
      "[812]\ttrain-rmse:1.17696\ttest-rmse:1.46159\n",
      "[813]\ttrain-rmse:1.17687\ttest-rmse:1.46156\n",
      "[814]\ttrain-rmse:1.17668\ttest-rmse:1.46149\n",
      "[815]\ttrain-rmse:1.17639\ttest-rmse:1.46142\n",
      "[816]\ttrain-rmse:1.17625\ttest-rmse:1.46141\n",
      "[817]\ttrain-rmse:1.17608\ttest-rmse:1.46139\n",
      "[818]\ttrain-rmse:1.17593\ttest-rmse:1.46137\n",
      "[819]\ttrain-rmse:1.17576\ttest-rmse:1.46137\n",
      "[820]\ttrain-rmse:1.17564\ttest-rmse:1.46132\n",
      "[821]\ttrain-rmse:1.17548\ttest-rmse:1.46132\n",
      "[822]\ttrain-rmse:1.17525\ttest-rmse:1.4613\n",
      "[823]\ttrain-rmse:1.17509\ttest-rmse:1.46127\n",
      "[824]\ttrain-rmse:1.17495\ttest-rmse:1.46126\n",
      "[825]\ttrain-rmse:1.17481\ttest-rmse:1.46122\n",
      "[826]\ttrain-rmse:1.17468\ttest-rmse:1.46124\n",
      "[827]\ttrain-rmse:1.17449\ttest-rmse:1.46123\n",
      "[828]\ttrain-rmse:1.17429\ttest-rmse:1.4612\n",
      "[829]\ttrain-rmse:1.17418\ttest-rmse:1.46117\n",
      "[830]\ttrain-rmse:1.17396\ttest-rmse:1.46114\n",
      "[831]\ttrain-rmse:1.17382\ttest-rmse:1.46109\n",
      "[832]\ttrain-rmse:1.17366\ttest-rmse:1.46105\n",
      "[833]\ttrain-rmse:1.17336\ttest-rmse:1.46103\n",
      "[834]\ttrain-rmse:1.1731\ttest-rmse:1.46098\n",
      "[835]\ttrain-rmse:1.17292\ttest-rmse:1.46098\n",
      "[836]\ttrain-rmse:1.17276\ttest-rmse:1.461\n",
      "[837]\ttrain-rmse:1.17259\ttest-rmse:1.46097\n",
      "[838]\ttrain-rmse:1.17243\ttest-rmse:1.46096\n",
      "[839]\ttrain-rmse:1.17221\ttest-rmse:1.46094\n",
      "[840]\ttrain-rmse:1.17203\ttest-rmse:1.46094\n",
      "[841]\ttrain-rmse:1.1719\ttest-rmse:1.46094\n",
      "[842]\ttrain-rmse:1.17176\ttest-rmse:1.46094\n",
      "[843]\ttrain-rmse:1.17162\ttest-rmse:1.46097\n",
      "[844]\ttrain-rmse:1.17147\ttest-rmse:1.46097\n",
      "[845]\ttrain-rmse:1.17129\ttest-rmse:1.46095\n"
     ]
    },
    {
     "data": {
      "text/plain": [
       "36.52139115333557"
      ]
     },
     "execution_count": 75,
     "metadata": {},
     "output_type": "execute_result"
    }
   ],
   "source": [
    "ts = time.time()\n",
    "model_xgboost = xgb.cv(params=xgb_params,\n",
    "                       dtrain=xgb_complete_data,\n",
    "                       num_boost_round=1000,\n",
    "                       nfold=5,\n",
    "                       early_stopping_rounds=5,\n",
    "                       callbacks=[xgb.callback.print_evaluation(show_stdv=False)]) \n",
    "time.time() - ts"
   ]
  },
  {
   "cell_type": "code",
   "execution_count": 77,
   "metadata": {},
   "outputs": [
    {
     "data": {
      "text/plain": [
       "840    1.460938\n",
       "Name: test-rmse-mean, dtype: float64"
      ]
     },
     "execution_count": 77,
     "metadata": {},
     "output_type": "execute_result"
    }
   ],
   "source": [
    "model_xgboost[model_xgboost['test-rmse-mean'] == model_xgboost['test-rmse-mean'].min()]['test-rmse-mean']"
   ]
  },
  {
   "cell_type": "code",
   "execution_count": 80,
   "metadata": {},
   "outputs": [
    {
     "data": {
      "text/plain": [
       "840"
      ]
     },
     "execution_count": 80,
     "metadata": {},
     "output_type": "execute_result"
    }
   ],
   "source": [
    "model_xgboost[model_xgboost['test-rmse-mean'] == model_xgboost['test-rmse-mean'].min()].index[0]"
   ]
  },
  {
   "cell_type": "markdown",
   "metadata": {},
   "source": [
    "### The score looks to have increased considerably. Let us generate predictions for the test data."
   ]
  },
  {
   "cell_type": "code",
   "execution_count": 81,
   "metadata": {},
   "outputs": [],
   "source": [
    "model_full_train_data = xgb.train(params=xgb_params,\n",
    "                                  dtrain=xgb_complete_data,\n",
    "                                  num_boost_round=model_xgboost[model_xgboost['test-rmse-mean'] == model_xgboost['test-rmse-mean'].min()].index[0])"
   ]
  },
  {
   "cell_type": "code",
   "execution_count": 82,
   "metadata": {},
   "outputs": [
    {
     "data": {
      "text/plain": [
       "840"
      ]
     },
     "execution_count": 82,
     "metadata": {},
     "output_type": "execute_result"
    }
   ],
   "source": [
    "model_full_train_data.best_ntree_limit"
   ]
  },
  {
   "cell_type": "code",
   "execution_count": 85,
   "metadata": {},
   "outputs": [],
   "source": [
    "xgb_test_data = xgb.DMatrix(test[X_COLUMNS], feature_names=X_COLUMNS)"
   ]
  },
  {
   "cell_type": "code",
   "execution_count": 87,
   "metadata": {},
   "outputs": [],
   "source": [
    "test_predictions = np.exp(model_full_train_data.predict(xgb_test_data)) -1.0"
   ]
  },
  {
   "cell_type": "code",
   "execution_count": 89,
   "metadata": {},
   "outputs": [],
   "source": [
    "test['target'] = test_predictions"
   ]
  },
  {
   "cell_type": "code",
   "execution_count": 90,
   "metadata": {},
   "outputs": [],
   "source": [
    "test[['ID', 'target']].to_csv('submission_lasso_xgboost.csv', index=False)"
   ]
  }
 ],
 "metadata": {
  "kernelspec": {
   "display_name": "Python 3",
   "language": "python",
   "name": "python3"
  },
  "language_info": {
   "codemirror_mode": {
    "name": "ipython",
    "version": 3
   },
   "file_extension": ".py",
   "mimetype": "text/x-python",
   "name": "python",
   "nbconvert_exporter": "python",
   "pygments_lexer": "ipython3",
   "version": "3.6.9"
  }
 },
 "nbformat": 4,
 "nbformat_minor": 2
}
