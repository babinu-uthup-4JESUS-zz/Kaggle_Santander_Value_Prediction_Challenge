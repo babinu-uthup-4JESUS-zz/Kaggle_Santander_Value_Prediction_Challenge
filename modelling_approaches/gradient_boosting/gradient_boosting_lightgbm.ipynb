{
 "cells": [
  {
   "cell_type": "markdown",
   "metadata": {},
   "source": [
    "## Summary\n",
    "\n",
    "To apply the technique of gradient boosting from lightgbm package to the problem of predicting customer value."
   ]
  },
  {
   "cell_type": "code",
   "execution_count": 2,
   "metadata": {},
   "outputs": [],
   "source": [
    "import time\n",
    "\n",
    "import sys\n",
    "sys.path.append('../../common_routines/')\n",
    "\n",
    "from relevant_functions import (get_train_data,\n",
    "                                get_test_data,\n",
    "                                get_rel_cols,\n",
    "                                get_all_predictor_cols)\n",
    "\n",
    "import numpy as np\n",
    "import lightgbm as lgb\n",
    "import ast\n",
    "import operator"
   ]
  },
  {
   "cell_type": "code",
   "execution_count": 3,
   "metadata": {},
   "outputs": [],
   "source": [
    "INPUT_DIR = '../../input/'"
   ]
  },
  {
   "cell_type": "code",
   "execution_count": 4,
   "metadata": {},
   "outputs": [
    {
     "data": {
      "text/plain": [
       "5.190080642700195"
      ]
     },
     "execution_count": 4,
     "metadata": {},
     "output_type": "execute_result"
    }
   ],
   "source": [
    "ts = time.time()\n",
    "train = get_train_data(INPUT_DIR)\n",
    "time.time() - ts"
   ]
  },
  {
   "cell_type": "markdown",
   "metadata": {},
   "source": [
    "### Build a basic model with all predictors\n",
    "\n",
    "Let us a build a simple lightgbm model using all predictors."
   ]
  },
  {
   "cell_type": "code",
   "execution_count": 5,
   "metadata": {},
   "outputs": [],
   "source": [
    "all_predictor_cols = get_all_predictor_cols(train)"
   ]
  },
  {
   "cell_type": "code",
   "execution_count": 6,
   "metadata": {},
   "outputs": [],
   "source": [
    "X = train[all_predictor_cols]\n",
    "Y = train[['log_target']]"
   ]
  },
  {
   "cell_type": "code",
   "execution_count": 7,
   "metadata": {},
   "outputs": [],
   "source": [
    "lgb_complete_data = lgb.Dataset(X, Y)"
   ]
  },
  {
   "cell_type": "code",
   "execution_count": 8,
   "metadata": {},
   "outputs": [],
   "source": [
    "lgb_params = {'learning_rate' : 0.01, \n",
    "              'objective' : 'regression', \n",
    "              'metric' : 'mean_squared_error'}"
   ]
  },
  {
   "cell_type": "code",
   "execution_count": 38,
   "metadata": {},
   "outputs": [
    {
     "data": {
      "text/plain": [
       "13.012925148010254"
      ]
     },
     "execution_count": 38,
     "metadata": {},
     "output_type": "execute_result"
    }
   ],
   "source": [
    "ts = time.time()\n",
    "model_lgb = lgb.cv(params=lgb_params,\n",
    "                   train_set=lgb_complete_data,\n",
    "                   num_boost_round=3000,\n",
    "                   nfold=5,\n",
    "                   early_stopping_rounds=5,\n",
    "              \n",
    "                  # Below parameter is set as true by default. Set it to false to make it work for regression.\n",
    "                  stratified = False                  \n",
    "                  )\n",
    "time.time() - ts"
   ]
  },
  {
   "cell_type": "code",
   "execution_count": 63,
   "metadata": {},
   "outputs": [
    {
     "name": "stdout",
     "output_type": "stream",
     "text": [
      "1.4505464604674227\n",
      "377\n"
     ]
    }
   ],
   "source": [
    "print([np.sqrt(x) for x in list(model_lgb.values())[0]][-1])\n",
    "print(len([np.sqrt(x) for x in reversed(list(model_lgb.values())[0])]))"
   ]
  },
  {
   "cell_type": "markdown",
   "metadata": {},
   "source": [
    "### Let us enhance the model by using only dense predictors\n",
    "\n",
    "Since the results look encouraging, let us try including only dense predictors."
   ]
  },
  {
   "cell_type": "code",
   "execution_count": 9,
   "metadata": {},
   "outputs": [],
   "source": [
    "def get_prediction_score(columns, data=train, params=lgb_params):\n",
    "    X = train[columns]\n",
    "    Y = train[['log_target']]\n",
    "    \n",
    "    lgb_complete_data = lgb.Dataset(X, Y)\n",
    "    \n",
    "    model_lgb = lgb.cv(params=params,\n",
    "                       train_set=lgb_complete_data,\n",
    "                       num_boost_round=1000,\n",
    "                       nfold=5,\n",
    "                       early_stopping_rounds=5,\n",
    "                       stratified=False)\n",
    "    \n",
    "    scores = [x for x in list(model_lgb.values())[0]]\n",
    "    best_score = np.sqrt(scores[-1])\n",
    "    num_iterations = len(scores)\n",
    "    \n",
    "    return (best_score, num_iterations)"
   ]
  },
  {
   "cell_type": "code",
   "execution_count": 10,
   "metadata": {},
   "outputs": [],
   "source": [
    "def get_model_with_predictors_beyond_given_threshold(percent_threshold=10, data=train, params=lgb_params):\n",
    "    rel_cols = get_rel_cols(percent_threshold, data)\n",
    "    \n",
    "    (best_score, num_iterations) = get_prediction_score(rel_cols, data, params)    \n",
    "    return (best_score, num_iterations, len(rel_cols))\n",
    "    "
   ]
  },
  {
   "cell_type": "code",
   "execution_count": 67,
   "metadata": {},
   "outputs": [],
   "source": [
    "PERCENTAGES_TO_CHECK = np.arange(5, 40, 5)\n",
    "percentage_to_prediction_score = dict()\n",
    "percentage_to_num_predictors = dict()\n",
    "percentage_to_num_model_iterations = dict()"
   ]
  },
  {
   "cell_type": "code",
   "execution_count": 71,
   "metadata": {},
   "outputs": [
    {
     "data": {
      "text/plain": [
       "46.17691111564636"
      ]
     },
     "execution_count": 71,
     "metadata": {},
     "output_type": "execute_result"
    }
   ],
   "source": [
    "ts = time.time()\n",
    "for percent in PERCENTAGES_TO_CHECK:\n",
    "    (best_score, num_iterations, num_predictors) = \\\n",
    "        get_model_with_predictors_beyond_given_threshold(percent_threshold=percent)\n",
    "    percentage_to_prediction_score[percent] = best_score\n",
    "    percentage_to_num_model_iterations[percent] = num_iterations\n",
    "    percentage_to_num_predictors[percent] = num_predictors\n",
    "time.time() - ts"
   ]
  },
  {
   "cell_type": "code",
   "execution_count": 72,
   "metadata": {},
   "outputs": [
    {
     "data": {
      "text/plain": [
       "{5: 1.4505508265683893,\n",
       " 10: 1.4505508265683893,\n",
       " 15: 1.4505508265683893,\n",
       " 20: 1.4505508265683893,\n",
       " 25: 1.4482976907500078,\n",
       " 30: 1.4482976907500078,\n",
       " 35: 1.6380069492289402}"
      ]
     },
     "execution_count": 72,
     "metadata": {},
     "output_type": "execute_result"
    }
   ],
   "source": [
    "percentage_to_prediction_score"
   ]
  },
  {
   "cell_type": "code",
   "execution_count": 75,
   "metadata": {},
   "outputs": [],
   "source": [
    "PERCENTAGES_TO_CHECK = np.arange(21, 35, 1)"
   ]
  },
  {
   "cell_type": "code",
   "execution_count": 76,
   "metadata": {},
   "outputs": [
    {
     "data": {
      "text/plain": [
       "77.59558486938477"
      ]
     },
     "execution_count": 76,
     "metadata": {},
     "output_type": "execute_result"
    }
   ],
   "source": [
    "ts = time.time()\n",
    "for percent in PERCENTAGES_TO_CHECK:\n",
    "    (best_score, num_iterations, num_predictors) = \\\n",
    "        get_model_with_predictors_beyond_given_threshold(percent_threshold=percent)\n",
    "    percentage_to_prediction_score[percent] = best_score\n",
    "    percentage_to_num_model_iterations[percent] = num_iterations\n",
    "    percentage_to_num_predictors[percent] = num_predictors\n",
    "time.time() - ts"
   ]
  },
  {
   "cell_type": "code",
   "execution_count": 77,
   "metadata": {},
   "outputs": [
    {
     "data": {
      "text/plain": [
       "{5: 1.4505508265683893,\n",
       " 10: 1.4505508265683893,\n",
       " 15: 1.4505508265683893,\n",
       " 20: 1.4505508265683893,\n",
       " 25: 1.4482976907500078,\n",
       " 30: 1.4482976907500078,\n",
       " 35: 1.6380069492289402,\n",
       " 21: 1.4482976907500078,\n",
       " 22: 1.4482976907500078,\n",
       " 23: 1.4482976907500078,\n",
       " 24: 1.4482976907500078,\n",
       " 26: 1.4482976907500078,\n",
       " 27: 1.4482976907500078,\n",
       " 28: 1.4482976907500078,\n",
       " 29: 1.4482976907500078,\n",
       " 31: 1.4482976907500078,\n",
       " 32: 1.4522997102569455,\n",
       " 33: 1.457118415265635,\n",
       " 34: 1.508591899656438}"
      ]
     },
     "execution_count": 77,
     "metadata": {},
     "output_type": "execute_result"
    }
   ],
   "source": [
    "percentage_to_prediction_score"
   ]
  },
  {
   "cell_type": "code",
   "execution_count": 78,
   "metadata": {},
   "outputs": [
    {
     "data": {
      "text/plain": [
       "{5: 997,\n",
       " 10: 376,\n",
       " 15: 191,\n",
       " 20: 50,\n",
       " 25: 40,\n",
       " 30: 40,\n",
       " 35: 2,\n",
       " 21: 40,\n",
       " 22: 40,\n",
       " 23: 40,\n",
       " 24: 40,\n",
       " 26: 40,\n",
       " 27: 40,\n",
       " 28: 40,\n",
       " 29: 40,\n",
       " 31: 40,\n",
       " 32: 39,\n",
       " 33: 33,\n",
       " 34: 18}"
      ]
     },
     "execution_count": 78,
     "metadata": {},
     "output_type": "execute_result"
    }
   ],
   "source": [
    "percentage_to_num_predictors"
   ]
  },
  {
   "cell_type": "code",
   "execution_count": 79,
   "metadata": {},
   "outputs": [
    {
     "data": {
      "text/plain": [
       "{5: 377,\n",
       " 10: 377,\n",
       " 15: 377,\n",
       " 20: 377,\n",
       " 25: 424,\n",
       " 30: 424,\n",
       " 35: 248,\n",
       " 21: 424,\n",
       " 22: 424,\n",
       " 23: 424,\n",
       " 24: 424,\n",
       " 26: 424,\n",
       " 27: 424,\n",
       " 28: 424,\n",
       " 29: 424,\n",
       " 31: 424,\n",
       " 32: 388,\n",
       " 33: 367,\n",
       " 34: 302}"
      ]
     },
     "execution_count": 79,
     "metadata": {},
     "output_type": "execute_result"
    }
   ],
   "source": [
    "percentage_to_num_model_iterations"
   ]
  },
  {
   "cell_type": "markdown",
   "metadata": {},
   "source": [
    "### Finding the most optimal subset of columns\n",
    "\n",
    "Now, let us find the most optimal subset of columns which maximises the cross validation score amongst this superset of 40 columns. Let us do this using a greedy method."
   ]
  },
  {
   "cell_type": "code",
   "execution_count": 107,
   "metadata": {},
   "outputs": [],
   "source": [
    "FULL_REL_COLS_LIST = get_rel_cols(21, train)"
   ]
  },
  {
   "cell_type": "code",
   "execution_count": 109,
   "metadata": {},
   "outputs": [],
   "source": [
    "def get_prediction_scores_after_column_addition(given_list, data):\n",
    "    col_list_to_score = dict()\n",
    "    for col in FULL_REL_COLS_LIST:\n",
    "        if col not in given_list:\n",
    "            cols_list = given_list + [col]\n",
    "            score = get_prediction_score(cols_list, data)[0]\n",
    "            col_list_to_score[str(cols_list)] = score\n",
    "            \n",
    "    return sorted(col_list_to_score.items(), key=operator.itemgetter(1))\n",
    "    "
   ]
  },
  {
   "cell_type": "code",
   "execution_count": 110,
   "metadata": {},
   "outputs": [
    {
     "data": {
      "text/plain": [
       "37.065032958984375"
      ]
     },
     "execution_count": 110,
     "metadata": {},
     "output_type": "execute_result"
    }
   ],
   "source": [
    "ts = time.time()\n",
    "\n",
    "columns_list = []\n",
    "MAX_NUM_PREDICTORS  = len(columns_list) + 1\n",
    "max_columns_list_to_score = dict()\n",
    "while len(columns_list) < MAX_NUM_PREDICTORS:\n",
    "    col_list_to_score = get_prediction_scores_after_column_addition(columns_list, train)\n",
    "    columns_list = ast.literal_eval(col_list_to_score[0][0])\n",
    "    max_columns_list_to_score[col_list_to_score[0][0]] = col_list_to_score[0][1]\n",
    "time.time() - ts"
   ]
  },
  {
   "cell_type": "code",
   "execution_count": 111,
   "metadata": {},
   "outputs": [
    {
     "data": {
      "text/plain": [
       "[(\"['f190486d6']\", 1.6449866458904614),\n",
       " (\"['eeb9cd3aa']\", 1.6549665060753382),\n",
       " (\"['c47340d97']\", 1.6564248164011501),\n",
       " (\"['c5a231d81']\", 1.6597331712390317),\n",
       " (\"['66ace2992']\", 1.6597427000135743),\n",
       " (\"['58e2e02e6']\", 1.662740227415354),\n",
       " (\"['adb64ff71']\", 1.6637054978615513),\n",
       " (\"['491b9ee45']\", 1.6641022211337322),\n",
       " (\"['e176a204a']\", 1.6641756120490236),\n",
       " (\"['0572565c2']\", 1.6648001845404812),\n",
       " (\"['1db387535']\", 1.6660756055977954),\n",
       " (\"['1931ccfdd']\", 1.667217694693769),\n",
       " (\"['15ace8c9f']\", 1.667416285644309),\n",
       " (\"['024c577b9']\", 1.6674215815208133),\n",
       " (\"['91f701ba2']\", 1.669414765433305),\n",
       " (\"['0ff32eb98']\", 1.6698816518903408),\n",
       " (\"['26fc93eb7']\", 1.6702095430990647),\n",
       " (\"['963a49cdc']\", 1.6710982011036655),\n",
       " (\"['70feb1494']\", 1.671840619636297),\n",
       " (\"['6619d81fc']\", 1.6726918675576397),\n",
       " (\"['9fd594eec']\", 1.6730804789897662),\n",
       " (\"['703885424']\", 1.6736472114556256),\n",
       " (\"['23310aa6f']\", 1.6741381954941077),\n",
       " (\"['f74e8f13d']\", 1.67481747766058),\n",
       " (\"['58232a6fb']\", 1.6761855988254997),\n",
       " (\"['5c6487af1']\", 1.6775239592899673),\n",
       " (\"['fb49e4212']\", 1.6779218883008193),\n",
       " (\"['1702b5bf0']\", 1.6789725900591224),\n",
       " (\"['2ec5b290f']\", 1.6791327490778838),\n",
       " (\"['58e056e12']\", 1.6793746331401112),\n",
       " (\"['fc99f9426']\", 1.6795563579712862),\n",
       " (\"['324921c7b']\", 1.6796943822992627),\n",
       " (\"['62e59a501']\", 1.6810494837584586),\n",
       " (\"['b43a7cfd5']\", 1.6818860695204014),\n",
       " (\"['6eef030c1']\", 1.682144632221295),\n",
       " (\"['241f0f867']\", 1.6824368091958748),\n",
       " (\"['190db8488']\", 1.6828996719758957),\n",
       " (\"['d6bb78916']\", 1.6834961463484386),\n",
       " (\"['20aa07010']\", 1.6846356029409657),\n",
       " (\"['fb0f5dbfe']\", 1.6857341542185482)]"
      ]
     },
     "execution_count": 111,
     "metadata": {},
     "output_type": "execute_result"
    }
   ],
   "source": [
    "col_list_to_score"
   ]
  },
  {
   "cell_type": "code",
   "execution_count": 112,
   "metadata": {},
   "outputs": [
    {
     "data": {
      "text/plain": [
       "{\"['f190486d6']\": 1.6449866458904614}"
      ]
     },
     "execution_count": 112,
     "metadata": {},
     "output_type": "execute_result"
    }
   ],
   "source": [
    "max_columns_list_to_score"
   ]
  },
  {
   "cell_type": "markdown",
   "metadata": {},
   "source": [
    "### Full algorithm was run as a kaggle script(https://www.kaggle.com/babinu/gradient-boosting-lightgbm)\n",
    "\n",
    "The complete analysis has been done as a kaggle script and the results are pasted below."
   ]
  },
  {
   "cell_type": "code",
   "execution_count": 11,
   "metadata": {},
   "outputs": [],
   "source": [
    "max_columns_list_to_score = {\"['f190486d6']\": 1.6449866458904616,\n",
    " \"['f190486d6', 'eeb9cd3aa']\": 1.5836977665245267,\n",
    " \"['f190486d6', 'eeb9cd3aa', 'c47340d97']\": 1.5504512705557958,\n",
    " \"['f190486d6', 'eeb9cd3aa', 'c47340d97', '58e2e02e6']\": 1.528980861141374,\n",
    " \"['f190486d6', 'eeb9cd3aa', 'c47340d97', '58e2e02e6', '491b9ee45']\": 1.5118721914054778,\n",
    " \"['f190486d6', 'eeb9cd3aa', 'c47340d97', '58e2e02e6', '491b9ee45', 'd6bb78916']\": 1.4989457081703554,\n",
    " \"['f190486d6', 'eeb9cd3aa', 'c47340d97', '58e2e02e6', '491b9ee45', 'd6bb78916', 'adb64ff71']\": 1.4901748694923371,\n",
    " \"['f190486d6', 'eeb9cd3aa', 'c47340d97', '58e2e02e6', '491b9ee45', 'd6bb78916', 'adb64ff71', 'b43a7cfd5']\": 1.485975491761902,\n",
    " \"['f190486d6', 'eeb9cd3aa', 'c47340d97', '58e2e02e6', '491b9ee45', 'd6bb78916', 'adb64ff71', 'b43a7cfd5', '58232a6fb']\": 1.4795685931740603,\n",
    " \"['f190486d6', 'eeb9cd3aa', 'c47340d97', '58e2e02e6', '491b9ee45', 'd6bb78916', 'adb64ff71', 'b43a7cfd5', '58232a6fb', 'fc99f9426']\": 1.476432356250629,\n",
    " \"['f190486d6', 'eeb9cd3aa', 'c47340d97', '58e2e02e6', '491b9ee45', 'd6bb78916', 'adb64ff71', 'b43a7cfd5', '58232a6fb', 'fc99f9426', '9fd594eec']\": 1.4725496110335539,\n",
    " \"['f190486d6', 'eeb9cd3aa', 'c47340d97', '58e2e02e6', '491b9ee45', 'd6bb78916', 'adb64ff71', 'b43a7cfd5', '58232a6fb', 'fc99f9426', '9fd594eec', 'fb0f5dbfe']\": 1.4682779655310683,\n",
    " \"['f190486d6', 'eeb9cd3aa', 'c47340d97', '58e2e02e6', '491b9ee45', 'd6bb78916', 'adb64ff71', 'b43a7cfd5', '58232a6fb', 'fc99f9426', '9fd594eec', 'fb0f5dbfe', '26fc93eb7']\": 1.4644155188818466,\n",
    " \"['f190486d6', 'eeb9cd3aa', 'c47340d97', '58e2e02e6', '491b9ee45', 'd6bb78916', 'adb64ff71', 'b43a7cfd5', '58232a6fb', 'fc99f9426', '9fd594eec', 'fb0f5dbfe', '26fc93eb7', '241f0f867']\": 1.4622498914394688,\n",
    " \"['f190486d6', 'eeb9cd3aa', 'c47340d97', '58e2e02e6', '491b9ee45', 'd6bb78916', 'adb64ff71', 'b43a7cfd5', '58232a6fb', 'fc99f9426', '9fd594eec', 'fb0f5dbfe', '26fc93eb7', '241f0f867', '15ace8c9f']\": 1.4588467764291295,\n",
    " \"['f190486d6', 'eeb9cd3aa', 'c47340d97', '58e2e02e6', '491b9ee45', 'd6bb78916', 'adb64ff71', 'b43a7cfd5', '58232a6fb', 'fc99f9426', '9fd594eec', 'fb0f5dbfe', '26fc93eb7', '241f0f867', '15ace8c9f', '024c577b9']\": 1.4548849542228728,\n",
    " \"['f190486d6', 'eeb9cd3aa', 'c47340d97', '58e2e02e6', '491b9ee45', 'd6bb78916', 'adb64ff71', 'b43a7cfd5', '58232a6fb', 'fc99f9426', '9fd594eec', 'fb0f5dbfe', '26fc93eb7', '241f0f867', '15ace8c9f', '024c577b9', '66ace2992']\": 1.4538387654504028,\n",
    " \"['f190486d6', 'eeb9cd3aa', 'c47340d97', '58e2e02e6', '491b9ee45', 'd6bb78916', 'adb64ff71', 'b43a7cfd5', '58232a6fb', 'fc99f9426', '9fd594eec', 'fb0f5dbfe', '26fc93eb7', '241f0f867', '15ace8c9f', '024c577b9', '66ace2992', '0572565c2']\": 1.4525021909388476,\n",
    " \"['f190486d6', 'eeb9cd3aa', 'c47340d97', '58e2e02e6', '491b9ee45', 'd6bb78916', 'adb64ff71', 'b43a7cfd5', '58232a6fb', 'fc99f9426', '9fd594eec', 'fb0f5dbfe', '26fc93eb7', '241f0f867', '15ace8c9f', '024c577b9', '66ace2992', '0572565c2', 'e176a204a']\": 1.4529145004718886,\n",
    " \"['f190486d6', 'eeb9cd3aa', 'c47340d97', '58e2e02e6', '491b9ee45', 'd6bb78916', 'adb64ff71', 'b43a7cfd5', '58232a6fb', 'fc99f9426', '9fd594eec', 'fb0f5dbfe', '26fc93eb7', '241f0f867', '15ace8c9f', '024c577b9', '66ace2992', '0572565c2', 'e176a204a', '70feb1494']\": 1.451687367202684,\n",
    " \"['f190486d6', 'eeb9cd3aa', 'c47340d97', '58e2e02e6', '491b9ee45', 'd6bb78916', 'adb64ff71', 'b43a7cfd5', '58232a6fb', 'fc99f9426', '9fd594eec', 'fb0f5dbfe', '26fc93eb7', '241f0f867', '15ace8c9f', '024c577b9', '66ace2992', '0572565c2', 'e176a204a', '70feb1494', '703885424']\": 1.4520826351864002,\n",
    " \"['f190486d6', 'eeb9cd3aa', 'c47340d97', '58e2e02e6', '491b9ee45', 'd6bb78916', 'adb64ff71', 'b43a7cfd5', '58232a6fb', 'fc99f9426', '9fd594eec', 'fb0f5dbfe', '26fc93eb7', '241f0f867', '15ace8c9f', '024c577b9', '66ace2992', '0572565c2', 'e176a204a', '70feb1494', '703885424', 'f74e8f13d']\": 1.4526760589766303,\n",
    " \"['f190486d6', 'eeb9cd3aa', 'c47340d97', '58e2e02e6', '491b9ee45', 'd6bb78916', 'adb64ff71', 'b43a7cfd5', '58232a6fb', 'fc99f9426', '9fd594eec', 'fb0f5dbfe', '26fc93eb7', '241f0f867', '15ace8c9f', '024c577b9', '66ace2992', '0572565c2', 'e176a204a', '70feb1494', '703885424', 'f74e8f13d', '58e056e12']\": 1.4512259380695665,\n",
    " \"['f190486d6', 'eeb9cd3aa', 'c47340d97', '58e2e02e6', '491b9ee45', 'd6bb78916', 'adb64ff71', 'b43a7cfd5', '58232a6fb', 'fc99f9426', '9fd594eec', 'fb0f5dbfe', '26fc93eb7', '241f0f867', '15ace8c9f', '024c577b9', '66ace2992', '0572565c2', 'e176a204a', '70feb1494', '703885424', 'f74e8f13d', '58e056e12', '20aa07010']\": 1.4506379592292695,\n",
    " \"['f190486d6', 'eeb9cd3aa', 'c47340d97', '58e2e02e6', '491b9ee45', 'd6bb78916', 'adb64ff71', 'b43a7cfd5', '58232a6fb', 'fc99f9426', '9fd594eec', 'fb0f5dbfe', '26fc93eb7', '241f0f867', '15ace8c9f', '024c577b9', '66ace2992', '0572565c2', 'e176a204a', '70feb1494', '703885424', 'f74e8f13d', '58e056e12', '20aa07010', '1931ccfdd']\": 1.4492935807502703,\n",
    " \"['f190486d6', 'eeb9cd3aa', 'c47340d97', '58e2e02e6', '491b9ee45', 'd6bb78916', 'adb64ff71', 'b43a7cfd5', '58232a6fb', 'fc99f9426', '9fd594eec', 'fb0f5dbfe', '26fc93eb7', '241f0f867', '15ace8c9f', '024c577b9', '66ace2992', '0572565c2', 'e176a204a', '70feb1494', '703885424', 'f74e8f13d', '58e056e12', '20aa07010', '1931ccfdd', '2ec5b290f']\": 1.4484631284738125,\n",
    " \"['f190486d6', 'eeb9cd3aa', 'c47340d97', '58e2e02e6', '491b9ee45', 'd6bb78916', 'adb64ff71', 'b43a7cfd5', '58232a6fb', 'fc99f9426', '9fd594eec', 'fb0f5dbfe', '26fc93eb7', '241f0f867', '15ace8c9f', '024c577b9', '66ace2992', '0572565c2', 'e176a204a', '70feb1494', '703885424', 'f74e8f13d', '58e056e12', '20aa07010', '1931ccfdd', '2ec5b290f', '91f701ba2']\": 1.4477678946116617,\n",
    " \"['f190486d6', 'eeb9cd3aa', 'c47340d97', '58e2e02e6', '491b9ee45', 'd6bb78916', 'adb64ff71', 'b43a7cfd5', '58232a6fb', 'fc99f9426', '9fd594eec', 'fb0f5dbfe', '26fc93eb7', '241f0f867', '15ace8c9f', '024c577b9', '66ace2992', '0572565c2', 'e176a204a', '70feb1494', '703885424', 'f74e8f13d', '58e056e12', '20aa07010', '1931ccfdd', '2ec5b290f', '91f701ba2', '190db8488']\": 1.4484659492184804,\n",
    " \"['f190486d6', 'eeb9cd3aa', 'c47340d97', '58e2e02e6', '491b9ee45', 'd6bb78916', 'adb64ff71', 'b43a7cfd5', '58232a6fb', 'fc99f9426', '9fd594eec', 'fb0f5dbfe', '26fc93eb7', '241f0f867', '15ace8c9f', '024c577b9', '66ace2992', '0572565c2', 'e176a204a', '70feb1494', '703885424', 'f74e8f13d', '58e056e12', '20aa07010', '1931ccfdd', '2ec5b290f', '91f701ba2', '190db8488', '23310aa6f']\": 1.4487101535982179,\n",
    " \"['f190486d6', 'eeb9cd3aa', 'c47340d97', '58e2e02e6', '491b9ee45', 'd6bb78916', 'adb64ff71', 'b43a7cfd5', '58232a6fb', 'fc99f9426', '9fd594eec', 'fb0f5dbfe', '26fc93eb7', '241f0f867', '15ace8c9f', '024c577b9', '66ace2992', '0572565c2', 'e176a204a', '70feb1494', '703885424', 'f74e8f13d', '58e056e12', '20aa07010', '1931ccfdd', '2ec5b290f', '91f701ba2', '190db8488', '23310aa6f', '1702b5bf0']\": 1.4494657512432392,\n",
    " \"['f190486d6', 'eeb9cd3aa', 'c47340d97', '58e2e02e6', '491b9ee45', 'd6bb78916', 'adb64ff71', 'b43a7cfd5', '58232a6fb', 'fc99f9426', '9fd594eec', 'fb0f5dbfe', '26fc93eb7', '241f0f867', '15ace8c9f', '024c577b9', '66ace2992', '0572565c2', 'e176a204a', '70feb1494', '703885424', 'f74e8f13d', '58e056e12', '20aa07010', '1931ccfdd', '2ec5b290f', '91f701ba2', '190db8488', '23310aa6f', '1702b5bf0', '6eef030c1']\": 1.4478878780362392,\n",
    " \"['f190486d6', 'eeb9cd3aa', 'c47340d97', '58e2e02e6', '491b9ee45', 'd6bb78916', 'adb64ff71', 'b43a7cfd5', '58232a6fb', 'fc99f9426', '9fd594eec', 'fb0f5dbfe', '26fc93eb7', '241f0f867', '15ace8c9f', '024c577b9', '66ace2992', '0572565c2', 'e176a204a', '70feb1494', '703885424', 'f74e8f13d', '58e056e12', '20aa07010', '1931ccfdd', '2ec5b290f', '91f701ba2', '190db8488', '23310aa6f', '1702b5bf0', '6eef030c1', '1db387535']\": 1.447354083135638,\n",
    " \"['f190486d6', 'eeb9cd3aa', 'c47340d97', '58e2e02e6', '491b9ee45', 'd6bb78916', 'adb64ff71', 'b43a7cfd5', '58232a6fb', 'fc99f9426', '9fd594eec', 'fb0f5dbfe', '26fc93eb7', '241f0f867', '15ace8c9f', '024c577b9', '66ace2992', '0572565c2', 'e176a204a', '70feb1494', '703885424', 'f74e8f13d', '58e056e12', '20aa07010', '1931ccfdd', '2ec5b290f', '91f701ba2', '190db8488', '23310aa6f', '1702b5bf0', '6eef030c1', '1db387535', 'fb49e4212']\": 1.447149096266835,\n",
    " \"['f190486d6', 'eeb9cd3aa', 'c47340d97', '58e2e02e6', '491b9ee45', 'd6bb78916', 'adb64ff71', 'b43a7cfd5', '58232a6fb', 'fc99f9426', '9fd594eec', 'fb0f5dbfe', '26fc93eb7', '241f0f867', '15ace8c9f', '024c577b9', '66ace2992', '0572565c2', 'e176a204a', '70feb1494', '703885424', 'f74e8f13d', '58e056e12', '20aa07010', '1931ccfdd', '2ec5b290f', '91f701ba2', '190db8488', '23310aa6f', '1702b5bf0', '6eef030c1', '1db387535', 'fb49e4212', '6619d81fc']\": 1.4469956244156605,\n",
    " \"['f190486d6', 'eeb9cd3aa', 'c47340d97', '58e2e02e6', '491b9ee45', 'd6bb78916', 'adb64ff71', 'b43a7cfd5', '58232a6fb', 'fc99f9426', '9fd594eec', 'fb0f5dbfe', '26fc93eb7', '241f0f867', '15ace8c9f', '024c577b9', '66ace2992', '0572565c2', 'e176a204a', '70feb1494', '703885424', 'f74e8f13d', '58e056e12', '20aa07010', '1931ccfdd', '2ec5b290f', '91f701ba2', '190db8488', '23310aa6f', '1702b5bf0', '6eef030c1', '1db387535', 'fb49e4212', '6619d81fc', '324921c7b']\": 1.4462793045269746,\n",
    " \"['f190486d6', 'eeb9cd3aa', 'c47340d97', '58e2e02e6', '491b9ee45', 'd6bb78916', 'adb64ff71', 'b43a7cfd5', '58232a6fb', 'fc99f9426', '9fd594eec', 'fb0f5dbfe', '26fc93eb7', '241f0f867', '15ace8c9f', '024c577b9', '66ace2992', '0572565c2', 'e176a204a', '70feb1494', '703885424', 'f74e8f13d', '58e056e12', '20aa07010', '1931ccfdd', '2ec5b290f', '91f701ba2', '190db8488', '23310aa6f', '1702b5bf0', '6eef030c1', '1db387535', 'fb49e4212', '6619d81fc', '324921c7b', '963a49cdc']\": 1.4482643361838679,\n",
    " \"['f190486d6', 'eeb9cd3aa', 'c47340d97', '58e2e02e6', '491b9ee45', 'd6bb78916', 'adb64ff71', 'b43a7cfd5', '58232a6fb', 'fc99f9426', '9fd594eec', 'fb0f5dbfe', '26fc93eb7', '241f0f867', '15ace8c9f', '024c577b9', '66ace2992', '0572565c2', 'e176a204a', '70feb1494', '703885424', 'f74e8f13d', '58e056e12', '20aa07010', '1931ccfdd', '2ec5b290f', '91f701ba2', '190db8488', '23310aa6f', '1702b5bf0', '6eef030c1', '1db387535', 'fb49e4212', '6619d81fc', '324921c7b', '963a49cdc', '5c6487af1']\": 1.4478135484080445,\n",
    " \"['f190486d6', 'eeb9cd3aa', 'c47340d97', '58e2e02e6', '491b9ee45', 'd6bb78916', 'adb64ff71', 'b43a7cfd5', '58232a6fb', 'fc99f9426', '9fd594eec', 'fb0f5dbfe', '26fc93eb7', '241f0f867', '15ace8c9f', '024c577b9', '66ace2992', '0572565c2', 'e176a204a', '70feb1494', '703885424', 'f74e8f13d', '58e056e12', '20aa07010', '1931ccfdd', '2ec5b290f', '91f701ba2', '190db8488', '23310aa6f', '1702b5bf0', '6eef030c1', '1db387535', 'fb49e4212', '6619d81fc', '324921c7b', '963a49cdc', '5c6487af1', '62e59a501']\": 1.4464322861195018,\n",
    " \"['f190486d6', 'eeb9cd3aa', 'c47340d97', '58e2e02e6', '491b9ee45', 'd6bb78916', 'adb64ff71', 'b43a7cfd5', '58232a6fb', 'fc99f9426', '9fd594eec', 'fb0f5dbfe', '26fc93eb7', '241f0f867', '15ace8c9f', '024c577b9', '66ace2992', '0572565c2', 'e176a204a', '70feb1494', '703885424', 'f74e8f13d', '58e056e12', '20aa07010', '1931ccfdd', '2ec5b290f', '91f701ba2', '190db8488', '23310aa6f', '1702b5bf0', '6eef030c1', '1db387535', 'fb49e4212', '6619d81fc', '324921c7b', '963a49cdc', '5c6487af1', '62e59a501', '0ff32eb98']\": 1.448641565870212,\n",
    " \"['f190486d6', 'eeb9cd3aa', 'c47340d97', '58e2e02e6', '491b9ee45', 'd6bb78916', 'adb64ff71', 'b43a7cfd5', '58232a6fb', 'fc99f9426', '9fd594eec', 'fb0f5dbfe', '26fc93eb7', '241f0f867', '15ace8c9f', '024c577b9', '66ace2992', '0572565c2', 'e176a204a', '70feb1494', '703885424', 'f74e8f13d', '58e056e12', '20aa07010', '1931ccfdd', '2ec5b290f', '91f701ba2', '190db8488', '23310aa6f', '1702b5bf0', '6eef030c1', '1db387535', 'fb49e4212', '6619d81fc', '324921c7b', '963a49cdc', '5c6487af1', '62e59a501', '0ff32eb98', 'c5a231d81']\": 1.4482964955565283}"
   ]
  },
  {
   "cell_type": "code",
   "execution_count": 20,
   "metadata": {},
   "outputs": [],
   "source": [
    "best_pred_cols = ast.literal_eval(sorted(max_columns_list_to_score.items(), key=operator.itemgetter(1))[0][0])"
   ]
  },
  {
   "cell_type": "code",
   "execution_count": 21,
   "metadata": {},
   "outputs": [
    {
     "data": {
      "text/plain": [
       "35"
      ]
     },
     "execution_count": 21,
     "metadata": {},
     "output_type": "execute_result"
    }
   ],
   "source": [
    "len(best_pred_cols)"
   ]
  },
  {
   "cell_type": "markdown",
   "metadata": {},
   "source": [
    "### Make predictions on the test set.\n",
    "\n",
    "Let us make predictions over the test set with our best model."
   ]
  },
  {
   "cell_type": "code",
   "execution_count": 23,
   "metadata": {},
   "outputs": [],
   "source": [
    "X = train[best_pred_cols]\n",
    "Y = train[['log_target']]\n",
    "\n",
    "lgb_full_data = lgb.Dataset(X, Y)"
   ]
  },
  {
   "cell_type": "code",
   "execution_count": 36,
   "metadata": {},
   "outputs": [
    {
     "name": "stdout",
     "output_type": "stream",
     "text": [
      "1.4462793045269748 406\n"
     ]
    },
    {
     "data": {
      "text/plain": [
       "4.756251335144043"
      ]
     },
     "execution_count": 36,
     "metadata": {},
     "output_type": "execute_result"
    }
   ],
   "source": [
    "# We want to know the number of iterations this model took  as well, so that we can train the model over the complete\n",
    "# data for same number of iterations and make predictions over the test set as well.\n",
    "ts = time.time()\n",
    "(score, num_iterations) = get_prediction_score(best_pred_cols, train, lgb_params)\n",
    "print(score, num_iterations)\n",
    "time.time() - ts"
   ]
  },
  {
   "cell_type": "code",
   "execution_count": 31,
   "metadata": {},
   "outputs": [
    {
     "data": {
      "text/plain": [
       "0.9945838451385498"
      ]
     },
     "execution_count": 31,
     "metadata": {},
     "output_type": "execute_result"
    }
   ],
   "source": [
    "ts = time.time()\n",
    "model_lgb = lgb.train(params=lgb_params, train_set=lgb_full_data, num_boost_round=num_iterations)\n",
    "time.time() - ts"
   ]
  },
  {
   "cell_type": "code",
   "execution_count": 32,
   "metadata": {},
   "outputs": [
    {
     "data": {
      "text/plain": [
       "70.67730712890625"
      ]
     },
     "execution_count": 32,
     "metadata": {},
     "output_type": "execute_result"
    }
   ],
   "source": [
    "ts = time.time()\n",
    "test = get_test_data(INPUT_DIR)\n",
    "time.time() - ts"
   ]
  },
  {
   "cell_type": "code",
   "execution_count": 33,
   "metadata": {},
   "outputs": [
    {
     "data": {
      "text/plain": [
       "0.5638971328735352"
      ]
     },
     "execution_count": 33,
     "metadata": {},
     "output_type": "execute_result"
    }
   ],
   "source": [
    "ts = time.time()\n",
    "new_X = test[best_pred_cols]\n",
    "test_log_predictions = model_lgb.predict(new_X)\n",
    "test_log_predictions[test_log_predictions <0] = 0\n",
    "test['target'] = np.exp(test_log_predictions) - 1.0\n",
    "time.time() - ts"
   ]
  },
  {
   "cell_type": "code",
   "execution_count": 35,
   "metadata": {},
   "outputs": [],
   "source": [
    "test[['ID', 'target']].to_csv('submission_gradient_boosting_lightgbm.csv', index=False)"
   ]
  }
 ],
 "metadata": {
  "kernelspec": {
   "display_name": "Python 3",
   "language": "python",
   "name": "python3"
  },
  "language_info": {
   "codemirror_mode": {
    "name": "ipython",
    "version": 3
   },
   "file_extension": ".py",
   "mimetype": "text/x-python",
   "name": "python",
   "nbconvert_exporter": "python",
   "pygments_lexer": "ipython3",
   "version": "3.6.9"
  }
 },
 "nbformat": 4,
 "nbformat_minor": 2
}
