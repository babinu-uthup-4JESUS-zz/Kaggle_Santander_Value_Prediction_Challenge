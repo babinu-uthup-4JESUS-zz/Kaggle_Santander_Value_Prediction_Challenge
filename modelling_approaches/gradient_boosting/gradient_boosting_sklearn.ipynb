{
 "cells": [
  {
   "cell_type": "markdown",
   "metadata": {},
   "source": [
    "## Summary\n",
    "\n",
    "To apply gradient boosting technique from the sklearn package to the problem of predicting customer value."
   ]
  },
  {
   "cell_type": "code",
   "execution_count": 16,
   "metadata": {},
   "outputs": [],
   "source": [
    "import time as time\n",
    "\n",
    "import sys\n",
    "sys.path.append('../../common_routines/')\n",
    "\n",
    "from sklearn.ensemble import GradientBoostingRegressor\n",
    "from sklearn.model_selection import cross_val_score\n",
    "from relevant_functions import (get_train_data,\n",
    "                                get_test_data,\n",
    "                                get_rel_cols,\n",
    "                                get_all_predictor_cols)\n",
    "\n",
    "import numpy as np"
   ]
  },
  {
   "cell_type": "code",
   "execution_count": 5,
   "metadata": {},
   "outputs": [],
   "source": [
    "INPUT_DIR = '../../input/'"
   ]
  },
  {
   "cell_type": "code",
   "execution_count": 6,
   "metadata": {},
   "outputs": [
    {
     "data": {
      "text/plain": [
       "5.279732942581177"
      ]
     },
     "execution_count": 6,
     "metadata": {},
     "output_type": "execute_result"
    }
   ],
   "source": [
    "ts = time.time()\n",
    "train = get_train_data(INPUT_DIR)\n",
    "time.time() - ts"
   ]
  },
  {
   "cell_type": "markdown",
   "metadata": {},
   "source": [
    "### Model using all available predictors\n",
    "\n",
    "Let us build a model using all predictors and see how well it performs."
   ]
  },
  {
   "cell_type": "code",
   "execution_count": 7,
   "metadata": {},
   "outputs": [],
   "source": [
    "all_predictor_cols = get_all_predictor_cols(train)"
   ]
  },
  {
   "cell_type": "code",
   "execution_count": 12,
   "metadata": {},
   "outputs": [],
   "source": [
    "X = train[all_predictor_cols]\n",
    "Y = train[['log_target']].values.ravel()"
   ]
  },
  {
   "cell_type": "code",
   "execution_count": 13,
   "metadata": {},
   "outputs": [
    {
     "data": {
      "text/plain": [
       "147.63075709342957"
      ]
     },
     "execution_count": 13,
     "metadata": {},
     "output_type": "execute_result"
    }
   ],
   "source": [
    "ts = time.time()\n",
    "cross_val_scores = cross_val_score(GradientBoostingRegressor(random_state=0, learning_rate=0.1, n_estimators=100),\n",
    "                                   X, Y, cv=5, scoring='neg_mean_squared_error')\n",
    "time.time() - ts"
   ]
  },
  {
   "cell_type": "code",
   "execution_count": 18,
   "metadata": {},
   "outputs": [
    {
     "name": "stdout",
     "output_type": "stream",
     "text": [
      "[1.46833663 1.53454225 1.44316053 1.48606831 1.58876612]\n",
      "1.5050662104157906\n"
     ]
    }
   ],
   "source": [
    "print(np.sqrt(-cross_val_scores))\n",
    "print(np.sqrt(-cross_val_scores.mean()))"
   ]
  },
  {
   "cell_type": "code",
   "execution_count": 19,
   "metadata": {},
   "outputs": [
    {
     "data": {
      "text/plain": [
       "268.5531258583069"
      ]
     },
     "execution_count": 19,
     "metadata": {},
     "output_type": "execute_result"
    }
   ],
   "source": [
    "ts = time.time()\n",
    "cross_val_scores = cross_val_score(GradientBoostingRegressor(random_state=0, learning_rate=0.1, n_estimators=200),\n",
    "                                   X, Y, cv=5, scoring='neg_mean_squared_error')\n",
    "time.time() - ts"
   ]
  },
  {
   "cell_type": "code",
   "execution_count": 20,
   "metadata": {},
   "outputs": [
    {
     "name": "stdout",
     "output_type": "stream",
     "text": [
      "[1.4690199  1.52943539 1.43917139 1.48067777 1.58690963]\n",
      "1.5019384249554357\n"
     ]
    }
   ],
   "source": [
    "print(np.sqrt(-cross_val_scores))\n",
    "print(np.sqrt(-cross_val_scores.mean()))"
   ]
  },
  {
   "cell_type": "code",
   "execution_count": 21,
   "metadata": {},
   "outputs": [
    {
     "data": {
      "text/plain": [
       "380.2964279651642"
      ]
     },
     "execution_count": 21,
     "metadata": {},
     "output_type": "execute_result"
    }
   ],
   "source": [
    "ts = time.time()\n",
    "cross_val_scores = cross_val_score(GradientBoostingRegressor(random_state=0, learning_rate=0.01, n_estimators=200),\n",
    "                                   X, Y, cv=5, scoring='neg_mean_squared_error')\n",
    "time.time() - ts"
   ]
  },
  {
   "cell_type": "code",
   "execution_count": 22,
   "metadata": {},
   "outputs": [
    {
     "name": "stdout",
     "output_type": "stream",
     "text": [
      "[1.52914944 1.59711899 1.52405807 1.55364761 1.68480377]\n",
      "1.5788745799930106\n"
     ]
    }
   ],
   "source": [
    "print(np.sqrt(-cross_val_scores))\n",
    "print(np.sqrt(-cross_val_scores.mean()))"
   ]
  },
  {
   "cell_type": "code",
   "execution_count": 23,
   "metadata": {},
   "outputs": [
    {
     "data": {
      "text/plain": [
       "399.2518820762634"
      ]
     },
     "execution_count": 23,
     "metadata": {},
     "output_type": "execute_result"
    }
   ],
   "source": [
    "ts = time.time()\n",
    "cross_val_scores = cross_val_score(GradientBoostingRegressor(random_state=0, learning_rate=0.1, n_estimators=300),\n",
    "                                   X, Y, cv=5, scoring='neg_mean_squared_error')\n",
    "time.time() - ts"
   ]
  },
  {
   "cell_type": "code",
   "execution_count": 24,
   "metadata": {},
   "outputs": [
    {
     "name": "stdout",
     "output_type": "stream",
     "text": [
      "[1.47522469 1.53654334 1.4428019  1.48449103 1.58492203]\n",
      "1.505630905692091\n"
     ]
    }
   ],
   "source": [
    "print(np.sqrt(-cross_val_scores))\n",
    "print(np.sqrt(-cross_val_scores.mean()))"
   ]
  },
  {
   "cell_type": "markdown",
   "metadata": {},
   "source": [
    "### Conclusion\n",
    "\n",
    "We do not see much of an improvement on increasing the number of estimators. Hence, let us fit model over the entire training data and generate predictions over the test set."
   ]
  },
  {
   "cell_type": "code",
   "execution_count": 27,
   "metadata": {},
   "outputs": [
    {
     "data": {
      "text/plain": [
       "95.1397271156311"
      ]
     },
     "execution_count": 27,
     "metadata": {},
     "output_type": "execute_result"
    }
   ],
   "source": [
    "ts = time.time()\n",
    "X = train[all_predictor_cols]\n",
    "Y = train[['log_target']].values.ravel()\n",
    "my_model = GradientBoostingRegressor(random_state=0, learning_rate=0.1, n_estimators=300)\n",
    "my_model.fit(X, Y)\n",
    "time.time() - ts"
   ]
  },
  {
   "cell_type": "code",
   "execution_count": 28,
   "metadata": {},
   "outputs": [
    {
     "data": {
      "text/plain": [
       "73.24436402320862"
      ]
     },
     "execution_count": 28,
     "metadata": {},
     "output_type": "execute_result"
    }
   ],
   "source": [
    "ts = time.time()\n",
    "test = get_test_data(INPUT_DIR)\n",
    "time.time() - ts"
   ]
  },
  {
   "cell_type": "code",
   "execution_count": 29,
   "metadata": {},
   "outputs": [
    {
     "data": {
      "text/plain": [
       "7.9863831996917725"
      ]
     },
     "execution_count": 29,
     "metadata": {},
     "output_type": "execute_result"
    }
   ],
   "source": [
    "ts = time.time()\n",
    "new_X = test[all_predictor_cols]\n",
    "test_log_predictions = my_model.predict(new_X)\n",
    "test_log_predictions[test_log_predictions < 0] = 0\n",
    "test['target'] = np.exp(test_log_predictions) - 1.0\n",
    "time.time() - ts"
   ]
  },
  {
   "cell_type": "code",
   "execution_count": 30,
   "metadata": {},
   "outputs": [],
   "source": [
    "test[['ID', 'target']].to_csv('submission_gradient_boosting_sklearn.csv', index=False)"
   ]
  }
 ],
 "metadata": {
  "kernelspec": {
   "display_name": "Python 3",
   "language": "python",
   "name": "python3"
  },
  "language_info": {
   "codemirror_mode": {
    "name": "ipython",
    "version": 3
   },
   "file_extension": ".py",
   "mimetype": "text/x-python",
   "name": "python",
   "nbconvert_exporter": "python",
   "pygments_lexer": "ipython3",
   "version": "3.6.9"
  }
 },
 "nbformat": 4,
 "nbformat_minor": 2
}
