{
 "cells": [
  {
   "cell_type": "markdown",
   "metadata": {},
   "source": [
    "#### Summary\n",
    "\n",
    "To build and explore gradient boosting models using xgboost library."
   ]
  },
  {
   "cell_type": "code",
   "execution_count": 1,
   "metadata": {},
   "outputs": [],
   "source": [
    "import pandas as pd\n",
    "import numpy as np\n",
    "import xgboost as xgb\n",
    "import time as time\n",
    "\n",
    "import sys\n",
    "sys.path.append('../../common_routines/')\n",
    "\n",
    "from relevant_functions import (get_train_data,\n",
    "                                get_test_data,\n",
    "                                get_all_predictor_cols,\n",
    "                                get_rel_cols)"
   ]
  },
  {
   "cell_type": "code",
   "execution_count": 2,
   "metadata": {},
   "outputs": [],
   "source": [
    "INPUT_DIR = '../../input/'"
   ]
  },
  {
   "cell_type": "code",
   "execution_count": 3,
   "metadata": {},
   "outputs": [
    {
     "data": {
      "text/plain": [
       "5.336509943008423"
      ]
     },
     "execution_count": 3,
     "metadata": {},
     "output_type": "execute_result"
    }
   ],
   "source": [
    "ts = time.time()\n",
    "train = get_train_data(INPUT_DIR)\n",
    "time.time() - ts"
   ]
  },
  {
   "cell_type": "markdown",
   "metadata": {},
   "source": [
    "#### Build a basic model using xgboost"
   ]
  },
  {
   "cell_type": "code",
   "execution_count": 9,
   "metadata": {},
   "outputs": [],
   "source": [
    "X_COLUMNS = get_all_predictor_cols(train)\n",
    "Y_COLUMN = 'log_target'"
   ]
  },
  {
   "cell_type": "code",
   "execution_count": 10,
   "metadata": {},
   "outputs": [],
   "source": [
    "X = train[X_COLUMNS].values\n",
    "Y = train[[Y_COLUMN]].values"
   ]
  },
  {
   "cell_type": "code",
   "execution_count": 11,
   "metadata": {},
   "outputs": [],
   "source": [
    "xgb_complete_data = xgb.DMatrix(X, Y, feature_names=X_COLUMNS)"
   ]
  },
  {
   "cell_type": "code",
   "execution_count": 14,
   "metadata": {},
   "outputs": [],
   "source": [
    "xgb_params = {'eta':0.01, 'eval_metric':'rmse'}"
   ]
  },
  {
   "cell_type": "code",
   "execution_count": 15,
   "metadata": {
    "collapsed": true
   },
   "outputs": [
    {
     "name": "stdout",
     "output_type": "stream",
     "text": [
      "[0]\ttrain-rmse:13.9605\ttest-rmse:13.9604\n",
      "[1]\ttrain-rmse:13.823\ttest-rmse:13.8231\n",
      "[2]\ttrain-rmse:13.6869\ttest-rmse:13.6872\n",
      "[3]\ttrain-rmse:13.5522\ttest-rmse:13.5527\n",
      "[4]\ttrain-rmse:13.4189\ttest-rmse:13.4195\n",
      "[5]\ttrain-rmse:13.2869\ttest-rmse:13.2876\n",
      "[6]\ttrain-rmse:13.1562\ttest-rmse:13.1572\n",
      "[7]\ttrain-rmse:13.0269\ttest-rmse:13.0279\n",
      "[8]\ttrain-rmse:12.8989\ttest-rmse:12.9001\n",
      "[9]\ttrain-rmse:12.7721\ttest-rmse:12.7735\n",
      "[10]\ttrain-rmse:12.6467\ttest-rmse:12.6481\n",
      "[11]\ttrain-rmse:12.5225\ttest-rmse:12.5241\n",
      "[12]\ttrain-rmse:12.3996\ttest-rmse:12.4013\n",
      "[13]\ttrain-rmse:12.2779\ttest-rmse:12.2797\n",
      "[14]\ttrain-rmse:12.1574\ttest-rmse:12.1594\n",
      "[15]\ttrain-rmse:12.0382\ttest-rmse:12.0402\n",
      "[16]\ttrain-rmse:11.9202\ttest-rmse:11.9224\n",
      "[17]\ttrain-rmse:11.8033\ttest-rmse:11.8056\n",
      "[18]\ttrain-rmse:11.6877\ttest-rmse:11.6902\n",
      "[19]\ttrain-rmse:11.5732\ttest-rmse:11.5758\n",
      "[20]\ttrain-rmse:11.4599\ttest-rmse:11.4626\n",
      "[21]\ttrain-rmse:11.3478\ttest-rmse:11.3508\n",
      "[22]\ttrain-rmse:11.2368\ttest-rmse:11.2398\n",
      "[23]\ttrain-rmse:11.1269\ttest-rmse:11.1301\n",
      "[24]\ttrain-rmse:11.0181\ttest-rmse:11.0214\n",
      "[25]\ttrain-rmse:10.9104\ttest-rmse:10.9139\n",
      "[26]\ttrain-rmse:10.8039\ttest-rmse:10.8075\n",
      "[27]\ttrain-rmse:10.6984\ttest-rmse:10.7022\n",
      "[28]\ttrain-rmse:10.5939\ttest-rmse:10.5979\n",
      "[29]\ttrain-rmse:10.4906\ttest-rmse:10.4947\n",
      "[30]\ttrain-rmse:10.3883\ttest-rmse:10.3926\n",
      "[31]\ttrain-rmse:10.287\ttest-rmse:10.2916\n",
      "[32]\ttrain-rmse:10.1867\ttest-rmse:10.1916\n",
      "[33]\ttrain-rmse:10.0875\ttest-rmse:10.0926\n",
      "[34]\ttrain-rmse:9.9893\ttest-rmse:9.9946\n",
      "[35]\ttrain-rmse:9.89208\ttest-rmse:9.8976\n",
      "[36]\ttrain-rmse:9.79585\ttest-rmse:9.80171\n",
      "[37]\ttrain-rmse:9.70062\ttest-rmse:9.70655\n",
      "[38]\ttrain-rmse:9.60635\ttest-rmse:9.61254\n",
      "[39]\ttrain-rmse:9.51304\ttest-rmse:9.5195\n",
      "[40]\ttrain-rmse:9.42067\ttest-rmse:9.42735\n",
      "[41]\ttrain-rmse:9.32924\ttest-rmse:9.33604\n",
      "[42]\ttrain-rmse:9.23876\ttest-rmse:9.2458\n",
      "[43]\ttrain-rmse:9.1492\ttest-rmse:9.15648\n",
      "[44]\ttrain-rmse:9.06056\ttest-rmse:9.06805\n",
      "[45]\ttrain-rmse:8.97282\ttest-rmse:8.98051\n",
      "[46]\ttrain-rmse:8.88598\ttest-rmse:8.89395\n",
      "[47]\ttrain-rmse:8.80001\ttest-rmse:8.80819\n",
      "[48]\ttrain-rmse:8.71492\ttest-rmse:8.72354\n",
      "[49]\ttrain-rmse:8.63071\ttest-rmse:8.63956\n",
      "[50]\ttrain-rmse:8.54735\ttest-rmse:8.55667\n",
      "[51]\ttrain-rmse:8.46484\ttest-rmse:8.47455\n",
      "[52]\ttrain-rmse:8.38318\ttest-rmse:8.39323\n",
      "[53]\ttrain-rmse:8.30236\ttest-rmse:8.31272\n",
      "[54]\ttrain-rmse:8.22236\ttest-rmse:8.23307\n",
      "[55]\ttrain-rmse:8.14319\ttest-rmse:8.15427\n",
      "[56]\ttrain-rmse:8.06482\ttest-rmse:8.07621\n",
      "[57]\ttrain-rmse:7.98726\ttest-rmse:7.99896\n",
      "[58]\ttrain-rmse:7.91049\ttest-rmse:7.92239\n",
      "[59]\ttrain-rmse:7.83451\ttest-rmse:7.84664\n",
      "[60]\ttrain-rmse:7.7593\ttest-rmse:7.77177\n",
      "[61]\ttrain-rmse:7.68488\ttest-rmse:7.69759\n",
      "[62]\ttrain-rmse:7.61122\ttest-rmse:7.6242\n",
      "[63]\ttrain-rmse:7.53831\ttest-rmse:7.55156\n",
      "[64]\ttrain-rmse:7.46616\ttest-rmse:7.4797\n",
      "[65]\ttrain-rmse:7.39474\ttest-rmse:7.40863\n",
      "[66]\ttrain-rmse:7.32407\ttest-rmse:7.33825\n",
      "[67]\ttrain-rmse:7.2541\ttest-rmse:7.26855\n",
      "[68]\ttrain-rmse:7.18487\ttest-rmse:7.19964\n",
      "[69]\ttrain-rmse:7.11635\ttest-rmse:7.13135\n",
      "[70]\ttrain-rmse:7.04854\ttest-rmse:7.06386\n",
      "[71]\ttrain-rmse:6.98143\ttest-rmse:6.99709\n",
      "[72]\ttrain-rmse:6.91499\ttest-rmse:6.93093\n",
      "[73]\ttrain-rmse:6.84924\ttest-rmse:6.86543\n",
      "[74]\ttrain-rmse:6.7842\ttest-rmse:6.80078\n",
      "[75]\ttrain-rmse:6.71982\ttest-rmse:6.73665\n",
      "[76]\ttrain-rmse:6.65611\ttest-rmse:6.67325\n",
      "[77]\ttrain-rmse:6.59305\ttest-rmse:6.61053\n",
      "[78]\ttrain-rmse:6.5306\ttest-rmse:6.5484\n",
      "[79]\ttrain-rmse:6.46882\ttest-rmse:6.48699\n",
      "[80]\ttrain-rmse:6.4077\ttest-rmse:6.42612\n",
      "[81]\ttrain-rmse:6.34723\ttest-rmse:6.36613\n",
      "[82]\ttrain-rmse:6.28738\ttest-rmse:6.3067\n",
      "[83]\ttrain-rmse:6.22816\ttest-rmse:6.24787\n",
      "[84]\ttrain-rmse:6.16954\ttest-rmse:6.18958\n",
      "[85]\ttrain-rmse:6.11154\ttest-rmse:6.13194\n",
      "[86]\ttrain-rmse:6.05411\ttest-rmse:6.0749\n",
      "[87]\ttrain-rmse:5.99732\ttest-rmse:6.01832\n",
      "[88]\ttrain-rmse:5.94112\ttest-rmse:5.96258\n",
      "[89]\ttrain-rmse:5.8855\ttest-rmse:5.90741\n",
      "[90]\ttrain-rmse:5.83044\ttest-rmse:5.85274\n",
      "[91]\ttrain-rmse:5.77598\ttest-rmse:5.79871\n",
      "[92]\ttrain-rmse:5.72207\ttest-rmse:5.7452\n",
      "[93]\ttrain-rmse:5.66875\ttest-rmse:5.69218\n",
      "[94]\ttrain-rmse:5.61597\ttest-rmse:5.63989\n",
      "[95]\ttrain-rmse:5.56374\ttest-rmse:5.58794\n",
      "[96]\ttrain-rmse:5.51204\ttest-rmse:5.5368\n",
      "[97]\ttrain-rmse:5.46088\ttest-rmse:5.48612\n",
      "[98]\ttrain-rmse:5.41027\ttest-rmse:5.43595\n",
      "[99]\ttrain-rmse:5.3602\ttest-rmse:5.3863\n",
      "[100]\ttrain-rmse:5.31066\ttest-rmse:5.33719\n",
      "[101]\ttrain-rmse:5.2616\ttest-rmse:5.28851\n",
      "[102]\ttrain-rmse:5.2131\ttest-rmse:5.24049\n",
      "[103]\ttrain-rmse:5.16512\ttest-rmse:5.19285\n",
      "[104]\ttrain-rmse:5.11761\ttest-rmse:5.14586\n",
      "[105]\ttrain-rmse:5.07059\ttest-rmse:5.09947\n",
      "[106]\ttrain-rmse:5.02411\ttest-rmse:5.05346\n",
      "[107]\ttrain-rmse:4.97808\ttest-rmse:5.00787\n",
      "[108]\ttrain-rmse:4.93258\ttest-rmse:4.96272\n",
      "[109]\ttrain-rmse:4.88754\ttest-rmse:4.91812\n",
      "[110]\ttrain-rmse:4.84298\ttest-rmse:4.87387\n",
      "[111]\ttrain-rmse:4.79887\ttest-rmse:4.8303\n",
      "[112]\ttrain-rmse:4.75525\ttest-rmse:4.78716\n",
      "[113]\ttrain-rmse:4.7121\ttest-rmse:4.74452\n",
      "[114]\ttrain-rmse:4.66945\ttest-rmse:4.70236\n",
      "[115]\ttrain-rmse:4.62725\ttest-rmse:4.66062\n",
      "[116]\ttrain-rmse:4.58546\ttest-rmse:4.61934\n",
      "[117]\ttrain-rmse:4.54413\ttest-rmse:4.57853\n",
      "[118]\ttrain-rmse:4.50325\ttest-rmse:4.53828\n",
      "[119]\ttrain-rmse:4.46283\ttest-rmse:4.49831\n",
      "[120]\ttrain-rmse:4.42281\ttest-rmse:4.45868\n",
      "[121]\ttrain-rmse:4.38326\ttest-rmse:4.41957\n",
      "[122]\ttrain-rmse:4.34411\ttest-rmse:4.38104\n",
      "[123]\ttrain-rmse:4.30537\ttest-rmse:4.34298\n",
      "[124]\ttrain-rmse:4.26707\ttest-rmse:4.30528\n",
      "[125]\ttrain-rmse:4.22915\ttest-rmse:4.26785\n",
      "[126]\ttrain-rmse:4.19166\ttest-rmse:4.23102\n",
      "[127]\ttrain-rmse:4.15457\ttest-rmse:4.19473\n",
      "[128]\ttrain-rmse:4.11786\ttest-rmse:4.15866\n",
      "[129]\ttrain-rmse:4.08159\ttest-rmse:4.12296\n",
      "[130]\ttrain-rmse:4.04574\ttest-rmse:4.08775\n",
      "[131]\ttrain-rmse:4.01026\ttest-rmse:4.05287\n",
      "[132]\ttrain-rmse:3.97512\ttest-rmse:4.01828\n",
      "[133]\ttrain-rmse:3.94035\ttest-rmse:3.98412\n",
      "[134]\ttrain-rmse:3.90594\ttest-rmse:3.95041\n",
      "[135]\ttrain-rmse:3.87198\ttest-rmse:3.91713\n",
      "[136]\ttrain-rmse:3.83836\ttest-rmse:3.88416\n",
      "[137]\ttrain-rmse:3.80509\ttest-rmse:3.85157\n",
      "[138]\ttrain-rmse:3.77226\ttest-rmse:3.81943\n",
      "[139]\ttrain-rmse:3.73977\ttest-rmse:3.78749\n",
      "[140]\ttrain-rmse:3.70762\ttest-rmse:3.75602\n",
      "[141]\ttrain-rmse:3.67585\ttest-rmse:3.72482\n",
      "[142]\ttrain-rmse:3.64442\ttest-rmse:3.69401\n",
      "[143]\ttrain-rmse:3.61334\ttest-rmse:3.66356\n",
      "[144]\ttrain-rmse:3.5826\ttest-rmse:3.63359\n",
      "[145]\ttrain-rmse:3.5522\ttest-rmse:3.6039\n",
      "[146]\ttrain-rmse:3.52217\ttest-rmse:3.57463\n",
      "[147]\ttrain-rmse:3.49243\ttest-rmse:3.54572\n",
      "[148]\ttrain-rmse:3.46306\ttest-rmse:3.51712\n",
      "[149]\ttrain-rmse:3.43401\ttest-rmse:3.48867\n",
      "[150]\ttrain-rmse:3.40528\ttest-rmse:3.46068\n",
      "[151]\ttrain-rmse:3.37688\ttest-rmse:3.43297\n",
      "[152]\ttrain-rmse:3.34875\ttest-rmse:3.4056\n",
      "[153]\ttrain-rmse:3.32098\ttest-rmse:3.37846\n",
      "[154]\ttrain-rmse:3.29353\ttest-rmse:3.35174\n",
      "[155]\ttrain-rmse:3.26641\ttest-rmse:3.32538\n",
      "[156]\ttrain-rmse:3.23955\ttest-rmse:3.29924\n",
      "[157]\ttrain-rmse:3.21306\ttest-rmse:3.27342\n",
      "[158]\ttrain-rmse:3.18677\ttest-rmse:3.24801\n",
      "[159]\ttrain-rmse:3.1608\ttest-rmse:3.22299\n",
      "[160]\ttrain-rmse:3.13513\ttest-rmse:3.19819\n",
      "[161]\ttrain-rmse:3.10972\ttest-rmse:3.17362\n",
      "[162]\ttrain-rmse:3.08473\ttest-rmse:3.14936\n",
      "[163]\ttrain-rmse:3.05999\ttest-rmse:3.12548\n",
      "[164]\ttrain-rmse:3.03551\ttest-rmse:3.10177\n",
      "[165]\ttrain-rmse:3.01128\ttest-rmse:3.07841\n",
      "[166]\ttrain-rmse:2.98736\ttest-rmse:3.05532\n",
      "[167]\ttrain-rmse:2.96373\ttest-rmse:3.03246\n",
      "[168]\ttrain-rmse:2.94033\ttest-rmse:3.01004\n",
      "[169]\ttrain-rmse:2.91717\ttest-rmse:2.98779\n",
      "[170]\ttrain-rmse:2.89432\ttest-rmse:2.96572\n",
      "[171]\ttrain-rmse:2.87177\ttest-rmse:2.94394\n",
      "[172]\ttrain-rmse:2.84948\ttest-rmse:2.92248\n",
      "[173]\ttrain-rmse:2.82751\ttest-rmse:2.90134\n",
      "[174]\ttrain-rmse:2.80568\ttest-rmse:2.88036\n",
      "[175]\ttrain-rmse:2.78411\ttest-rmse:2.85962\n",
      "[176]\ttrain-rmse:2.76276\ttest-rmse:2.83929\n",
      "[177]\ttrain-rmse:2.74174\ttest-rmse:2.8192\n",
      "[178]\ttrain-rmse:2.72096\ttest-rmse:2.79939\n",
      "[179]\ttrain-rmse:2.7004\ttest-rmse:2.77998\n",
      "[180]\ttrain-rmse:2.68016\ttest-rmse:2.76068\n",
      "[181]\ttrain-rmse:2.66011\ttest-rmse:2.74156\n",
      "[182]\ttrain-rmse:2.64036\ttest-rmse:2.72263\n",
      "[183]\ttrain-rmse:2.6208\ttest-rmse:2.70395\n",
      "[184]\ttrain-rmse:2.60137\ttest-rmse:2.68554\n",
      "[185]\ttrain-rmse:2.58223\ttest-rmse:2.66731\n",
      "[186]\ttrain-rmse:2.5634\ttest-rmse:2.64938\n",
      "[187]\ttrain-rmse:2.54478\ttest-rmse:2.6317\n",
      "[188]\ttrain-rmse:2.5264\ttest-rmse:2.61408\n",
      "[189]\ttrain-rmse:2.5082\ttest-rmse:2.59691\n",
      "[190]\ttrain-rmse:2.49028\ttest-rmse:2.57994\n",
      "[191]\ttrain-rmse:2.4725\ttest-rmse:2.56303\n",
      "[192]\ttrain-rmse:2.45501\ttest-rmse:2.54641\n",
      "[193]\ttrain-rmse:2.43768\ttest-rmse:2.52996\n",
      "[194]\ttrain-rmse:2.42059\ttest-rmse:2.51381\n"
     ]
    },
    {
     "name": "stdout",
     "output_type": "stream",
     "text": [
      "[195]\ttrain-rmse:2.40365\ttest-rmse:2.49789\n",
      "[196]\ttrain-rmse:2.38695\ttest-rmse:2.48218\n",
      "[197]\ttrain-rmse:2.37038\ttest-rmse:2.46679\n",
      "[198]\ttrain-rmse:2.35415\ttest-rmse:2.4515\n",
      "[199]\ttrain-rmse:2.33815\ttest-rmse:2.43636\n",
      "[200]\ttrain-rmse:2.3222\ttest-rmse:2.42133\n",
      "[201]\ttrain-rmse:2.30648\ttest-rmse:2.40654\n",
      "[202]\ttrain-rmse:2.2909\ttest-rmse:2.39201\n",
      "[203]\ttrain-rmse:2.27567\ttest-rmse:2.37782\n",
      "[204]\ttrain-rmse:2.26054\ttest-rmse:2.36372\n",
      "[205]\ttrain-rmse:2.24565\ttest-rmse:2.3498\n",
      "[206]\ttrain-rmse:2.23088\ttest-rmse:2.33612\n",
      "[207]\ttrain-rmse:2.21628\ttest-rmse:2.32269\n",
      "[208]\ttrain-rmse:2.20198\ttest-rmse:2.3095\n",
      "[209]\ttrain-rmse:2.18779\ttest-rmse:2.29621\n",
      "[210]\ttrain-rmse:2.17383\ttest-rmse:2.28336\n",
      "[211]\ttrain-rmse:2.16005\ttest-rmse:2.27061\n",
      "[212]\ttrain-rmse:2.14642\ttest-rmse:2.25796\n",
      "[213]\ttrain-rmse:2.1329\ttest-rmse:2.24542\n",
      "[214]\ttrain-rmse:2.11962\ttest-rmse:2.23304\n",
      "[215]\ttrain-rmse:2.10655\ttest-rmse:2.22096\n",
      "[216]\ttrain-rmse:2.09371\ttest-rmse:2.20905\n",
      "[217]\ttrain-rmse:2.08093\ttest-rmse:2.19735\n",
      "[218]\ttrain-rmse:2.06829\ttest-rmse:2.1858\n",
      "[219]\ttrain-rmse:2.05584\ttest-rmse:2.17445\n",
      "[220]\ttrain-rmse:2.04356\ttest-rmse:2.16323\n",
      "[221]\ttrain-rmse:2.03148\ttest-rmse:2.15209\n",
      "[222]\ttrain-rmse:2.0196\ttest-rmse:2.14124\n",
      "[223]\ttrain-rmse:2.00774\ttest-rmse:2.13046\n",
      "[224]\ttrain-rmse:1.99618\ttest-rmse:2.12005\n",
      "[225]\ttrain-rmse:1.98467\ttest-rmse:2.1095\n",
      "[226]\ttrain-rmse:1.9734\ttest-rmse:2.09922\n",
      "[227]\ttrain-rmse:1.96221\ttest-rmse:2.08912\n",
      "[228]\ttrain-rmse:1.95119\ttest-rmse:2.07907\n",
      "[229]\ttrain-rmse:1.94035\ttest-rmse:2.0692\n",
      "[230]\ttrain-rmse:1.92963\ttest-rmse:2.05951\n",
      "[231]\ttrain-rmse:1.91897\ttest-rmse:2.04984\n",
      "[232]\ttrain-rmse:1.90855\ttest-rmse:2.04046\n",
      "[233]\ttrain-rmse:1.89827\ttest-rmse:2.03115\n",
      "[234]\ttrain-rmse:1.88798\ttest-rmse:2.02209\n",
      "[235]\ttrain-rmse:1.87797\ttest-rmse:2.01318\n",
      "[236]\ttrain-rmse:1.86813\ttest-rmse:2.00439\n",
      "[237]\ttrain-rmse:1.85848\ttest-rmse:1.99569\n",
      "[238]\ttrain-rmse:1.84898\ttest-rmse:1.98706\n",
      "[239]\ttrain-rmse:1.83949\ttest-rmse:1.97865\n",
      "[240]\ttrain-rmse:1.83022\ttest-rmse:1.97035\n",
      "[241]\ttrain-rmse:1.82097\ttest-rmse:1.96221\n",
      "[242]\ttrain-rmse:1.81174\ttest-rmse:1.95404\n",
      "[243]\ttrain-rmse:1.80275\ttest-rmse:1.94606\n",
      "[244]\ttrain-rmse:1.7939\ttest-rmse:1.9382\n",
      "[245]\ttrain-rmse:1.78519\ttest-rmse:1.93055\n",
      "[246]\ttrain-rmse:1.77657\ttest-rmse:1.92298\n",
      "[247]\ttrain-rmse:1.76816\ttest-rmse:1.91551\n",
      "[248]\ttrain-rmse:1.75965\ttest-rmse:1.90793\n",
      "[249]\ttrain-rmse:1.7515\ttest-rmse:1.90067\n",
      "[250]\ttrain-rmse:1.74334\ttest-rmse:1.89357\n",
      "[251]\ttrain-rmse:1.73524\ttest-rmse:1.88662\n",
      "[252]\ttrain-rmse:1.7273\ttest-rmse:1.87966\n",
      "[253]\ttrain-rmse:1.71933\ttest-rmse:1.87284\n",
      "[254]\ttrain-rmse:1.71167\ttest-rmse:1.86615\n",
      "[255]\ttrain-rmse:1.70413\ttest-rmse:1.85972\n",
      "[256]\ttrain-rmse:1.69683\ttest-rmse:1.85335\n",
      "[257]\ttrain-rmse:1.68932\ttest-rmse:1.8469\n",
      "[258]\ttrain-rmse:1.68219\ttest-rmse:1.84069\n",
      "[259]\ttrain-rmse:1.67499\ttest-rmse:1.8346\n",
      "[260]\ttrain-rmse:1.66788\ttest-rmse:1.82857\n",
      "[261]\ttrain-rmse:1.66099\ttest-rmse:1.82262\n",
      "[262]\ttrain-rmse:1.6541\ttest-rmse:1.81681\n",
      "[263]\ttrain-rmse:1.64744\ttest-rmse:1.81112\n",
      "[264]\ttrain-rmse:1.64083\ttest-rmse:1.80548\n",
      "[265]\ttrain-rmse:1.63419\ttest-rmse:1.79988\n",
      "[266]\ttrain-rmse:1.62769\ttest-rmse:1.7943\n",
      "[267]\ttrain-rmse:1.62121\ttest-rmse:1.78891\n",
      "[268]\ttrain-rmse:1.61494\ttest-rmse:1.78359\n",
      "[269]\ttrain-rmse:1.60882\ttest-rmse:1.7784\n",
      "[270]\ttrain-rmse:1.60262\ttest-rmse:1.77321\n",
      "[271]\ttrain-rmse:1.59672\ttest-rmse:1.76826\n",
      "[272]\ttrain-rmse:1.59076\ttest-rmse:1.76318\n",
      "[273]\ttrain-rmse:1.58489\ttest-rmse:1.75826\n",
      "[274]\ttrain-rmse:1.57914\ttest-rmse:1.75339\n",
      "[275]\ttrain-rmse:1.5735\ttest-rmse:1.74868\n",
      "[276]\ttrain-rmse:1.56802\ttest-rmse:1.74411\n",
      "[277]\ttrain-rmse:1.56241\ttest-rmse:1.73956\n",
      "[278]\ttrain-rmse:1.55694\ttest-rmse:1.73499\n",
      "[279]\ttrain-rmse:1.55163\ttest-rmse:1.73053\n",
      "[280]\ttrain-rmse:1.54618\ttest-rmse:1.7261\n",
      "[281]\ttrain-rmse:1.541\ttest-rmse:1.72175\n",
      "[282]\ttrain-rmse:1.53594\ttest-rmse:1.71759\n",
      "[283]\ttrain-rmse:1.53094\ttest-rmse:1.71351\n",
      "[284]\ttrain-rmse:1.52581\ttest-rmse:1.70939\n",
      "[285]\ttrain-rmse:1.52094\ttest-rmse:1.70541\n",
      "[286]\ttrain-rmse:1.5162\ttest-rmse:1.70162\n",
      "[287]\ttrain-rmse:1.51142\ttest-rmse:1.69767\n",
      "[288]\ttrain-rmse:1.50678\ttest-rmse:1.69391\n",
      "[289]\ttrain-rmse:1.50218\ttest-rmse:1.69022\n",
      "[290]\ttrain-rmse:1.49758\ttest-rmse:1.68659\n",
      "[291]\ttrain-rmse:1.49317\ttest-rmse:1.68303\n",
      "[292]\ttrain-rmse:1.48876\ttest-rmse:1.67949\n",
      "[293]\ttrain-rmse:1.48453\ttest-rmse:1.67614\n",
      "[294]\ttrain-rmse:1.48039\ttest-rmse:1.67276\n",
      "[295]\ttrain-rmse:1.47622\ttest-rmse:1.66951\n",
      "[296]\ttrain-rmse:1.47194\ttest-rmse:1.66608\n",
      "[297]\ttrain-rmse:1.46792\ttest-rmse:1.66281\n",
      "[298]\ttrain-rmse:1.46391\ttest-rmse:1.65956\n",
      "[299]\ttrain-rmse:1.45991\ttest-rmse:1.65648\n",
      "[300]\ttrain-rmse:1.45592\ttest-rmse:1.65332\n",
      "[301]\ttrain-rmse:1.45214\ttest-rmse:1.65031\n",
      "[302]\ttrain-rmse:1.44837\ttest-rmse:1.64736\n",
      "[303]\ttrain-rmse:1.44459\ttest-rmse:1.64444\n",
      "[304]\ttrain-rmse:1.441\ttest-rmse:1.64158\n",
      "[305]\ttrain-rmse:1.43736\ttest-rmse:1.63878\n",
      "[306]\ttrain-rmse:1.43387\ttest-rmse:1.63601\n",
      "[307]\ttrain-rmse:1.43032\ttest-rmse:1.63328\n",
      "[308]\ttrain-rmse:1.427\ttest-rmse:1.63061\n",
      "[309]\ttrain-rmse:1.42362\ttest-rmse:1.62798\n",
      "[310]\ttrain-rmse:1.42022\ttest-rmse:1.62541\n",
      "[311]\ttrain-rmse:1.41702\ttest-rmse:1.62296\n",
      "[312]\ttrain-rmse:1.41392\ttest-rmse:1.62055\n",
      "[313]\ttrain-rmse:1.41064\ttest-rmse:1.61805\n",
      "[314]\ttrain-rmse:1.40768\ttest-rmse:1.61573\n",
      "[315]\ttrain-rmse:1.40461\ttest-rmse:1.61332\n",
      "[316]\ttrain-rmse:1.40151\ttest-rmse:1.61096\n",
      "[317]\ttrain-rmse:1.39858\ttest-rmse:1.60866\n",
      "[318]\ttrain-rmse:1.39553\ttest-rmse:1.60644\n",
      "[319]\ttrain-rmse:1.39261\ttest-rmse:1.60417\n",
      "[320]\ttrain-rmse:1.38971\ttest-rmse:1.60199\n",
      "[321]\ttrain-rmse:1.38689\ttest-rmse:1.59982\n",
      "[322]\ttrain-rmse:1.38419\ttest-rmse:1.59773\n",
      "[323]\ttrain-rmse:1.38134\ttest-rmse:1.59567\n",
      "[324]\ttrain-rmse:1.37864\ttest-rmse:1.59374\n",
      "[325]\ttrain-rmse:1.37589\ttest-rmse:1.59167\n",
      "[326]\ttrain-rmse:1.37319\ttest-rmse:1.58979\n",
      "[327]\ttrain-rmse:1.37071\ttest-rmse:1.58789\n",
      "[328]\ttrain-rmse:1.36823\ttest-rmse:1.58606\n",
      "[329]\ttrain-rmse:1.36572\ttest-rmse:1.58424\n",
      "[330]\ttrain-rmse:1.36329\ttest-rmse:1.58251\n",
      "[331]\ttrain-rmse:1.3609\ttest-rmse:1.58076\n",
      "[332]\ttrain-rmse:1.35855\ttest-rmse:1.57905\n",
      "[333]\ttrain-rmse:1.35622\ttest-rmse:1.57736\n",
      "[334]\ttrain-rmse:1.35392\ttest-rmse:1.57569\n",
      "[335]\ttrain-rmse:1.35166\ttest-rmse:1.57409\n",
      "[336]\ttrain-rmse:1.34945\ttest-rmse:1.57246\n",
      "[337]\ttrain-rmse:1.34719\ttest-rmse:1.57091\n",
      "[338]\ttrain-rmse:1.34494\ttest-rmse:1.56933\n",
      "[339]\ttrain-rmse:1.3427\ttest-rmse:1.56776\n",
      "[340]\ttrain-rmse:1.34067\ttest-rmse:1.56624\n",
      "[341]\ttrain-rmse:1.33857\ttest-rmse:1.56473\n",
      "[342]\ttrain-rmse:1.33658\ttest-rmse:1.56332\n",
      "[343]\ttrain-rmse:1.33455\ttest-rmse:1.56187\n",
      "[344]\ttrain-rmse:1.33259\ttest-rmse:1.5605\n",
      "[345]\ttrain-rmse:1.33066\ttest-rmse:1.55915\n",
      "[346]\ttrain-rmse:1.3288\ttest-rmse:1.55779\n",
      "[347]\ttrain-rmse:1.32688\ttest-rmse:1.5565\n",
      "[348]\ttrain-rmse:1.32505\ttest-rmse:1.5552\n",
      "[349]\ttrain-rmse:1.32319\ttest-rmse:1.55387\n",
      "[350]\ttrain-rmse:1.32148\ttest-rmse:1.55271\n",
      "[351]\ttrain-rmse:1.31979\ttest-rmse:1.55158\n",
      "[352]\ttrain-rmse:1.31807\ttest-rmse:1.55042\n",
      "[353]\ttrain-rmse:1.31641\ttest-rmse:1.54927\n",
      "[354]\ttrain-rmse:1.31477\ttest-rmse:1.54819\n",
      "[355]\ttrain-rmse:1.31305\ttest-rmse:1.54707\n",
      "[356]\ttrain-rmse:1.31143\ttest-rmse:1.54597\n",
      "[357]\ttrain-rmse:1.30975\ttest-rmse:1.54488\n",
      "[358]\ttrain-rmse:1.30821\ttest-rmse:1.54382\n",
      "[359]\ttrain-rmse:1.30659\ttest-rmse:1.54273\n",
      "[360]\ttrain-rmse:1.30499\ttest-rmse:1.54173\n",
      "[361]\ttrain-rmse:1.3035\ttest-rmse:1.54075\n",
      "[362]\ttrain-rmse:1.30204\ttest-rmse:1.53979\n",
      "[363]\ttrain-rmse:1.30056\ttest-rmse:1.53878\n",
      "[364]\ttrain-rmse:1.2991\ttest-rmse:1.5378\n",
      "[365]\ttrain-rmse:1.29768\ttest-rmse:1.53676\n",
      "[366]\ttrain-rmse:1.29624\ttest-rmse:1.5358\n",
      "[367]\ttrain-rmse:1.29492\ttest-rmse:1.53495\n",
      "[368]\ttrain-rmse:1.29354\ttest-rmse:1.53405\n",
      "[369]\ttrain-rmse:1.29221\ttest-rmse:1.53319\n",
      "[370]\ttrain-rmse:1.29084\ttest-rmse:1.53224\n",
      "[371]\ttrain-rmse:1.28949\ttest-rmse:1.53142\n",
      "[372]\ttrain-rmse:1.28826\ttest-rmse:1.53059\n",
      "[373]\ttrain-rmse:1.28698\ttest-rmse:1.52976\n",
      "[374]\ttrain-rmse:1.2857\ttest-rmse:1.52892\n",
      "[375]\ttrain-rmse:1.28448\ttest-rmse:1.52821\n",
      "[376]\ttrain-rmse:1.28332\ttest-rmse:1.52747\n",
      "[377]\ttrain-rmse:1.28211\ttest-rmse:1.52669\n",
      "[378]\ttrain-rmse:1.28092\ttest-rmse:1.52588\n",
      "[379]\ttrain-rmse:1.2797\ttest-rmse:1.52515\n",
      "[380]\ttrain-rmse:1.27854\ttest-rmse:1.52444\n",
      "[381]\ttrain-rmse:1.27735\ttest-rmse:1.5237\n",
      "[382]\ttrain-rmse:1.27617\ttest-rmse:1.523\n",
      "[383]\ttrain-rmse:1.27511\ttest-rmse:1.52234\n",
      "[384]\ttrain-rmse:1.27401\ttest-rmse:1.52171\n",
      "[385]\ttrain-rmse:1.27291\ttest-rmse:1.52105\n",
      "[386]\ttrain-rmse:1.27186\ttest-rmse:1.52042\n"
     ]
    },
    {
     "name": "stdout",
     "output_type": "stream",
     "text": [
      "[387]\ttrain-rmse:1.27073\ttest-rmse:1.51976\n",
      "[388]\ttrain-rmse:1.26965\ttest-rmse:1.51917\n",
      "[389]\ttrain-rmse:1.26855\ttest-rmse:1.5186\n",
      "[390]\ttrain-rmse:1.26746\ttest-rmse:1.51795\n",
      "[391]\ttrain-rmse:1.26646\ttest-rmse:1.51739\n",
      "[392]\ttrain-rmse:1.26544\ttest-rmse:1.51678\n",
      "[393]\ttrain-rmse:1.26447\ttest-rmse:1.51623\n",
      "[394]\ttrain-rmse:1.26339\ttest-rmse:1.51568\n",
      "[395]\ttrain-rmse:1.26243\ttest-rmse:1.51509\n",
      "[396]\ttrain-rmse:1.26149\ttest-rmse:1.51454\n",
      "[397]\ttrain-rmse:1.26062\ttest-rmse:1.51405\n",
      "[398]\ttrain-rmse:1.25963\ttest-rmse:1.51351\n",
      "[399]\ttrain-rmse:1.25881\ttest-rmse:1.51301\n",
      "[400]\ttrain-rmse:1.25791\ttest-rmse:1.51251\n",
      "[401]\ttrain-rmse:1.25695\ttest-rmse:1.512\n",
      "[402]\ttrain-rmse:1.256\ttest-rmse:1.51156\n",
      "[403]\ttrain-rmse:1.25511\ttest-rmse:1.51107\n",
      "[404]\ttrain-rmse:1.25427\ttest-rmse:1.51062\n",
      "[405]\ttrain-rmse:1.25342\ttest-rmse:1.51009\n",
      "[406]\ttrain-rmse:1.25258\ttest-rmse:1.5097\n",
      "[407]\ttrain-rmse:1.25177\ttest-rmse:1.50926\n",
      "[408]\ttrain-rmse:1.25106\ttest-rmse:1.50887\n",
      "[409]\ttrain-rmse:1.25028\ttest-rmse:1.50842\n",
      "[410]\ttrain-rmse:1.24947\ttest-rmse:1.50793\n",
      "[411]\ttrain-rmse:1.24867\ttest-rmse:1.50755\n",
      "[412]\ttrain-rmse:1.24786\ttest-rmse:1.50719\n",
      "[413]\ttrain-rmse:1.24715\ttest-rmse:1.50681\n",
      "[414]\ttrain-rmse:1.24644\ttest-rmse:1.50641\n",
      "[415]\ttrain-rmse:1.24567\ttest-rmse:1.50601\n",
      "[416]\ttrain-rmse:1.2449\ttest-rmse:1.50556\n",
      "[417]\ttrain-rmse:1.2441\ttest-rmse:1.50514\n",
      "[418]\ttrain-rmse:1.24334\ttest-rmse:1.50479\n",
      "[419]\ttrain-rmse:1.24267\ttest-rmse:1.50443\n",
      "[420]\ttrain-rmse:1.24202\ttest-rmse:1.50407\n",
      "[421]\ttrain-rmse:1.24129\ttest-rmse:1.50374\n",
      "[422]\ttrain-rmse:1.24061\ttest-rmse:1.50342\n",
      "[423]\ttrain-rmse:1.23991\ttest-rmse:1.50308\n",
      "[424]\ttrain-rmse:1.23912\ttest-rmse:1.50273\n",
      "[425]\ttrain-rmse:1.23845\ttest-rmse:1.50243\n",
      "[426]\ttrain-rmse:1.23777\ttest-rmse:1.50209\n",
      "[427]\ttrain-rmse:1.23718\ttest-rmse:1.50178\n",
      "[428]\ttrain-rmse:1.23656\ttest-rmse:1.50149\n",
      "[429]\ttrain-rmse:1.23588\ttest-rmse:1.50121\n",
      "[430]\ttrain-rmse:1.23522\ttest-rmse:1.50092\n",
      "[431]\ttrain-rmse:1.23457\ttest-rmse:1.50065\n",
      "[432]\ttrain-rmse:1.23394\ttest-rmse:1.50035\n",
      "[433]\ttrain-rmse:1.23337\ttest-rmse:1.50001\n",
      "[434]\ttrain-rmse:1.23277\ttest-rmse:1.49978\n",
      "[435]\ttrain-rmse:1.23202\ttest-rmse:1.49947\n",
      "[436]\ttrain-rmse:1.23146\ttest-rmse:1.49926\n",
      "[437]\ttrain-rmse:1.23088\ttest-rmse:1.49895\n",
      "[438]\ttrain-rmse:1.23024\ttest-rmse:1.49868\n",
      "[439]\ttrain-rmse:1.22961\ttest-rmse:1.49845\n",
      "[440]\ttrain-rmse:1.22913\ttest-rmse:1.49824\n",
      "[441]\ttrain-rmse:1.22854\ttest-rmse:1.49801\n",
      "[442]\ttrain-rmse:1.22803\ttest-rmse:1.4978\n",
      "[443]\ttrain-rmse:1.22746\ttest-rmse:1.49759\n",
      "[444]\ttrain-rmse:1.22693\ttest-rmse:1.49738\n",
      "[445]\ttrain-rmse:1.22638\ttest-rmse:1.49709\n",
      "[446]\ttrain-rmse:1.22581\ttest-rmse:1.49684\n",
      "[447]\ttrain-rmse:1.22529\ttest-rmse:1.49665\n",
      "[448]\ttrain-rmse:1.22478\ttest-rmse:1.49636\n",
      "[449]\ttrain-rmse:1.22424\ttest-rmse:1.4961\n",
      "[450]\ttrain-rmse:1.22374\ttest-rmse:1.49592\n",
      "[451]\ttrain-rmse:1.22326\ttest-rmse:1.49571\n",
      "[452]\ttrain-rmse:1.22269\ttest-rmse:1.49555\n",
      "[453]\ttrain-rmse:1.2222\ttest-rmse:1.49539\n",
      "[454]\ttrain-rmse:1.22173\ttest-rmse:1.49526\n",
      "[455]\ttrain-rmse:1.22131\ttest-rmse:1.49503\n",
      "[456]\ttrain-rmse:1.22062\ttest-rmse:1.49479\n",
      "[457]\ttrain-rmse:1.22016\ttest-rmse:1.49459\n",
      "[458]\ttrain-rmse:1.21966\ttest-rmse:1.49444\n",
      "[459]\ttrain-rmse:1.21911\ttest-rmse:1.49428\n",
      "[460]\ttrain-rmse:1.21862\ttest-rmse:1.49412\n",
      "[461]\ttrain-rmse:1.21821\ttest-rmse:1.49398\n",
      "[462]\ttrain-rmse:1.21768\ttest-rmse:1.49381\n",
      "[463]\ttrain-rmse:1.21723\ttest-rmse:1.4936\n",
      "[464]\ttrain-rmse:1.21683\ttest-rmse:1.49344\n",
      "[465]\ttrain-rmse:1.21616\ttest-rmse:1.4932\n",
      "[466]\ttrain-rmse:1.21565\ttest-rmse:1.49301\n",
      "[467]\ttrain-rmse:1.21521\ttest-rmse:1.49286\n",
      "[468]\ttrain-rmse:1.21478\ttest-rmse:1.49271\n",
      "[469]\ttrain-rmse:1.21439\ttest-rmse:1.49253\n",
      "[470]\ttrain-rmse:1.21394\ttest-rmse:1.4924\n",
      "[471]\ttrain-rmse:1.21351\ttest-rmse:1.49225\n",
      "[472]\ttrain-rmse:1.21313\ttest-rmse:1.49212\n",
      "[473]\ttrain-rmse:1.2127\ttest-rmse:1.49199\n",
      "[474]\ttrain-rmse:1.21231\ttest-rmse:1.49186\n",
      "[475]\ttrain-rmse:1.2119\ttest-rmse:1.4917\n",
      "[476]\ttrain-rmse:1.21148\ttest-rmse:1.49158\n",
      "[477]\ttrain-rmse:1.21106\ttest-rmse:1.49142\n",
      "[478]\ttrain-rmse:1.21071\ttest-rmse:1.49127\n",
      "[479]\ttrain-rmse:1.21029\ttest-rmse:1.49111\n",
      "[480]\ttrain-rmse:1.20996\ttest-rmse:1.49096\n",
      "[481]\ttrain-rmse:1.20938\ttest-rmse:1.49081\n",
      "[482]\ttrain-rmse:1.20899\ttest-rmse:1.49067\n",
      "[483]\ttrain-rmse:1.20855\ttest-rmse:1.49052\n",
      "[484]\ttrain-rmse:1.20815\ttest-rmse:1.49036\n",
      "[485]\ttrain-rmse:1.20762\ttest-rmse:1.49017\n",
      "[486]\ttrain-rmse:1.20725\ttest-rmse:1.49009\n",
      "[487]\ttrain-rmse:1.20678\ttest-rmse:1.49\n",
      "[488]\ttrain-rmse:1.20636\ttest-rmse:1.48985\n",
      "[489]\ttrain-rmse:1.20605\ttest-rmse:1.48975\n",
      "[490]\ttrain-rmse:1.2057\ttest-rmse:1.48965\n",
      "[491]\ttrain-rmse:1.20528\ttest-rmse:1.48952\n",
      "[492]\ttrain-rmse:1.20488\ttest-rmse:1.48939\n",
      "[493]\ttrain-rmse:1.20444\ttest-rmse:1.48926\n",
      "[494]\ttrain-rmse:1.20403\ttest-rmse:1.48911\n",
      "[495]\ttrain-rmse:1.20361\ttest-rmse:1.48897\n",
      "[496]\ttrain-rmse:1.20326\ttest-rmse:1.48887\n",
      "[497]\ttrain-rmse:1.20289\ttest-rmse:1.48878\n",
      "[498]\ttrain-rmse:1.20247\ttest-rmse:1.48867\n",
      "[499]\ttrain-rmse:1.20209\ttest-rmse:1.48857\n",
      "[500]\ttrain-rmse:1.20174\ttest-rmse:1.48845\n",
      "[501]\ttrain-rmse:1.20125\ttest-rmse:1.48836\n",
      "[502]\ttrain-rmse:1.20087\ttest-rmse:1.48828\n",
      "[503]\ttrain-rmse:1.20056\ttest-rmse:1.48819\n",
      "[504]\ttrain-rmse:1.20021\ttest-rmse:1.48809\n",
      "[505]\ttrain-rmse:1.19988\ttest-rmse:1.48803\n",
      "[506]\ttrain-rmse:1.19955\ttest-rmse:1.48792\n",
      "[507]\ttrain-rmse:1.19925\ttest-rmse:1.48781\n",
      "[508]\ttrain-rmse:1.19895\ttest-rmse:1.48774\n",
      "[509]\ttrain-rmse:1.19862\ttest-rmse:1.48762\n",
      "[510]\ttrain-rmse:1.1983\ttest-rmse:1.4876\n",
      "[511]\ttrain-rmse:1.19801\ttest-rmse:1.48755\n",
      "[512]\ttrain-rmse:1.19772\ttest-rmse:1.48747\n",
      "[513]\ttrain-rmse:1.1974\ttest-rmse:1.48737\n",
      "[514]\ttrain-rmse:1.19697\ttest-rmse:1.48724\n",
      "[515]\ttrain-rmse:1.19658\ttest-rmse:1.48711\n",
      "[516]\ttrain-rmse:1.19628\ttest-rmse:1.48705\n",
      "[517]\ttrain-rmse:1.19591\ttest-rmse:1.48694\n",
      "[518]\ttrain-rmse:1.19557\ttest-rmse:1.48681\n",
      "[519]\ttrain-rmse:1.19526\ttest-rmse:1.48678\n",
      "[520]\ttrain-rmse:1.19498\ttest-rmse:1.48667\n",
      "[521]\ttrain-rmse:1.19462\ttest-rmse:1.4866\n",
      "[522]\ttrain-rmse:1.1943\ttest-rmse:1.48655\n",
      "[523]\ttrain-rmse:1.19393\ttest-rmse:1.48647\n",
      "[524]\ttrain-rmse:1.19361\ttest-rmse:1.48637\n",
      "[525]\ttrain-rmse:1.19328\ttest-rmse:1.48631\n",
      "[526]\ttrain-rmse:1.19299\ttest-rmse:1.48623\n",
      "[527]\ttrain-rmse:1.19255\ttest-rmse:1.48614\n",
      "[528]\ttrain-rmse:1.19227\ttest-rmse:1.48608\n",
      "[529]\ttrain-rmse:1.19196\ttest-rmse:1.48598\n",
      "[530]\ttrain-rmse:1.1917\ttest-rmse:1.48591\n",
      "[531]\ttrain-rmse:1.19136\ttest-rmse:1.48587\n",
      "[532]\ttrain-rmse:1.19111\ttest-rmse:1.48582\n",
      "[533]\ttrain-rmse:1.19074\ttest-rmse:1.48569\n",
      "[534]\ttrain-rmse:1.19044\ttest-rmse:1.48564\n",
      "[535]\ttrain-rmse:1.19011\ttest-rmse:1.48556\n",
      "[536]\ttrain-rmse:1.18976\ttest-rmse:1.48548\n",
      "[537]\ttrain-rmse:1.18944\ttest-rmse:1.4854\n",
      "[538]\ttrain-rmse:1.18908\ttest-rmse:1.48534\n",
      "[539]\ttrain-rmse:1.18875\ttest-rmse:1.48525\n",
      "[540]\ttrain-rmse:1.18844\ttest-rmse:1.48518\n",
      "[541]\ttrain-rmse:1.18808\ttest-rmse:1.4851\n",
      "[542]\ttrain-rmse:1.18777\ttest-rmse:1.48503\n",
      "[543]\ttrain-rmse:1.1875\ttest-rmse:1.48499\n",
      "[544]\ttrain-rmse:1.18716\ttest-rmse:1.48497\n",
      "[545]\ttrain-rmse:1.18688\ttest-rmse:1.48496\n",
      "[546]\ttrain-rmse:1.18666\ttest-rmse:1.48493\n",
      "[547]\ttrain-rmse:1.18636\ttest-rmse:1.4849\n",
      "[548]\ttrain-rmse:1.1861\ttest-rmse:1.48482\n",
      "[549]\ttrain-rmse:1.18581\ttest-rmse:1.48477\n",
      "[550]\ttrain-rmse:1.18552\ttest-rmse:1.48471\n",
      "[551]\ttrain-rmse:1.18519\ttest-rmse:1.48466\n",
      "[552]\ttrain-rmse:1.18489\ttest-rmse:1.48457\n",
      "[553]\ttrain-rmse:1.18464\ttest-rmse:1.48452\n",
      "[554]\ttrain-rmse:1.1843\ttest-rmse:1.4844\n",
      "[555]\ttrain-rmse:1.18404\ttest-rmse:1.48438\n",
      "[556]\ttrain-rmse:1.18377\ttest-rmse:1.48431\n",
      "[557]\ttrain-rmse:1.18343\ttest-rmse:1.4843\n",
      "[558]\ttrain-rmse:1.18319\ttest-rmse:1.48425\n",
      "[559]\ttrain-rmse:1.18283\ttest-rmse:1.48418\n",
      "[560]\ttrain-rmse:1.18252\ttest-rmse:1.48411\n",
      "[561]\ttrain-rmse:1.18228\ttest-rmse:1.48412\n",
      "[562]\ttrain-rmse:1.18197\ttest-rmse:1.48409\n",
      "[563]\ttrain-rmse:1.18159\ttest-rmse:1.48408\n",
      "[564]\ttrain-rmse:1.18137\ttest-rmse:1.484\n",
      "[565]\ttrain-rmse:1.18108\ttest-rmse:1.48395\n",
      "[566]\ttrain-rmse:1.18085\ttest-rmse:1.48395\n",
      "[567]\ttrain-rmse:1.18057\ttest-rmse:1.48388\n",
      "[568]\ttrain-rmse:1.18034\ttest-rmse:1.48382\n",
      "[569]\ttrain-rmse:1.18001\ttest-rmse:1.48374\n",
      "[570]\ttrain-rmse:1.17975\ttest-rmse:1.48373\n",
      "[571]\ttrain-rmse:1.17947\ttest-rmse:1.48368\n",
      "[572]\ttrain-rmse:1.17915\ttest-rmse:1.48368\n",
      "[573]\ttrain-rmse:1.17894\ttest-rmse:1.48367\n",
      "[574]\ttrain-rmse:1.17866\ttest-rmse:1.48366\n",
      "[575]\ttrain-rmse:1.17838\ttest-rmse:1.48363\n",
      "[576]\ttrain-rmse:1.17804\ttest-rmse:1.48359\n",
      "[577]\ttrain-rmse:1.1778\ttest-rmse:1.48363\n",
      "[578]\ttrain-rmse:1.17746\ttest-rmse:1.48361\n"
     ]
    },
    {
     "name": "stdout",
     "output_type": "stream",
     "text": [
      "[579]\ttrain-rmse:1.17718\ttest-rmse:1.48359\n",
      "[580]\ttrain-rmse:1.17695\ttest-rmse:1.48358\n",
      "[581]\ttrain-rmse:1.17673\ttest-rmse:1.48356\n",
      "[582]\ttrain-rmse:1.17653\ttest-rmse:1.48352\n",
      "[583]\ttrain-rmse:1.17627\ttest-rmse:1.48348\n",
      "[584]\ttrain-rmse:1.17602\ttest-rmse:1.48344\n",
      "[585]\ttrain-rmse:1.17575\ttest-rmse:1.48335\n",
      "[586]\ttrain-rmse:1.17548\ttest-rmse:1.48329\n",
      "[587]\ttrain-rmse:1.17523\ttest-rmse:1.48325\n",
      "[588]\ttrain-rmse:1.17499\ttest-rmse:1.48317\n",
      "[589]\ttrain-rmse:1.17466\ttest-rmse:1.48313\n",
      "[590]\ttrain-rmse:1.17444\ttest-rmse:1.48316\n",
      "[591]\ttrain-rmse:1.1742\ttest-rmse:1.48313\n",
      "[592]\ttrain-rmse:1.17396\ttest-rmse:1.48307\n",
      "[593]\ttrain-rmse:1.17371\ttest-rmse:1.48305\n",
      "[594]\ttrain-rmse:1.17345\ttest-rmse:1.48306\n",
      "[595]\ttrain-rmse:1.17318\ttest-rmse:1.48298\n",
      "[596]\ttrain-rmse:1.17287\ttest-rmse:1.48293\n",
      "[597]\ttrain-rmse:1.17268\ttest-rmse:1.48293\n",
      "[598]\ttrain-rmse:1.17241\ttest-rmse:1.48289\n",
      "[599]\ttrain-rmse:1.17212\ttest-rmse:1.48287\n",
      "[600]\ttrain-rmse:1.17189\ttest-rmse:1.48281\n",
      "[601]\ttrain-rmse:1.17167\ttest-rmse:1.4828\n",
      "[602]\ttrain-rmse:1.17146\ttest-rmse:1.48276\n",
      "[603]\ttrain-rmse:1.17119\ttest-rmse:1.48273\n",
      "[604]\ttrain-rmse:1.17097\ttest-rmse:1.48272\n",
      "[605]\ttrain-rmse:1.17077\ttest-rmse:1.48267\n",
      "[606]\ttrain-rmse:1.17043\ttest-rmse:1.48262\n",
      "[607]\ttrain-rmse:1.17022\ttest-rmse:1.48259\n",
      "[608]\ttrain-rmse:1.16998\ttest-rmse:1.48259\n",
      "[609]\ttrain-rmse:1.1697\ttest-rmse:1.48255\n",
      "[610]\ttrain-rmse:1.16938\ttest-rmse:1.48257\n",
      "[611]\ttrain-rmse:1.16909\ttest-rmse:1.48257\n",
      "[612]\ttrain-rmse:1.16889\ttest-rmse:1.48257\n",
      "[613]\ttrain-rmse:1.16871\ttest-rmse:1.48256\n",
      "[614]\ttrain-rmse:1.16842\ttest-rmse:1.48258\n"
     ]
    },
    {
     "data": {
      "text/plain": [
       "1194.2121109962463"
      ]
     },
     "execution_count": 15,
     "metadata": {},
     "output_type": "execute_result"
    }
   ],
   "source": [
    "ts = time.time()\n",
    "model_xgboost = xgb.cv(params=xgb_params,\n",
    "                       dtrain=xgb_complete_data,\n",
    "                       num_boost_round=1000,\n",
    "                       nfold=5,\n",
    "                       early_stopping_rounds=5,\n",
    "                       callbacks=[xgb.callback.print_evaluation(show_stdv=False)])\n",
    "time.time() - ts"
   ]
  },
  {
   "cell_type": "code",
   "execution_count": 17,
   "metadata": {},
   "outputs": [
    {
     "data": {
      "text/plain": [
       "609    1.482555\n",
       "Name: test-rmse-mean, dtype: float64"
      ]
     },
     "execution_count": 17,
     "metadata": {},
     "output_type": "execute_result"
    }
   ],
   "source": [
    "model_xgboost[model_xgboost['test-rmse-mean '] == model_xgboost['test-rmse-mean'].min()]['test-rmse-mean']"
   ]
  },
  {
   "cell_type": "code",
   "execution_count": 18,
   "metadata": {},
   "outputs": [
    {
     "data": {
      "text/plain": [
       "609"
      ]
     },
     "execution_count": 18,
     "metadata": {},
     "output_type": "execute_result"
    }
   ],
   "source": [
    "model_xgboost[model_xgboost['test-rmse-mean'] == model_xgboost['test-rmse-mean'].min()].index[0]"
   ]
  },
  {
   "cell_type": "code",
   "execution_count": 21,
   "metadata": {},
   "outputs": [],
   "source": [
    "model_lgb = xgb.cv(params=xgb_params,\n",
    "                   dtrain=xgb_complete_data,\n",
    "                   num_boost_round=10,\n",
    "                   nfold=5,\n",
    "                   early_stopping_rounds=5)\n"
   ]
  },
  {
   "cell_type": "code",
   "execution_count": 22,
   "metadata": {},
   "outputs": [
    {
     "data": {
      "text/html": [
       "<div>\n",
       "<style scoped>\n",
       "    .dataframe tbody tr th:only-of-type {\n",
       "        vertical-align: middle;\n",
       "    }\n",
       "\n",
       "    .dataframe tbody tr th {\n",
       "        vertical-align: top;\n",
       "    }\n",
       "\n",
       "    .dataframe thead th {\n",
       "        text-align: right;\n",
       "    }\n",
       "</style>\n",
       "<table border=\"1\" class=\"dataframe\">\n",
       "  <thead>\n",
       "    <tr style=\"text-align: right;\">\n",
       "      <th></th>\n",
       "      <th>train-rmse-mean</th>\n",
       "      <th>train-rmse-std</th>\n",
       "      <th>test-rmse-mean</th>\n",
       "      <th>test-rmse-std</th>\n",
       "    </tr>\n",
       "  </thead>\n",
       "  <tbody>\n",
       "    <tr>\n",
       "      <th>0</th>\n",
       "      <td>13.960468</td>\n",
       "      <td>0.015485</td>\n",
       "      <td>13.960437</td>\n",
       "      <td>0.062727</td>\n",
       "    </tr>\n",
       "    <tr>\n",
       "      <th>1</th>\n",
       "      <td>13.823003</td>\n",
       "      <td>0.015311</td>\n",
       "      <td>13.823118</td>\n",
       "      <td>0.062874</td>\n",
       "    </tr>\n",
       "    <tr>\n",
       "      <th>2</th>\n",
       "      <td>13.686912</td>\n",
       "      <td>0.015134</td>\n",
       "      <td>13.687187</td>\n",
       "      <td>0.062999</td>\n",
       "    </tr>\n",
       "    <tr>\n",
       "      <th>3</th>\n",
       "      <td>13.552211</td>\n",
       "      <td>0.014974</td>\n",
       "      <td>13.552674</td>\n",
       "      <td>0.063234</td>\n",
       "    </tr>\n",
       "    <tr>\n",
       "      <th>4</th>\n",
       "      <td>13.418870</td>\n",
       "      <td>0.014796</td>\n",
       "      <td>13.419506</td>\n",
       "      <td>0.063392</td>\n",
       "    </tr>\n",
       "    <tr>\n",
       "      <th>5</th>\n",
       "      <td>13.286883</td>\n",
       "      <td>0.014638</td>\n",
       "      <td>13.287629</td>\n",
       "      <td>0.063620</td>\n",
       "    </tr>\n",
       "    <tr>\n",
       "      <th>6</th>\n",
       "      <td>13.156218</td>\n",
       "      <td>0.014470</td>\n",
       "      <td>13.157180</td>\n",
       "      <td>0.063787</td>\n",
       "    </tr>\n",
       "    <tr>\n",
       "      <th>7</th>\n",
       "      <td>13.026886</td>\n",
       "      <td>0.014310</td>\n",
       "      <td>13.027913</td>\n",
       "      <td>0.063970</td>\n",
       "    </tr>\n",
       "    <tr>\n",
       "      <th>8</th>\n",
       "      <td>12.898854</td>\n",
       "      <td>0.014157</td>\n",
       "      <td>12.900069</td>\n",
       "      <td>0.064153</td>\n",
       "    </tr>\n",
       "    <tr>\n",
       "      <th>9</th>\n",
       "      <td>12.772122</td>\n",
       "      <td>0.014017</td>\n",
       "      <td>12.773477</td>\n",
       "      <td>0.064264</td>\n",
       "    </tr>\n",
       "  </tbody>\n",
       "</table>\n",
       "</div>"
      ],
      "text/plain": [
       "   train-rmse-mean  train-rmse-std  test-rmse-mean  test-rmse-std\n",
       "0        13.960468        0.015485       13.960437       0.062727\n",
       "1        13.823003        0.015311       13.823118       0.062874\n",
       "2        13.686912        0.015134       13.687187       0.062999\n",
       "3        13.552211        0.014974       13.552674       0.063234\n",
       "4        13.418870        0.014796       13.419506       0.063392\n",
       "5        13.286883        0.014638       13.287629       0.063620\n",
       "6        13.156218        0.014470       13.157180       0.063787\n",
       "7        13.026886        0.014310       13.027913       0.063970\n",
       "8        12.898854        0.014157       12.900069       0.064153\n",
       "9        12.772122        0.014017       12.773477       0.064264"
      ]
     },
     "execution_count": 22,
     "metadata": {},
     "output_type": "execute_result"
    }
   ],
   "source": [
    "model_lgb"
   ]
  },
  {
   "cell_type": "code",
   "execution_count": 33,
   "metadata": {},
   "outputs": [
    {
     "data": {
      "text/plain": [
       "9"
      ]
     },
     "execution_count": 33,
     "metadata": {},
     "output_type": "execute_result"
    }
   ],
   "source": [
    "model_lgb[model_lgb['test-rmse-mean'] == model_lgb['test-rmse-mean'].min()].index[0]"
   ]
  },
  {
   "cell_type": "markdown",
   "metadata": {},
   "source": [
    "### Let us enhance the model by using only dense predictors\n",
    "\n",
    "Since the results look encouraging, let us try including only dense predictors."
   ]
  },
  {
   "cell_type": "code",
   "execution_count": 35,
   "metadata": {},
   "outputs": [],
   "source": [
    "def get_prediction_score(columns, data=train, params=xgb_params):\n",
    "    X = train[columns]\n",
    "    Y = train[['log_target']]\n",
    "    \n",
    "    xgb_complete_data = xgb.DMatrix(X, Y, feature_names=columns)\n",
    "    \n",
    "    model_xgb = xgb.cv(params=xgb_params,\n",
    "                       dtrain=xgb_complete_data,\n",
    "                       num_boost_round=1000,\n",
    "                       nfold=5,\n",
    "                       early_stopping_rounds=5)\n",
    "    \n",
    "    min_test_error_rec = model_xgb[model_xgb['test-rmse-mean'] == model_xgb['test-rmse-mean'].min()]\n",
    "    num_rounds = min_test_error_rec.index[0]\n",
    "    min_test_error = min_test_error_rec['test-rmse-mean'].values[0]\n",
    "    \n",
    "    return (min_test_error, num_rounds)"
   ]
  },
  {
   "cell_type": "code",
   "execution_count": 38,
   "metadata": {},
   "outputs": [],
   "source": [
    "def get_model_with_predictors_beyond_given_threshold(percent_threshold=10, data=train, params=xgb_params):\n",
    "    rel_cols = get_rel_cols(percent_threshold, data)\n",
    "    \n",
    "    (best_score, num_iterations) = get_prediction_score(rel_cols, data, params)    \n",
    "    return (best_score, num_iterations, len(rel_cols))\n",
    "    "
   ]
  },
  {
   "cell_type": "code",
   "execution_count": null,
   "metadata": {},
   "outputs": [],
   "source": [
    "PERCENTAGES_TO_CHECK = [35, 30, 25, 20, 15, 10, 5]\n",
    "percentage_to_prediction_score = dict()\n",
    "percentage_to_num_predictors = dict()\n",
    "percentage_to_num_model_iterations = dict()"
   ]
  },
  {
   "cell_type": "code",
   "execution_count": null,
   "metadata": {},
   "outputs": [],
   "source": [
    "ts = time.time()\n",
    "for percent in PERCENTAGES_TO_CHECK:\n",
    "    (best_score, num_iterations, num_predictors) = \\\n",
    "        get_model_with_predictors_beyond_given_threshold(percent_threshold=percent)\n",
    "    percentage_to_prediction_score[percent] = best_score\n",
    "    percentage_to_num_model_iterations[percent] = num_iterations\n",
    "    percentage_to_num_predictors[percent] = num_predictors\n",
    "time.time() - ts"
   ]
  },
  {
   "cell_type": "code",
   "execution_count": null,
   "metadata": {},
   "outputs": [],
   "source": [
    "PERCENTAGES_TO_CHECK = np.arange(11, 20, 1)"
   ]
  },
  {
   "cell_type": "code",
   "execution_count": null,
   "metadata": {},
   "outputs": [],
   "source": [
    "ts = time.time()\n",
    "for percent in PERCENTAGES_TO_CHECK:\n",
    "    (best_score, num_iterations, num_predictors) = \\\n",
    "        get_model_with_predictors_beyond_given_threshold(percent_threshold=percent)\n",
    "    percentage_to_prediction_score[percent] = best_score\n",
    "    percentage_to_num_model_iterations[percent] = num_iterations\n",
    "    percentage_to_num_predictors[percent] = num_predictors\n",
    "time.time() - ts"
   ]
  },
  {
   "cell_type": "markdown",
   "metadata": {},
   "source": [
    "### Finding the most optimal subset of columns\n",
    "\n",
    "Now, let us find the most optimal subset of columns which maximises the cross validation score amongst this superset of 40 columns. Let us do this using a greedy method."
   ]
  },
  {
   "cell_type": "code",
   "execution_count": 107,
   "metadata": {},
   "outputs": [],
   "source": [
    "FULL_REL_COLS_LIST = get_rel_cols(17, train)"
   ]
  },
  {
   "cell_type": "code",
   "execution_count": 109,
   "metadata": {},
   "outputs": [],
   "source": [
    "def get_prediction_scores_after_column_addition(given_list, data):\n",
    "    col_list_to_score = dict()\n",
    "    for col in FULL_REL_COLS_LIST:\n",
    "        if col not in given_list:\n",
    "            cols_list = given_list + [col]\n",
    "            score = get_prediction_score(cols_list, data)[0]\n",
    "            col_list_to_score[str(cols_list)] = score\n",
    "            \n",
    "    return sorted(col_list_to_score.items(), key=operator.itemgetter(1))\n",
    "    "
   ]
  },
  {
   "cell_type": "code",
   "execution_count": 110,
   "metadata": {},
   "outputs": [
    {
     "data": {
      "text/plain": [
       "37.065032958984375"
      ]
     },
     "execution_count": 110,
     "metadata": {},
     "output_type": "execute_result"
    }
   ],
   "source": [
    "ts = time.time()\n",
    "\n",
    "columns_list = []\n",
    "MAX_NUM_PREDICTORS  = len(columns_list) + 1\n",
    "max_columns_list_to_score = dict()\n",
    "while len(columns_list) < MAX_NUM_PREDICTORS:\n",
    "    col_list_to_score = get_prediction_scores_after_column_addition(columns_list, train)\n",
    "    columns_list = ast.literal_eval(col_list_to_score[0][0])\n",
    "    max_columns_list_to_score[col_list_to_score[0][0]] = col_list_to_score[0][1]\n",
    "time.time() - ts"
   ]
  },
  {
   "cell_type": "code",
   "execution_count": 111,
   "metadata": {},
   "outputs": [
    {
     "data": {
      "text/plain": [
       "[(\"['f190486d6']\", 1.6449866458904614),\n",
       " (\"['eeb9cd3aa']\", 1.6549665060753382),\n",
       " (\"['c47340d97']\", 1.6564248164011501),\n",
       " (\"['c5a231d81']\", 1.6597331712390317),\n",
       " (\"['66ace2992']\", 1.6597427000135743),\n",
       " (\"['58e2e02e6']\", 1.662740227415354),\n",
       " (\"['adb64ff71']\", 1.6637054978615513),\n",
       " (\"['491b9ee45']\", 1.6641022211337322),\n",
       " (\"['e176a204a']\", 1.6641756120490236),\n",
       " (\"['0572565c2']\", 1.6648001845404812),\n",
       " (\"['1db387535']\", 1.6660756055977954),\n",
       " (\"['1931ccfdd']\", 1.667217694693769),\n",
       " (\"['15ace8c9f']\", 1.667416285644309),\n",
       " (\"['024c577b9']\", 1.6674215815208133),\n",
       " (\"['91f701ba2']\", 1.669414765433305),\n",
       " (\"['0ff32eb98']\", 1.6698816518903408),\n",
       " (\"['26fc93eb7']\", 1.6702095430990647),\n",
       " (\"['963a49cdc']\", 1.6710982011036655),\n",
       " (\"['70feb1494']\", 1.671840619636297),\n",
       " (\"['6619d81fc']\", 1.6726918675576397),\n",
       " (\"['9fd594eec']\", 1.6730804789897662),\n",
       " (\"['703885424']\", 1.6736472114556256),\n",
       " (\"['23310aa6f']\", 1.6741381954941077),\n",
       " (\"['f74e8f13d']\", 1.67481747766058),\n",
       " (\"['58232a6fb']\", 1.6761855988254997),\n",
       " (\"['5c6487af1']\", 1.6775239592899673),\n",
       " (\"['fb49e4212']\", 1.6779218883008193),\n",
       " (\"['1702b5bf0']\", 1.6789725900591224),\n",
       " (\"['2ec5b290f']\", 1.6791327490778838),\n",
       " (\"['58e056e12']\", 1.6793746331401112),\n",
       " (\"['fc99f9426']\", 1.6795563579712862),\n",
       " (\"['324921c7b']\", 1.6796943822992627),\n",
       " (\"['62e59a501']\", 1.6810494837584586),\n",
       " (\"['b43a7cfd5']\", 1.6818860695204014),\n",
       " (\"['6eef030c1']\", 1.682144632221295),\n",
       " (\"['241f0f867']\", 1.6824368091958748),\n",
       " (\"['190db8488']\", 1.6828996719758957),\n",
       " (\"['d6bb78916']\", 1.6834961463484386),\n",
       " (\"['20aa07010']\", 1.6846356029409657),\n",
       " (\"['fb0f5dbfe']\", 1.6857341542185482)]"
      ]
     },
     "execution_count": 111,
     "metadata": {},
     "output_type": "execute_result"
    }
   ],
   "source": [
    "col_list_to_score"
   ]
  },
  {
   "cell_type": "code",
   "execution_count": 112,
   "metadata": {},
   "outputs": [
    {
     "data": {
      "text/plain": [
       "{\"['f190486d6']\": 1.6449866458904614}"
      ]
     },
     "execution_count": 112,
     "metadata": {},
     "output_type": "execute_result"
    }
   ],
   "source": [
    "max_columns_list_to_score"
   ]
  },
  {
   "cell_type": "markdown",
   "metadata": {},
   "source": [
    "### A good portion of the complete algorithm was run as a kaggle script(https://www.kaggle.com/babinu/xgboost-non-sparse-columns-shrink-for-kaggle)\n",
    "\n",
    "I am pasting the subset , which was found to have a very low cross validation score."
   ]
  },
  {
   "cell_type": "code",
   "execution_count": 40,
   "metadata": {},
   "outputs": [],
   "source": [
    "best_pred_cols = ['f190486d6', 'eeb9cd3aa', 'c47340d97', '024c577b9', '2288333b4', 'adb64ff71', '58e2e02e6', '58e056e12', 'd6bb78916', 'fb0f5dbfe', '66ace2992', '1702b5bf0', '77deffdf0', '15ace8c9f', '122c135ed', 'e176a204a', '6eef030c1', 'bc70cbc26', '1184df5c2', '1fe5d56b9', '190db8488', '20aa07010', 'e222309b0', 'ad009c8b9', 'ef30f6be5', 'c0d2348b7', 'c10f31664', '935ca66a9', 'c8d582dd2', '939f628a7']"
   ]
  },
  {
   "cell_type": "code",
   "execution_count": 41,
   "metadata": {},
   "outputs": [
    {
     "data": {
      "text/plain": [
       "30"
      ]
     },
     "execution_count": 41,
     "metadata": {},
     "output_type": "execute_result"
    }
   ],
   "source": [
    "len(best_pred_cols)"
   ]
  },
  {
   "cell_type": "markdown",
   "metadata": {},
   "source": [
    "### Make predictions on the test set.\n",
    "\n",
    "Let us make predictions over the test set with our best model."
   ]
  },
  {
   "cell_type": "code",
   "execution_count": 42,
   "metadata": {},
   "outputs": [],
   "source": [
    "X = train[best_pred_cols]\n",
    "Y = train[['log_target']]\n",
    "\n",
    "xgb_full_data = xgb.DMatrix(X, Y, feature_names=best_pred_cols)"
   ]
  },
  {
   "cell_type": "code",
   "execution_count": 43,
   "metadata": {},
   "outputs": [
    {
     "name": "stdout",
     "output_type": "stream",
     "text": [
      "1.4431472000000003 872\n"
     ]
    },
    {
     "data": {
      "text/plain": [
       "16.58401608467102"
      ]
     },
     "execution_count": 43,
     "metadata": {},
     "output_type": "execute_result"
    }
   ],
   "source": [
    "# We want to know the number of iterations this model took  as well, so that we can train the model over the complete\n",
    "# data for same number of iterations and make predictions over the test set as well.\n",
    "ts = time.time()\n",
    "(score, num_iterations) = get_prediction_score(best_pred_cols, train, xgb_params)\n",
    "print(score, num_iterations)\n",
    "time.time() - ts"
   ]
  },
  {
   "cell_type": "code",
   "execution_count": 46,
   "metadata": {},
   "outputs": [
    {
     "data": {
      "text/plain": [
       "3.5956008434295654"
      ]
     },
     "execution_count": 46,
     "metadata": {},
     "output_type": "execute_result"
    }
   ],
   "source": [
    "ts = time.time()\n",
    "model_xgb = xgb.train(params=xgb_params, \n",
    "                      dtrain=xgb_full_data, \n",
    "                      num_boost_round=num_iterations)\n",
    "time.time() - ts"
   ]
  },
  {
   "cell_type": "code",
   "execution_count": 47,
   "metadata": {},
   "outputs": [
    {
     "data": {
      "text/plain": [
       "74.03381705284119"
      ]
     },
     "execution_count": 47,
     "metadata": {},
     "output_type": "execute_result"
    }
   ],
   "source": [
    "ts = time.time()\n",
    "test = get_test_data(INPUT_DIR)\n",
    "time.time() - ts"
   ]
  },
  {
   "cell_type": "code",
   "execution_count": 50,
   "metadata": {},
   "outputs": [
    {
     "data": {
      "text/plain": [
       "0.44350218772888184"
      ]
     },
     "execution_count": 50,
     "metadata": {},
     "output_type": "execute_result"
    }
   ],
   "source": [
    "ts = time.time()\n",
    "new_X = test[best_pred_cols]\n",
    "xgb_test_X = xgb.DMatrix(new_X, feature_names=best_pred_cols)\n",
    "test_log_predictions = model_xgb.predict(xgb_test_X)\n",
    "test_log_predictions[test_log_predictions <0] = 0\n",
    "test['target'] = np.exp(test_log_predictions) - 1.0\n",
    "time.time() - ts"
   ]
  },
  {
   "cell_type": "code",
   "execution_count": 51,
   "metadata": {},
   "outputs": [],
   "source": [
    "test[['ID', 'target']].to_csv('submission_gradient_boosting_xgboost.csv', index=False)"
   ]
  }
 ],
 "metadata": {
  "kernelspec": {
   "display_name": "Python 3",
   "language": "python",
   "name": "python3"
  },
  "language_info": {
   "codemirror_mode": {
    "name": "ipython",
    "version": 3
   },
   "file_extension": ".py",
   "mimetype": "text/x-python",
   "name": "python",
   "nbconvert_exporter": "python",
   "pygments_lexer": "ipython3",
   "version": "3.6.9"
  }
 },
 "nbformat": 4,
 "nbformat_minor": 2
}
