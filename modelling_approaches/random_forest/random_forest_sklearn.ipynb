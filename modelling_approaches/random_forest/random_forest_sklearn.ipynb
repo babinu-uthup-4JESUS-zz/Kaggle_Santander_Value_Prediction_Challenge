{
 "cells": [
  {
   "cell_type": "markdown",
   "metadata": {},
   "source": [
    "## Summary\n",
    "\n",
    "To apply random forest modeling technique to the problem of predicting customer value."
   ]
  },
  {
   "cell_type": "code",
   "execution_count": 2,
   "metadata": {},
   "outputs": [],
   "source": [
    "import time\n",
    "\n",
    "import sys\n",
    "sys.path.append('../../common_routines')\n",
    "\n",
    "from relevant_functions import (get_train_data,\n",
    "                                get_test_data,\n",
    "                                get_all_predictor_cols,\n",
    "                                get_rel_cols)\n",
    "\n",
    "from sklearn.ensemble import RandomForestRegressor\n",
    "from sklearn.model_selection import cross_val_score\n",
    "\n",
    "import numpy as np"
   ]
  },
  {
   "cell_type": "code",
   "execution_count": 3,
   "metadata": {},
   "outputs": [],
   "source": [
    "INPUT_DIR = '../../input/'"
   ]
  },
  {
   "cell_type": "code",
   "execution_count": 4,
   "metadata": {},
   "outputs": [
    {
     "data": {
      "text/plain": [
       "5.264724016189575"
      ]
     },
     "execution_count": 4,
     "metadata": {},
     "output_type": "execute_result"
    }
   ],
   "source": [
    "ts = time.time()\n",
    "train = get_train_data(INPUT_DIR)\n",
    "time.time() - ts"
   ]
  },
  {
   "cell_type": "markdown",
   "metadata": {},
   "source": [
    "### Model using all predictors.\n",
    "\n",
    "Let us construct a RandomForestRegressor using all available predictors and see how it performs."
   ]
  },
  {
   "cell_type": "code",
   "execution_count": 6,
   "metadata": {},
   "outputs": [],
   "source": [
    "all_predictor_cols = get_all_predictor_cols(train)"
   ]
  },
  {
   "cell_type": "code",
   "execution_count": 18,
   "metadata": {},
   "outputs": [],
   "source": [
    "X = train[all_predictor_cols]\n",
    "Y = train[['log_target']].values.ravel() "
   ]
  },
  {
   "cell_type": "code",
   "execution_count": 21,
   "metadata": {},
   "outputs": [
    {
     "data": {
      "text/plain": [
       "93.69904685020447"
      ]
     },
     "execution_count": 21,
     "metadata": {},
     "output_type": "execute_result"
    }
   ],
   "source": [
    "ts = time.time()\n",
    "cross_val_scores = cross_val_score(RandomForestRegressor(n_estimators=10), X, Y, cv=5, \n",
    "                                   scoring='neg_mean_squared_error')\n",
    "time.time() - ts"
   ]
  },
  {
   "cell_type": "code",
   "execution_count": 20,
   "metadata": {},
   "outputs": [
    {
     "name": "stdout",
     "output_type": "stream",
     "text": [
      "[1.45926763 1.5459559  1.4605605  1.45519944 1.58377132]\n",
      "1.5019064974970413\n"
     ]
    }
   ],
   "source": [
    "print(np.sqrt(-cross_val_scores))\n",
    "print(np.sqrt(-cross_val_scores.mean()))"
   ]
  },
  {
   "cell_type": "code",
   "execution_count": 22,
   "metadata": {},
   "outputs": [
    {
     "data": {
      "text/plain": [
       "182.92887115478516"
      ]
     },
     "execution_count": 22,
     "metadata": {},
     "output_type": "execute_result"
    }
   ],
   "source": [
    "ts = time.time()\n",
    "cross_val_scores = cross_val_score(RandomForestRegressor(n_estimators=20), X, Y, cv=5, \n",
    "                                   scoring='neg_mean_squared_error')\n",
    "time.time() - ts"
   ]
  },
  {
   "cell_type": "code",
   "execution_count": 23,
   "metadata": {},
   "outputs": [
    {
     "name": "stdout",
     "output_type": "stream",
     "text": [
      "[1.43088676 1.50581471 1.409959   1.45473708 1.52704562]\n",
      "1.4663579048875914\n"
     ]
    }
   ],
   "source": [
    "print(np.sqrt(-cross_val_scores))\n",
    "print(np.sqrt(-cross_val_scores.mean()))"
   ]
  },
  {
   "cell_type": "code",
   "execution_count": 24,
   "metadata": {},
   "outputs": [
    {
     "data": {
      "text/plain": [
       "273.5930070877075"
      ]
     },
     "execution_count": 24,
     "metadata": {},
     "output_type": "execute_result"
    }
   ],
   "source": [
    "ts = time.time()\n",
    "cross_val_scores = cross_val_score(RandomForestRegressor(n_estimators=30), X, Y, cv=5, \n",
    "                                   scoring='neg_mean_squared_error')\n",
    "time.time() - ts"
   ]
  },
  {
   "cell_type": "code",
   "execution_count": 25,
   "metadata": {},
   "outputs": [
    {
     "name": "stdout",
     "output_type": "stream",
     "text": [
      "[1.42211505 1.51459686 1.40415326 1.43688826 1.50210224]\n",
      "1.45664136017895\n"
     ]
    }
   ],
   "source": [
    "print(np.sqrt(-cross_val_scores))\n",
    "print(np.sqrt(-cross_val_scores.mean()))"
   ]
  },
  {
   "cell_type": "code",
   "execution_count": 26,
   "metadata": {},
   "outputs": [
    {
     "data": {
      "text/plain": [
       "377.41454696655273"
      ]
     },
     "execution_count": 26,
     "metadata": {},
     "output_type": "execute_result"
    }
   ],
   "source": [
    "ts = time.time()\n",
    "cross_val_scores = cross_val_score(RandomForestRegressor(n_estimators=40), X, Y, cv=5, \n",
    "                                   scoring='neg_mean_squared_error')\n",
    "time.time() - ts"
   ]
  },
  {
   "cell_type": "code",
   "execution_count": 27,
   "metadata": {},
   "outputs": [
    {
     "name": "stdout",
     "output_type": "stream",
     "text": [
      "[1.41280729 1.47719827 1.40252617 1.43266864 1.50997465]\n",
      "1.447603654374002\n"
     ]
    }
   ],
   "source": [
    "print(np.sqrt(-cross_val_scores))\n",
    "print(np.sqrt(-cross_val_scores.mean()))"
   ]
  },
  {
   "cell_type": "markdown",
   "metadata": {},
   "source": [
    "### Finetuning parameters\n",
    "\n",
    "The default values of other parameters such as max_depth, min_samples_leaf look reasonable and we do not see any reason to change them now. "
   ]
  },
  {
   "cell_type": "markdown",
   "metadata": {},
   "source": [
    "### Trainer on denser columns\n",
    "\n",
    "Let us see whether training the random forest regressor only on denser columns would give us a better result or not."
   ]
  },
  {
   "cell_type": "code",
   "execution_count": 40,
   "metadata": {},
   "outputs": [],
   "source": [
    "percentages_fill_of_data_cols = [0, 1, 2, 5, 10, 15, 20, 25, 30, 35]\n",
    "#percentages_fill_of_data_cols = [2]\n",
    "percent_to_cross_val_score = dict()"
   ]
  },
  {
   "cell_type": "code",
   "execution_count": 41,
   "metadata": {},
   "outputs": [
    {
     "data": {
      "text/plain": [
       "293.7400279045105"
      ]
     },
     "execution_count": 41,
     "metadata": {},
     "output_type": "execute_result"
    }
   ],
   "source": [
    "ts = time.time()\n",
    "for percent in percentages_fill_of_data_cols:\n",
    "    rel_cols  = get_rel_cols(percent, train)\n",
    "    X = train[rel_cols]\n",
    "    Y = train[['log_target']].values.ravel()\n",
    "    cross_val_scores = cross_val_score(RandomForestRegressor(random_state=0, n_estimators=10), \n",
    "                                       X, \n",
    "                                       Y,\n",
    "                                       cv=5, \n",
    "                                       scoring='neg_mean_squared_error')\n",
    "    percent_to_cross_val_score[percent] = np.sqrt(-cross_val_scores.mean())\n",
    "\n",
    "time.time() - ts"
   ]
  },
  {
   "cell_type": "code",
   "execution_count": 42,
   "metadata": {},
   "outputs": [
    {
     "data": {
      "text/plain": [
       "{0: 1.4886070358264116,\n",
       " 1: 1.5063663807614536,\n",
       " 2: 1.4955048213960929,\n",
       " 5: 1.512796560770603,\n",
       " 10: 1.518216323411931,\n",
       " 15: 1.52604954208457,\n",
       " 20: 1.537076621849582,\n",
       " 25: 1.5373016475326733,\n",
       " 30: 1.5373016475326733,\n",
       " 35: 1.6951832984270436}"
      ]
     },
     "execution_count": 42,
     "metadata": {},
     "output_type": "execute_result"
    }
   ],
   "source": [
    "percent_to_cross_val_score"
   ]
  },
  {
   "cell_type": "markdown",
   "metadata": {},
   "source": [
    "### Conclusion\n",
    "\n",
    "It looks like the model performance is at it's best when it uses maximum number of predictors. I am not quite sure of any fine tunings that can be done at this point. Hence, let us train the model over the entire training set and generate predictions on the test set."
   ]
  },
  {
   "cell_type": "code",
   "execution_count": 48,
   "metadata": {},
   "outputs": [
    {
     "data": {
      "text/plain": [
       "498.724182844162"
      ]
     },
     "execution_count": 48,
     "metadata": {},
     "output_type": "execute_result"
    }
   ],
   "source": [
    "ts = time.time()\n",
    "X = train[all_predictor_cols]\n",
    "Y = train[['log_target']].values.ravel()\n",
    "my_model = RandomForestRegressor(random_state=0, n_estimators=200)\n",
    "my_model.fit(X, Y)\n",
    "time.time() - ts"
   ]
  },
  {
   "cell_type": "code",
   "execution_count": 49,
   "metadata": {},
   "outputs": [
    {
     "data": {
      "text/plain": [
       "71.0817358493805"
      ]
     },
     "execution_count": 49,
     "metadata": {},
     "output_type": "execute_result"
    }
   ],
   "source": [
    "ts = time.time()\n",
    "test = get_test_data(INPUT_DIR)\n",
    "time.time() - ts"
   ]
  },
  {
   "cell_type": "code",
   "execution_count": 50,
   "metadata": {},
   "outputs": [
    {
     "data": {
      "text/plain": [
       "8.671373128890991"
      ]
     },
     "execution_count": 50,
     "metadata": {},
     "output_type": "execute_result"
    }
   ],
   "source": [
    "ts = time.time()\n",
    "new_X = test[all_predictor_cols]\n",
    "test_log_predictions = my_model.predict(new_X)\n",
    "test_log_predictions[test_log_predictions < 0 ] = 0\n",
    "\n",
    "test['target'] = np.exp(test_log_predictions) - 1.0\n",
    "time.time() - ts"
   ]
  },
  {
   "cell_type": "code",
   "execution_count": 51,
   "metadata": {},
   "outputs": [],
   "source": [
    "test[['ID', 'target']].to_csv('submission_random_forest_sklearn.csv', index=False)"
   ]
  }
 ],
 "metadata": {
  "kernelspec": {
   "display_name": "Python 3",
   "language": "python",
   "name": "python3"
  },
  "language_info": {
   "codemirror_mode": {
    "name": "ipython",
    "version": 3
   },
   "file_extension": ".py",
   "mimetype": "text/x-python",
   "name": "python",
   "nbconvert_exporter": "python",
   "pygments_lexer": "ipython3",
   "version": "3.6.9"
  }
 },
 "nbformat": 4,
 "nbformat_minor": 2
}
